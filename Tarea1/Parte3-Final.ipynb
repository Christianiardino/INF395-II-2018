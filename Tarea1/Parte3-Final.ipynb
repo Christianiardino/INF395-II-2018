{
 "cells": [
  {
   "cell_type": "code",
   "execution_count": 1,
   "metadata": {
    "ExecuteTime": {
     "end_time": "2018-10-07T20:49:51.539016Z",
     "start_time": "2018-10-07T20:49:51.459687Z"
    }
   },
   "outputs": [
    {
     "name": "stderr",
     "output_type": "stream",
     "text": [
      "Using TensorFlow backend.\n"
     ]
    }
   ],
   "source": [
    "import scipy.io as sio\n",
    "import numpy as np\n",
    "import pandas as pd\n",
    "from sklearn.preprocessing import StandardScaler \n",
    "from keras import Sequential\n",
    "from keras.layers.core import Dense, Activation\n",
    "from keras.layers import Dropout\n",
    "from keras.optimizers import SGD, Adam, RMSprop, Adagrad, Adadelta\n",
    "from keras import backend as K\n",
    "import tensorflow as tf\n",
    "import keras\n",
    "import matplotlib.pyplot as plt\n",
    "from keras import utils as np_utils\n",
    "from sklearn.preprocessing import LabelEncoder\n",
    "from keras import regularizers as reg\n"
   ]
  },
  {
   "cell_type": "markdown",
   "metadata": {},
   "source": [
    "a. Carga de Datos"
   ]
  },
  {
   "cell_type": "markdown",
   "metadata": {},
   "source": [
    "Hay 3500 datos para entrenamiento y 1050 para test."
   ]
  },
  {
   "cell_type": "code",
   "execution_count": 2,
   "metadata": {
    "ExecuteTime": {
     "end_time": "2018-10-07T20:49:53.172376Z",
     "start_time": "2018-10-07T20:49:53.032307Z"
    },
    "collapsed": true
   },
   "outputs": [],
   "source": [
    "mat_train = sio.loadmat('AgeGenderClassification/eventrain.mat')\n",
    "mat_test = sio.loadmat('AgeGenderClassification/eventest.mat')"
   ]
  },
  {
   "cell_type": "code",
   "execution_count": 3,
   "metadata": {
    "ExecuteTime": {
     "end_time": "2018-10-07T18:10:22.921369Z",
     "start_time": "2018-10-07T18:10:22.919155Z"
    },
    "collapsed": true
   },
   "outputs": [],
   "source": [
    "data_test = mat_test['tecoll'][0][0]\n",
    "data_train = mat_train['trcoll'][0][0]"
   ]
  },
  {
   "cell_type": "code",
   "execution_count": 4,
   "metadata": {
    "ExecuteTime": {
     "end_time": "2018-10-07T18:10:22.921369Z",
     "start_time": "2018-10-07T18:10:22.919155Z"
    }
   },
   "outputs": [
    {
     "data": {
      "text/plain": [
       "1050"
      ]
     },
     "execution_count": 4,
     "metadata": {},
     "output_type": "execute_result"
    }
   ],
   "source": [
    "len(data_test[0])"
   ]
  },
  {
   "cell_type": "code",
   "execution_count": 5,
   "metadata": {},
   "outputs": [
    {
     "data": {
      "text/plain": [
       "3500"
      ]
     },
     "execution_count": 5,
     "metadata": {},
     "output_type": "execute_result"
    }
   ],
   "source": [
    "len(data_train[0])"
   ]
  },
  {
   "cell_type": "markdown",
   "metadata": {},
   "source": [
    "b. Selección de representación"
   ]
  },
  {
   "cell_type": "markdown",
   "metadata": {},
   "source": [
    "Se seleccionaron los siguientes datos para entrenar:"
   ]
  },
  {
   "cell_type": "markdown",
   "metadata": {
    "ExecuteTime": {
     "end_time": "2018-10-07T18:11:21.845193Z",
     "start_time": "2018-10-07T18:11:21.842402Z"
    }
   },
   "source": [
    "#genFeat = data_train[0]            Características de las imagenes\n",
    "#ageClass = data_train[1]           Edad\n",
    "#genClass = data_train[2]           Género\n",
    "#ffcoefs = data_train[3]            Fisherface, reconocimiento de luz y expresiones\n",
    "#faceGist = data_train[4]           Gesto"
   ]
  },
  {
   "cell_type": "code",
   "execution_count": 7,
   "metadata": {
    "collapsed": true
   },
   "outputs": [],
   "source": [
    "X_train=pd.DataFrame(np.float64(data_train[2]))"
   ]
  },
  {
   "cell_type": "code",
   "execution_count": 8,
   "metadata": {
    "collapsed": true
   },
   "outputs": [],
   "source": [
    "#Caracteristicas del FisherFace\n",
    "ffc=data_train[3]\n",
    "for i in range(len(ffc[0])):\n",
    "    X_train['ffc'+str(i)]=np.float64(ffc[:,i])\n",
    "\n",
    "#Caraceristicas del Gesto\n",
    "fcg=data_train[4]\n",
    "for i in range(len(fcg[0])):\n",
    "    X_train['fcg'+str(i)]=np.float64(fcg[:,i])\n",
    "\n",
    "#Caraceristicas de la imagen\n",
    "fim=data_train[0]\n",
    "for i in range(len(fim[0])):\n",
    "    X_train['fim'+str(i)]=np.float64(fim[:,i])"
   ]
  },
  {
   "cell_type": "code",
   "execution_count": 9,
   "metadata": {
    "collapsed": true
   },
   "outputs": [],
   "source": [
    "X_test=pd.DataFrame(np.float64(data_test[2]))"
   ]
  },
  {
   "cell_type": "code",
   "execution_count": 10,
   "metadata": {
    "collapsed": true
   },
   "outputs": [],
   "source": [
    "#Caracteristicas del FisherFace\n",
    "ffc=data_test[3]\n",
    "for i in range(len(ffc[0])):\n",
    "    X_test['ffc'+str(i)]=np.float64(ffc[:,i])\n",
    "\n",
    "#Caraceristicas del Gesto\n",
    "fcg=data_test[4]\n",
    "for i in range(len(fcg[0])):\n",
    "    X_test['fcg'+str(i)]=np.float64(fcg[:,i])\n",
    "\n",
    "#Caraceristicas de la imagen\n",
    "fim=data_test[0]\n",
    "for i in range(len(fim[0])):\n",
    "    X_test['fim'+str(i)]=np.float64(fim[:,i])"
   ]
  },
  {
   "cell_type": "code",
   "execution_count": 11,
   "metadata": {
    "collapsed": true
   },
   "outputs": [],
   "source": [
    "scaler_x=StandardScaler().fit(X_train)"
   ]
  },
  {
   "cell_type": "code",
   "execution_count": 12,
   "metadata": {
    "collapsed": true
   },
   "outputs": [],
   "source": [
    "X_train_scaled=pd.DataFrame(scaler_x.transform(X_train), columns=X_train.columns)\n",
    "X_test_scaled=pd.DataFrame(scaler_x.transform(X_test), columns=X_test.columns)\n",
    "X_val_scaled=X_test_scaled\n",
    "#X_val_scaled=X_train_scaled[0:500]\n",
    "#X_train_scaled=X_train_scaled[500:]"
   ]
  },
  {
   "cell_type": "code",
   "execution_count": 13,
   "metadata": {
    "collapsed": true
   },
   "outputs": [],
   "source": [
    "#scaler_y=StandardScaler().fit(y_train)"
   ]
  },
  {
   "cell_type": "code",
   "execution_count": 14,
   "metadata": {},
   "outputs": [
    {
     "name": "stderr",
     "output_type": "stream",
     "text": [
      "/home/rohermosilla/.conda/envs/redesneuronales/lib/python3.6/site-packages/sklearn/preprocessing/label.py:235: DataConversionWarning: A column-vector y was passed when a 1d array was expected. Please change the shape of y to (n_samples, ), for example using ravel().\n",
      "  y = column_or_1d(y, warn=True)\n"
     ]
    }
   ],
   "source": [
    "y_train=pd.DataFrame(np.float64(data_train[1])) #Edad\n",
    "y_test=pd.DataFrame(np.float64(data_test[1])) #Edad\n",
    "\n",
    "label_encoder1 = LabelEncoder()\n",
    "y_train = label_encoder1.fit_transform(y_train)\n",
    "y_train_c=keras.utils.to_categorical(y_train, num_classes=7)\n",
    "label_encoder2 = LabelEncoder()\n",
    "y_test = label_encoder2.fit_transform(y_test)\n",
    "y_test_c=keras.utils.to_categorical(y_test, num_classes=7)\n",
    "y_val_c = y_test_c\n"
   ]
  },
  {
   "cell_type": "code",
   "execution_count": 15,
   "metadata": {
    "ExecuteTime": {
     "end_time": "2018-10-14T02:00:05.795175Z",
     "start_time": "2018-10-14T02:00:05.792450Z"
    },
    "collapsed": true
   },
   "outputs": [],
   "source": [
    "def plot_chart(history):\n",
    "    plt.rcParams[\"figure.figsize\"] = [12,4]\n",
    "    subtitle=''\n",
    "    global n_test\n",
    "    n_test=1\n",
    "    var_activation=''\n",
    "    train_loss=history.history['loss']\n",
    "    test_loss=history.history['val_loss']\n",
    "    plt.subplot(1,2,1)\n",
    "    plt.plot(train_loss)\n",
    "    plt.plot(test_loss)\n",
    "    n_test=n_test+1\n",
    "    plt.title('MODEL LOSS, test #'+str(n_test)+'\\n'+\n",
    "              str.capitalize(var_activation)+', '+subtitle)\n",
    "    plt.ylabel('loss')\n",
    "    plt.xlabel('epoch')\n",
    "    plt.legend(['train', 'test'], loc='upper left')\n",
    "    \n",
    "    plt.subplot(1,2,2)\n",
    "    min_v=0\n",
    "    max_v=np.max(train_loss)\n",
    "    plt.title('TRAIN VS TEST, test #'+str(n_test)+'\\n'+\n",
    "              str.capitalize(var_activation)+', '+subtitle)\n",
    "    plt.xlabel('train')\n",
    "    plt.ylabel('test')\n",
    "    plt.grid()\n",
    "    plt.plot([0,max_v], [0,max_v], color='red', linewidth=0.5)\n",
    "    plt.scatter(train_loss,test_loss)\n",
    "    plt.xlim(0,max_v)\n",
    "    plt.ylim(0,max_v)\n",
    "    plt.show()"
   ]
  },
  {
   "cell_type": "code",
   "execution_count": 73,
   "metadata": {
    "collapsed": true
   },
   "outputs": [],
   "source": [
    "def convert_to_output(df):\n",
    "    df=df.replace(6,75)\n",
    "    df=df.replace(5,51)\n",
    "    df=df.replace(4,25)\n",
    "    df=df.replace(3,16)\n",
    "    df=df.replace(2,10)\n",
    "    df=df.replace(1,5)\n",
    "    df=df.replace(0,1)\n",
    "    return df"
   ]
  },
  {
   "cell_type": "code",
   "execution_count": 74,
   "metadata": {
    "collapsed": true
   },
   "outputs": [],
   "source": [
    "def get_mce(predict):\n",
    "    n=len(y_test)\n",
    "    df_yt = pd.DataFrame(y_test)\n",
    "    df_yt = convert_to_output(df_yt)\n",
    "    df_pr=pd.DataFrame(np.argmax(np.around(predict),axis=-1))\n",
    "    df_pr = convert_to_output(df_pr)\n",
    "    mce_individual = pow(df_pr-df_yt,2)\n",
    "    output=pd.DataFrame()\n",
    "    output['y']=df_yt[0]\n",
    "    output['pr']=df_pr\n",
    "    output['diff']=mce_individual\n",
    "    aciertos=len(output[output['diff']==0])\n",
    "    print('Aciertos: '+str(aciertos)+' de '+str(n)+' ('+str(round(aciertos*100/n,2))+')%')\n",
    "    output.to_excel('salida.xlsx')\n",
    "    print(output.head())\n",
    "    total = np.sum(mce_individual[0])/n \n",
    "    return(total)"
   ]
  },
  {
   "cell_type": "markdown",
   "metadata": {},
   "source": [
    "C. Modelo y entrenamiento."
   ]
  },
  {
   "cell_type": "markdown",
   "metadata": {},
   "source": [
    "El modelo se entreno con la siguiente configuración,resaltando que no se logro el objetivo de MSE menor a 100 exigido por la tarea, la mejor tasa de aciertos fue del 42%"
   ]
  },
  {
   "cell_type": "code",
   "execution_count": 101,
   "metadata": {
    "ExecuteTime": {
     "end_time": "2018-10-14T02:00:06.202489Z",
     "start_time": "2018-10-14T02:00:06.199309Z"
    },
    "collapsed": true
   },
   "outputs": [],
   "source": [
    "def define_model():\n",
    "    global X_train_scaled\n",
    "    global X_val_scaled\n",
    "    global X_test_scaled\n",
    "    global sgd\n",
    "    model = Sequential()\n",
    "    n_nodes=300\n",
    "    model.add(Dense(n_nodes, input_dim=X_train_scaled.shape[1],kernel_initializer='he_uniform',\n",
    "            activation='relu', kernel_regularizer=reg.l2(0.1)))\n",
    "    model.add(Dense(n_nodes, kernel_initializer='he_uniform', activation='relu'))\n",
    "    model.add(Dense(n_nodes, kernel_initializer='he_uniform', activation='relu'))\n",
    "    model.add(Dense(n_nodes, kernel_initializer='he_uniform', activation='relu'))\n",
    "    model.add(Dense(n_nodes, kernel_initializer='he_uniform', activation='relu'))\n",
    "    model.add(Dense(n_nodes, kernel_initializer='he_uniform', activation='linear'))\n",
    "    model.add(Dense(7, kernel_initializer='he_uniform', activation='softmax'))\n",
    "    opt = SGD(lr=0.01)\n",
    "    model.compile(optimizer=opt, loss='categorical_crossentropy')\n",
    "    return (model)"
   ]
  },
  {
   "cell_type": "code",
   "execution_count": 102,
   "metadata": {
    "ExecuteTime": {
     "end_time": "2018-10-14T02:00:07.792880Z",
     "start_time": "2018-10-14T02:00:07.790106Z"
    },
    "collapsed": true
   },
   "outputs": [],
   "source": [
    "def train_model(model):\n",
    "    global X_train_scaled\n",
    "    global X_val_scaled\n",
    "    global X_test_scaled\n",
    "    global y_train_c\n",
    "    global y_val_c\n",
    "    history = model.fit(\n",
    "        X_train_scaled,\n",
    "        y_train_c,\n",
    "        epochs=50,\n",
    "        verbose=0,\n",
    "        batch_size=150,\n",
    "        validation_data=(X_val_scaled, y_val_c))\n",
    "    return (history)"
   ]
  },
  {
   "cell_type": "code",
   "execution_count": 103,
   "metadata": {
    "collapsed": true
   },
   "outputs": [],
   "source": [
    "model=define_model()"
   ]
  },
  {
   "cell_type": "code",
   "execution_count": 104,
   "metadata": {
    "collapsed": true
   },
   "outputs": [],
   "source": [
    "history=train_model(model)"
   ]
  },
  {
   "cell_type": "code",
   "execution_count": 105,
   "metadata": {},
   "outputs": [
    {
     "data": {
      "image/png": "[encoded data removed]",
      "text/plain": [
       "<Figure size 864x288 with 2 Axes>"
      ]
     },
     "metadata": {
      "needs_background": "light"
     },
     "output_type": "display_data"
    }
   ],
   "source": [
    "plot_chart(history)"
   ]
  },
  {
   "cell_type": "code",
   "execution_count": 106,
   "metadata": {
    "collapsed": true
   },
   "outputs": [],
   "source": [
    "predict=model.predict(X_test_scaled)"
   ]
  },
  {
   "cell_type": "code",
   "execution_count": 107,
   "metadata": {},
   "outputs": [
    {
     "data": {
      "text/html": [
       "<div>\n",
       "<style scoped>\n",
       "    .dataframe tbody tr th:only-of-type {\n",
       "        vertical-align: middle;\n",
       "    }\n",
       "\n",
       "    .dataframe tbody tr th {\n",
       "        vertical-align: top;\n",
       "    }\n",
       "\n",
       "    .dataframe thead th {\n",
       "        text-align: right;\n",
       "    }\n",
       "</style>\n",
       "<table border=\"1\" class=\"dataframe\">\n",
       "  <thead>\n",
       "    <tr style=\"text-align: right;\">\n",
       "      <th></th>\n",
       "      <th>0</th>\n",
       "      <th>1</th>\n",
       "      <th>2</th>\n",
       "      <th>3</th>\n",
       "      <th>4</th>\n",
       "      <th>5</th>\n",
       "      <th>6</th>\n",
       "    </tr>\n",
       "  </thead>\n",
       "  <tbody>\n",
       "    <tr>\n",
       "      <th>0</th>\n",
       "      <td>0.000555</td>\n",
       "      <td>0.000030</td>\n",
       "      <td>0.000026</td>\n",
       "      <td>0.003818</td>\n",
       "      <td>0.020090</td>\n",
       "      <td>0.059313</td>\n",
       "      <td>0.916168</td>\n",
       "    </tr>\n",
       "    <tr>\n",
       "      <th>1</th>\n",
       "      <td>0.000082</td>\n",
       "      <td>0.000730</td>\n",
       "      <td>0.009198</td>\n",
       "      <td>0.023646</td>\n",
       "      <td>0.432255</td>\n",
       "      <td>0.200422</td>\n",
       "      <td>0.333667</td>\n",
       "    </tr>\n",
       "    <tr>\n",
       "      <th>2</th>\n",
       "      <td>0.000025</td>\n",
       "      <td>0.000046</td>\n",
       "      <td>0.000291</td>\n",
       "      <td>0.065856</td>\n",
       "      <td>0.899454</td>\n",
       "      <td>0.033162</td>\n",
       "      <td>0.001166</td>\n",
       "    </tr>\n",
       "    <tr>\n",
       "      <th>3</th>\n",
       "      <td>0.060473</td>\n",
       "      <td>0.025072</td>\n",
       "      <td>0.296372</td>\n",
       "      <td>0.116515</td>\n",
       "      <td>0.031612</td>\n",
       "      <td>0.280646</td>\n",
       "      <td>0.189310</td>\n",
       "    </tr>\n",
       "    <tr>\n",
       "      <th>4</th>\n",
       "      <td>0.000202</td>\n",
       "      <td>0.000303</td>\n",
       "      <td>0.012163</td>\n",
       "      <td>0.053485</td>\n",
       "      <td>0.158204</td>\n",
       "      <td>0.773615</td>\n",
       "      <td>0.002028</td>\n",
       "    </tr>\n",
       "  </tbody>\n",
       "</table>\n",
       "</div>"
      ],
      "text/plain": [
       "          0         1         2         3         4         5         6\n",
       "0  0.000555  0.000030  0.000026  0.003818  0.020090  0.059313  0.916168\n",
       "1  0.000082  0.000730  0.009198  0.023646  0.432255  0.200422  0.333667\n",
       "2  0.000025  0.000046  0.000291  0.065856  0.899454  0.033162  0.001166\n",
       "3  0.060473  0.025072  0.296372  0.116515  0.031612  0.280646  0.189310\n",
       "4  0.000202  0.000303  0.012163  0.053485  0.158204  0.773615  0.002028"
      ]
     },
     "execution_count": 107,
     "metadata": {},
     "output_type": "execute_result"
    }
   ],
   "source": [
    "pd.DataFrame(predict).head()"
   ]
  },
  {
   "cell_type": "code",
   "execution_count": 108,
   "metadata": {},
   "outputs": [
    {
     "data": {
      "text/html": [
       "<div>\n",
       "<style scoped>\n",
       "    .dataframe tbody tr th:only-of-type {\n",
       "        vertical-align: middle;\n",
       "    }\n",
       "\n",
       "    .dataframe tbody tr th {\n",
       "        vertical-align: top;\n",
       "    }\n",
       "\n",
       "    .dataframe thead th {\n",
       "        text-align: right;\n",
       "    }\n",
       "</style>\n",
       "<table border=\"1\" class=\"dataframe\">\n",
       "  <thead>\n",
       "    <tr style=\"text-align: right;\">\n",
       "      <th></th>\n",
       "      <th>0</th>\n",
       "      <th>1</th>\n",
       "      <th>2</th>\n",
       "      <th>3</th>\n",
       "      <th>4</th>\n",
       "      <th>5</th>\n",
       "      <th>6</th>\n",
       "    </tr>\n",
       "  </thead>\n",
       "  <tbody>\n",
       "    <tr>\n",
       "      <th>0</th>\n",
       "      <td>0.0</td>\n",
       "      <td>0.0</td>\n",
       "      <td>0.0</td>\n",
       "      <td>0.0</td>\n",
       "      <td>1.0</td>\n",
       "      <td>0.0</td>\n",
       "      <td>0.0</td>\n",
       "    </tr>\n",
       "    <tr>\n",
       "      <th>1</th>\n",
       "      <td>0.0</td>\n",
       "      <td>0.0</td>\n",
       "      <td>0.0</td>\n",
       "      <td>0.0</td>\n",
       "      <td>1.0</td>\n",
       "      <td>0.0</td>\n",
       "      <td>0.0</td>\n",
       "    </tr>\n",
       "    <tr>\n",
       "      <th>2</th>\n",
       "      <td>0.0</td>\n",
       "      <td>0.0</td>\n",
       "      <td>0.0</td>\n",
       "      <td>0.0</td>\n",
       "      <td>1.0</td>\n",
       "      <td>0.0</td>\n",
       "      <td>0.0</td>\n",
       "    </tr>\n",
       "    <tr>\n",
       "      <th>3</th>\n",
       "      <td>0.0</td>\n",
       "      <td>0.0</td>\n",
       "      <td>0.0</td>\n",
       "      <td>0.0</td>\n",
       "      <td>1.0</td>\n",
       "      <td>0.0</td>\n",
       "      <td>0.0</td>\n",
       "    </tr>\n",
       "    <tr>\n",
       "      <th>4</th>\n",
       "      <td>0.0</td>\n",
       "      <td>0.0</td>\n",
       "      <td>0.0</td>\n",
       "      <td>0.0</td>\n",
       "      <td>1.0</td>\n",
       "      <td>0.0</td>\n",
       "      <td>0.0</td>\n",
       "    </tr>\n",
       "  </tbody>\n",
       "</table>\n",
       "</div>"
      ],
      "text/plain": [
       "     0    1    2    3    4    5    6\n",
       "0  0.0  0.0  0.0  0.0  1.0  0.0  0.0\n",
       "1  0.0  0.0  0.0  0.0  1.0  0.0  0.0\n",
       "2  0.0  0.0  0.0  0.0  1.0  0.0  0.0\n",
       "3  0.0  0.0  0.0  0.0  1.0  0.0  0.0\n",
       "4  0.0  0.0  0.0  0.0  1.0  0.0  0.0"
      ]
     },
     "execution_count": 108,
     "metadata": {},
     "output_type": "execute_result"
    }
   ],
   "source": [
    "pd.DataFrame(y_test_c).head()"
   ]
  },
  {
   "cell_type": "code",
   "execution_count": 109,
   "metadata": {},
   "outputs": [
    {
     "name": "stdout",
     "output_type": "stream",
     "text": [
      "Aciertos: 431 de 1050 (41.05)%\n",
      "    y  pr  diff\n",
      "0  25  75  2500\n",
      "1  25   1   576\n",
      "2  25  25     0\n",
      "3  25   1   576\n",
      "4  25  51   676\n",
      "MCE: 490.78\n"
     ]
    }
   ],
   "source": [
    "print(\"MCE: \"+str(get_mce(predict)))"
   ]
  },
  {
   "cell_type": "code",
   "execution_count": null,
   "metadata": {
    "collapsed": true
   },
   "outputs": [],
   "source": []
  },
  {
   "cell_type": "code",
   "execution_count": null,
   "metadata": {
    "collapsed": true
   },
   "outputs": [],
   "source": []
  }
 ],
 "metadata": {
  "kernelspec": {
   "display_name": "Python 3",
   "language": "python",
   "name": "python3"
  },
  "language_info": {
   "codemirror_mode": {
    "name": "ipython",
    "version": 3
   },
   "file_extension": ".py",
   "mimetype": "text/x-python",
   "name": "python",
   "nbconvert_exporter": "python",
   "pygments_lexer": "ipython3",
   "version": "3.6.3"
  }
 },
 "nbformat": 4,
 "nbformat_minor": 2
}
