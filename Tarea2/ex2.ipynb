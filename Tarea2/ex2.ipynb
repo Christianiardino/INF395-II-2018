{
 "cells": [
  {
   "cell_type": "markdown",
   "metadata": {},
   "source": [
    "<img src=\"http://www.exalumnos.usm.cl/wp-content/uploads/2015/06/MARCA-Color.jpg\" title=\"Title text\" width=\"50%\" height=\"50%\" />\n",
    "\n",
    "\n",
    "<hr style=\"height:2px;border:none\"/>\n",
    "<h1 align='center'> INF-395/477 Redes Neuronales Artificiales II-2018 </h1>\n",
    "\n",
    "<H3 align='center'> Tarea 2 - Redes Convolucionales y sus aplicaciones </H3>\n",
    "<hr style=\"height:2px;border:none\"/>"
   ]
  },
  {
   "cell_type": "markdown",
   "metadata": {},
   "source": [
    "### Pregunta 2. Transfer Learning."
   ]
  },
  {
   "cell_type": "markdown",
   "metadata": {},
   "source": [
    "Integrantes:\n",
    "\n",
    "- Christian Da Rocha, ROL: 2018.90.251-9\n",
    "- Rodrigo Hermosilla, ROL: 95.74.144-4\n"
   ]
  },
  {
   "cell_type": "markdown",
   "metadata": {},
   "source": [
    "##### Carga inicial de librerias\n",
    "> En la siguiente sección y de manera previa se cargan todas las librerías necesarias para el ejercicio. Para efectos de mantener cierto orden con el código de las preguntas del ejercicio, se determino que todas las cargas se realizaran previamente, no obstante, se entiende que esto podría generar alguna ineficiencia en el consumo de recursos, pero que suponemos es marginal."
   ]
  },
  {
   "cell_type": "code",
   "execution_count": 11,
   "metadata": {
    "ExecuteTime": {
     "end_time": "2018-11-29T23:14:28.215517Z",
     "start_time": "2018-11-29T23:14:28.211307Z"
    }
   },
   "outputs": [],
   "source": [
    "from keras.datasets import cifar100\n",
    "import keras\n",
    "from keras.models import Sequential\n",
    "from keras.layers import Dense,Conv2D,MaxPooling2D,Flatten,Dropout,Activation,Input,BatchNormalization\n",
    "from keras.optimizers import SGD\n",
    "import matplotlib.pyplot as plt\n",
    "%matplotlib inline\n",
    "from keras.applications import VGG16\n",
    "from keras.applications.vgg16 import preprocess_input\n",
    "import numpy as np\n",
    "from sklearn.preprocessing import StandardScaler"
   ]
  },
  {
   "cell_type": "markdown",
   "metadata": {
    "ExecuteTime": {
     "end_time": "2018-11-28T16:57:00.378010Z",
     "start_time": "2018-11-28T16:48:14.628Z"
    }
   },
   "source": [
    "> Descarga y asignación de variables estructuras globales"
   ]
  },
  {
   "cell_type": "markdown",
   "metadata": {},
   "source": [
    "##### Pregunta A."
   ]
  },
  {
   "cell_type": "markdown",
   "metadata": {
    "ExecuteTime": {
     "end_time": "2018-11-28T16:57:00.375891Z",
     "start_time": "2018-11-28T16:57:00.372655Z"
    }
   },
   "source": [
    "<div class=\"alert alert-block alert-success\">\n",
    "    <b>Nota: </b>Para efectos de mejorar la modularización, el ejercicio construye una serie de funciones, permitiendo además su reutilización en distintos instantes.\n",
    "</div>"
   ]
  },
  {
   "cell_type": "code",
   "execution_count": 12,
   "metadata": {
    "ExecuteTime": {
     "end_time": "2018-11-29T23:14:30.137559Z",
     "start_time": "2018-11-29T23:14:30.134907Z"
    }
   },
   "outputs": [],
   "source": [
    "def getData():\n",
    "    global x_train, y_train, x_test, y_test, x_train_norm, x_test_norm\n",
    "    (x_train, y_train), (x_test, y_test) = cifar100.load_data(label_mode='fine')\n",
    "    y_train = keras.utils.to_categorical(y_train, num_classes=100)\n",
    "    y_test = keras.utils.to_categorical(y_test, num_classes=100)\n",
    "    x_train_norm = x_train/255.0\n",
    "    x_test_norm = x_test/255.0"
   ]
  },
  {
   "cell_type": "code",
   "execution_count": 13,
   "metadata": {
    "ExecuteTime": {
     "end_time": "2018-11-29T23:14:30.606210Z",
     "start_time": "2018-11-29T23:14:30.590429Z"
    }
   },
   "outputs": [],
   "source": [
    "def plotChart(title, v1, l1, v2, l2,v3, l3,v4, l4):\n",
    "    fig=plt.figure(figsize=(15,5))\n",
    "    plt.title(title)\n",
    "    plt.axis('off')\n",
    "    fig.add_subplot(2,1,1) \n",
    "    plt.plot(v1,label=l1, color='y')\n",
    "    plt.plot(v2,label=l2, color='g')\n",
    "    plt.legend(loc='upper left')\n",
    "    plt.ylabel('Error')\n",
    "    fig.add_subplot(2,1,2) \n",
    "    plt.plot(v3,label=l3, color='b')\n",
    "    plt.plot(v4,label=l4, color='r')\n",
    "    plt.legend(loc='upper left')\n",
    "    plt.ylabel('Accuracy')\n",
    "    plt.xlabel('# epochs')\n",
    "    plt.show()"
   ]
  },
  {
   "cell_type": "code",
   "execution_count": 14,
   "metadata": {
    "ExecuteTime": {
     "end_time": "2018-11-29T23:14:31.103139Z",
     "start_time": "2018-11-29T23:14:31.086425Z"
    }
   },
   "outputs": [],
   "source": [
    "def modelA():\n",
    "    model = Sequential()\n",
    "    model.add(Conv2D(32, (3, 3), padding='same',input_shape=x_train_norm.shape[1:],activation='relu'))\n",
    "    model.add(Conv2D(32, (3, 3),padding='same',activation='relu'))\n",
    "    model.add(MaxPooling2D(pool_size=(2, 2)))\n",
    "    model.add(Conv2D(64, (3, 3),padding='same',activation='relu'))\n",
    "    model.add(Conv2D(64, (3, 3),padding='same',activation='relu'))\n",
    "    model.add(MaxPooling2D(pool_size=(2, 2)))\n",
    "    model.add(Flatten())\n",
    "    model.add(Dense(1024,activation='relu'))\n",
    "    model.add(Dropout(0.5))\n",
    "    model.add(Dense(100))\n",
    "    model.add(Activation('softmax'))\n",
    "    return model"
   ]
  },
  {
   "cell_type": "code",
   "execution_count": 15,
   "metadata": {
    "ExecuteTime": {
     "end_time": "2018-11-29T23:14:32.323262Z",
     "start_time": "2018-11-29T23:14:31.678800Z"
    }
   },
   "outputs": [
    {
     "name": "stdout",
     "output_type": "stream",
     "text": [
      "_________________________________________________________________\n",
      "Layer (type)                 Output Shape              Param #   \n",
      "=================================================================\n",
      "conv2d_5 (Conv2D)            (None, 32, 32, 32)        896       \n",
      "_________________________________________________________________\n",
      "conv2d_6 (Conv2D)            (None, 32, 32, 32)        9248      \n",
      "_________________________________________________________________\n",
      "max_pooling2d_3 (MaxPooling2 (None, 16, 16, 32)        0         \n",
      "_________________________________________________________________\n",
      "conv2d_7 (Conv2D)            (None, 16, 16, 64)        18496     \n",
      "_________________________________________________________________\n",
      "conv2d_8 (Conv2D)            (None, 16, 16, 64)        36928     \n",
      "_________________________________________________________________\n",
      "max_pooling2d_4 (MaxPooling2 (None, 8, 8, 64)          0         \n",
      "_________________________________________________________________\n",
      "flatten_2 (Flatten)          (None, 4096)              0         \n",
      "_________________________________________________________________\n",
      "dense_3 (Dense)              (None, 1024)              4195328   \n",
      "_________________________________________________________________\n",
      "dropout_2 (Dropout)          (None, 1024)              0         \n",
      "_________________________________________________________________\n",
      "dense_4 (Dense)              (None, 100)               102500    \n",
      "_________________________________________________________________\n",
      "activation_2 (Activation)    (None, 100)               0         \n",
      "=================================================================\n",
      "Total params: 4,363,396\n",
      "Trainable params: 4,363,396\n",
      "Non-trainable params: 0\n",
      "_________________________________________________________________\n"
     ]
    }
   ],
   "source": [
    "getData()\n",
    "model_a=modelA()\n",
    "model_a.summary()"
   ]
  },
  {
   "cell_type": "code",
   "execution_count": 16,
   "metadata": {
    "ExecuteTime": {
     "end_time": "2018-11-29T23:14:33.105467Z",
     "start_time": "2018-11-29T23:14:33.102948Z"
    }
   },
   "outputs": [],
   "source": [
    "def trainingA(model):\n",
    "    optimizer_ = SGD(lr=0.01,momentum=0.9)\n",
    "    model.compile(loss='categorical_crossentropy', optimizer=optimizer_, metrics=['accuracy'])\n",
    "    history=model.fit(x_train_norm, y_train, batch_size=128,epochs=15,verbose=1, validation_data=(x_test_norm,y_test)) \n",
    "    return history"
   ]
  },
  {
   "cell_type": "code",
   "execution_count": 17,
   "metadata": {
    "ExecuteTime": {
     "end_time": "2018-11-29T23:16:30.882014Z",
     "start_time": "2018-11-29T23:14:33.694697Z"
    },
    "scrolled": true
   },
   "outputs": [
    {
     "name": "stdout",
     "output_type": "stream",
     "text": [
      "Train on 50000 samples, validate on 10000 samples\n",
      "Epoch 1/15\n",
      "50000/50000 [==============================] - 8s 163us/step - loss: 4.3818 - acc: 0.0411 - val_loss: 3.9257 - val_acc: 0.0981\n",
      "Epoch 2/15\n",
      "50000/50000 [==============================] - 8s 156us/step - loss: 3.8378 - acc: 0.1142 - val_loss: 3.5899 - val_acc: 0.1687\n",
      "Epoch 3/15\n",
      "50000/50000 [==============================] - 8s 156us/step - loss: 3.4675 - acc: 0.1812 - val_loss: 3.2034 - val_acc: 0.2399\n",
      "Epoch 4/15\n",
      "50000/50000 [==============================] - 8s 162us/step - loss: 3.1172 - acc: 0.2454 - val_loss: 2.9579 - val_acc: 0.2838\n",
      "Epoch 5/15\n",
      "50000/50000 [==============================] - 8s 166us/step - loss: 2.8454 - acc: 0.2959 - val_loss: 2.7546 - val_acc: 0.3247\n",
      "Epoch 6/15\n",
      "50000/50000 [==============================] - 8s 161us/step - loss: 2.6058 - acc: 0.3431 - val_loss: 2.5978 - val_acc: 0.3633\n",
      "Epoch 7/15\n",
      "50000/50000 [==============================] - 8s 155us/step - loss: 2.3925 - acc: 0.3870 - val_loss: 2.4733 - val_acc: 0.3784\n",
      "Epoch 8/15\n",
      "50000/50000 [==============================] - 8s 154us/step - loss: 2.1942 - acc: 0.4288 - val_loss: 2.3998 - val_acc: 0.3929\n",
      "Epoch 9/15\n",
      "50000/50000 [==============================] - 8s 158us/step - loss: 1.9899 - acc: 0.4724 - val_loss: 2.3791 - val_acc: 0.4023\n",
      "Epoch 10/15\n",
      "50000/50000 [==============================] - 7s 145us/step - loss: 1.7910 - acc: 0.5165 - val_loss: 2.3457 - val_acc: 0.4106\n",
      "Epoch 11/15\n",
      "50000/50000 [==============================] - 8s 152us/step - loss: 1.5920 - acc: 0.5603 - val_loss: 2.3776 - val_acc: 0.4121\n",
      "Epoch 12/15\n",
      "50000/50000 [==============================] - 8s 155us/step - loss: 1.4019 - acc: 0.6054 - val_loss: 2.4210 - val_acc: 0.4131\n",
      "Epoch 13/15\n",
      "50000/50000 [==============================] - 8s 150us/step - loss: 1.2182 - acc: 0.6496 - val_loss: 2.5532 - val_acc: 0.4068\n",
      "Epoch 14/15\n",
      "50000/50000 [==============================] - 8s 153us/step - loss: 1.0666 - acc: 0.6877 - val_loss: 2.6361 - val_acc: 0.4036\n",
      "Epoch 15/15\n",
      "50000/50000 [==============================] - 8s 154us/step - loss: 0.9260 - acc: 0.7260 - val_loss: 2.6709 - val_acc: 0.4080\n"
     ]
    }
   ],
   "source": [
    "history_a = trainingA(model_a)"
   ]
  },
  {
   "cell_type": "code",
   "execution_count": 18,
   "metadata": {
    "ExecuteTime": {
     "end_time": "2018-11-29T23:16:31.109780Z",
     "start_time": "2018-11-29T23:16:30.888116Z"
    },
    "scrolled": true
   },
   "outputs": [
    {
     "data": {
      "image/png": "[encoded data removed]",
      "text/plain": [
       "<Figure size 1080x360 with 3 Axes>"
      ]
     },
     "metadata": {
      "needs_background": "light"
     },
     "output_type": "display_data"
    }
   ],
   "source": [
    "plotChart('Figura a.1. Loss y Accuracy de entrenamiento y validación en una CNN pre transfer-learning.', \n",
    "          history_a.history['loss'], 'Entrenamiento',history_a.history['val_loss'], 'Validación',\n",
    "          history_a.history['acc'], 'Entrenamiento',history_a.history['val_acc'], 'Validación'\n",
    "         )"
   ]
  },
  {
   "cell_type": "markdown",
   "metadata": {},
   "source": [
    "> Tal como se aprecia en la figura **a.1**, con esta configuración de red el error de entrenamiento tiende a sobreajustarse, y al probarlo con datos de validación se verifica que no responde adecuadamente."
   ]
  },
  {
   "cell_type": "markdown",
   "metadata": {
    "ExecuteTime": {
     "end_time": "2018-11-28T17:09:30.472531Z",
     "start_time": "2018-11-28T17:09:30.470636Z"
    }
   },
   "source": [
    "##### Pregunta B."
   ]
  },
  {
   "cell_type": "code",
   "execution_count": 19,
   "metadata": {
    "ExecuteTime": {
     "end_time": "2018-11-29T23:16:31.115176Z",
     "start_time": "2018-11-29T23:16:31.110731Z"
    }
   },
   "outputs": [],
   "source": [
    "def modelB1():\n",
    "    model = Sequential()\n",
    "    model.add(Conv2D(32, (3, 3), padding='same',input_shape=x_train_norm.shape[1:],activation='relu'))\n",
    "    model.add(Dropout(0.5))\n",
    "    model.add(Conv2D(32, (3, 3),padding='same',activation='relu'))\n",
    "    model.add(Dropout(0.5))\n",
    "    model.add(MaxPooling2D(pool_size=(2, 2)))\n",
    "    model.add(Conv2D(64, (3, 3),padding='same',activation='relu'))\n",
    "    model.add(Dropout(0.5))\n",
    "    model.add(Conv2D(64, (3, 3),padding='same',activation='relu'))\n",
    "    model.add(Dropout(0.5))\n",
    "    model.add(MaxPooling2D(pool_size=(2, 2)))\n",
    "    model.add(Flatten())\n",
    "    model.add(Dense(1024,activation='relu'))\n",
    "    model.add(Dropout(0.5))\n",
    "    model.add(Dense(100))\n",
    "    model.add(Activation('softmax'))\n",
    "    return model"
   ]
  },
  {
   "cell_type": "code",
   "execution_count": 20,
   "metadata": {
    "ExecuteTime": {
     "end_time": "2018-11-29T23:19:12.927704Z",
     "start_time": "2018-11-29T23:16:31.116559Z"
    },
    "scrolled": true
   },
   "outputs": [
    {
     "name": "stdout",
     "output_type": "stream",
     "text": [
      "Train on 50000 samples, validate on 10000 samples\n",
      "Epoch 1/15\n",
      "50000/50000 [==============================] - 12s 233us/step - loss: 4.3840 - acc: 0.0359 - val_loss: 4.5134 - val_acc: 0.0175\n",
      "Epoch 2/15\n",
      "50000/50000 [==============================] - 11s 228us/step - loss: 3.9426 - acc: 0.0944 - val_loss: 4.3615 - val_acc: 0.0438\n",
      "Epoch 3/15\n",
      "50000/50000 [==============================] - 11s 230us/step - loss: 3.7053 - acc: 0.1336 - val_loss: 4.1944 - val_acc: 0.0779\n",
      "Epoch 4/15\n",
      "50000/50000 [==============================] - 11s 230us/step - loss: 3.5325 - acc: 0.1617 - val_loss: 4.0643 - val_acc: 0.1095\n",
      "Epoch 5/15\n",
      "50000/50000 [==============================] - 11s 228us/step - loss: 3.3748 - acc: 0.1910 - val_loss: 3.9915 - val_acc: 0.1124\n",
      "Epoch 6/15\n",
      "50000/50000 [==============================] - 11s 218us/step - loss: 3.2484 - acc: 0.2132 - val_loss: 3.8461 - val_acc: 0.1325\n",
      "Epoch 7/15\n",
      "50000/50000 [==============================] - 11s 211us/step - loss: 3.1437 - acc: 0.2339 - val_loss: 3.7327 - val_acc: 0.1623\n",
      "Epoch 8/15\n",
      "50000/50000 [==============================] - 10s 195us/step - loss: 3.0454 - acc: 0.2503 - val_loss: 3.7601 - val_acc: 0.1476\n",
      "Epoch 9/15\n",
      "50000/50000 [==============================] - 10s 193us/step - loss: 2.9601 - acc: 0.2673 - val_loss: 3.7066 - val_acc: 0.1596\n",
      "Epoch 10/15\n",
      "50000/50000 [==============================] - 10s 202us/step - loss: 2.8799 - acc: 0.2821 - val_loss: 3.6276 - val_acc: 0.1758\n",
      "Epoch 11/15\n",
      "50000/50000 [==============================] - 10s 206us/step - loss: 2.8075 - acc: 0.2983 - val_loss: 3.5836 - val_acc: 0.1812\n",
      "Epoch 12/15\n",
      "50000/50000 [==============================] - 11s 214us/step - loss: 2.7320 - acc: 0.3113 - val_loss: 3.4392 - val_acc: 0.2164\n",
      "Epoch 13/15\n",
      "50000/50000 [==============================] - 11s 213us/step - loss: 2.6648 - acc: 0.3265 - val_loss: 3.3850 - val_acc: 0.2310\n",
      "Epoch 14/15\n",
      "50000/50000 [==============================] - 10s 205us/step - loss: 2.6070 - acc: 0.3339 - val_loss: 3.4068 - val_acc: 0.2196\n",
      "Epoch 15/15\n",
      "50000/50000 [==============================] - 11s 213us/step - loss: 2.5400 - acc: 0.3488 - val_loss: 3.3486 - val_acc: 0.2347\n"
     ]
    }
   ],
   "source": [
    "getData()\n",
    "model_b1=modelB1()\n",
    "history_b1 = trainingA(model_b1)"
   ]
  },
  {
   "cell_type": "code",
   "execution_count": 21,
   "metadata": {
    "ExecuteTime": {
     "end_time": "2018-11-29T23:19:13.153748Z",
     "start_time": "2018-11-29T23:19:12.934340Z"
    }
   },
   "outputs": [
    {
     "data": {
      "image/png": "[encoded data removed]",
      "text/plain": [
       "<Figure size 1080x360 with 3 Axes>"
      ]
     },
     "metadata": {
      "needs_background": "light"
     },
     "output_type": "display_data"
    }
   ],
   "source": [
    "plotChart('Figura b.1. Loss y Accuracy de entrenamiento y validación con Dropout tras cada capa convolucional.', \n",
    "          history_b1.history['loss'], 'Entrenamiento',history_b1.history['val_loss'], 'Validación',\n",
    "          history_b1.history['acc'], 'Entrenamiento',history_b1.history['val_acc'], 'Validación'\n",
    "         )"
   ]
  },
  {
   "cell_type": "code",
   "execution_count": 22,
   "metadata": {
    "ExecuteTime": {
     "end_time": "2018-11-29T23:19:13.159028Z",
     "start_time": "2018-11-29T23:19:13.154784Z"
    }
   },
   "outputs": [],
   "source": [
    "def modelB2():\n",
    "    model = Sequential()\n",
    "    model.add(Conv2D(32, (3, 3), padding='same',input_shape=x_train_norm.shape[1:],activation='relu'))\n",
    "    model.add(Conv2D(32, (3, 3),padding='same',activation='relu'))\n",
    "    model.add(MaxPooling2D(pool_size=(2, 2)))\n",
    "    model.add(Dropout(0.5))\n",
    "    model.add(Conv2D(64, (3, 3),padding='same',activation='relu'))\n",
    "    model.add(Conv2D(64, (3, 3),padding='same',activation='relu'))\n",
    "    model.add(MaxPooling2D(pool_size=(2, 2)))\n",
    "    model.add(Dropout(0.5))\n",
    "    model.add(Flatten())\n",
    "    model.add(Dense(1024,activation='relu'))\n",
    "    model.add(Dropout(0.5))\n",
    "    model.add(Dense(100))\n",
    "    model.add(Activation('softmax'))\n",
    "    return model"
   ]
  },
  {
   "cell_type": "code",
   "execution_count": 23,
   "metadata": {
    "ExecuteTime": {
     "end_time": "2018-11-29T23:21:13.127428Z",
     "start_time": "2018-11-29T23:19:13.159975Z"
    },
    "scrolled": true
   },
   "outputs": [
    {
     "name": "stdout",
     "output_type": "stream",
     "text": [
      "Train on 50000 samples, validate on 10000 samples\n",
      "Epoch 1/15\n",
      "50000/50000 [==============================] - 8s 159us/step - loss: 4.5517 - acc: 0.0181 - val_loss: 4.3671 - val_acc: 0.0498\n",
      "Epoch 2/15\n",
      "50000/50000 [==============================] - 8s 154us/step - loss: 4.1823 - acc: 0.0605 - val_loss: 3.9304 - val_acc: 0.1094\n",
      "Epoch 3/15\n",
      "50000/50000 [==============================] - 8s 163us/step - loss: 3.8939 - acc: 0.0985 - val_loss: 3.7040 - val_acc: 0.1473\n",
      "Epoch 4/15\n",
      "50000/50000 [==============================] - 8s 161us/step - loss: 3.6811 - acc: 0.1337 - val_loss: 3.4482 - val_acc: 0.1875\n",
      "Epoch 5/15\n",
      "50000/50000 [==============================] - 8s 162us/step - loss: 3.4716 - acc: 0.1711 - val_loss: 3.2460 - val_acc: 0.2239\n",
      "Epoch 6/15\n",
      "50000/50000 [==============================] - 8s 159us/step - loss: 3.3033 - acc: 0.1998 - val_loss: 3.0897 - val_acc: 0.2485\n",
      "Epoch 7/15\n",
      "50000/50000 [==============================] - 8s 159us/step - loss: 3.1607 - acc: 0.2269 - val_loss: 2.9596 - val_acc: 0.2781\n",
      "Epoch 8/15\n",
      "50000/50000 [==============================] - 8s 159us/step - loss: 3.0236 - acc: 0.2540 - val_loss: 2.8383 - val_acc: 0.3104\n",
      "Epoch 9/15\n",
      "50000/50000 [==============================] - 8s 154us/step - loss: 2.9086 - acc: 0.2754 - val_loss: 2.7515 - val_acc: 0.3192\n",
      "Epoch 10/15\n",
      "50000/50000 [==============================] - 8s 153us/step - loss: 2.7970 - acc: 0.2967 - val_loss: 2.5632 - val_acc: 0.3567\n",
      "Epoch 11/15\n",
      "50000/50000 [==============================] - 8s 160us/step - loss: 2.7032 - acc: 0.3144 - val_loss: 2.5549 - val_acc: 0.3597\n",
      "Epoch 12/15\n",
      "50000/50000 [==============================] - 8s 162us/step - loss: 2.6175 - acc: 0.3343 - val_loss: 2.5290 - val_acc: 0.3645\n",
      "Epoch 13/15\n",
      "50000/50000 [==============================] - 8s 159us/step - loss: 2.5451 - acc: 0.3479 - val_loss: 2.4237 - val_acc: 0.3879\n",
      "Epoch 14/15\n",
      "50000/50000 [==============================] - 8s 161us/step - loss: 2.4877 - acc: 0.3617 - val_loss: 2.3917 - val_acc: 0.3908\n",
      "Epoch 15/15\n",
      "50000/50000 [==============================] - 8s 160us/step - loss: 2.4318 - acc: 0.3705 - val_loss: 2.3069 - val_acc: 0.4103\n"
     ]
    }
   ],
   "source": [
    "getData()\n",
    "model_b2=modelB2()\n",
    "history_b2 = trainingA(model_b2)"
   ]
  },
  {
   "cell_type": "code",
   "execution_count": 24,
   "metadata": {
    "ExecuteTime": {
     "end_time": "2018-11-29T23:21:13.390374Z",
     "start_time": "2018-11-29T23:21:13.132716Z"
    },
    "scrolled": true
   },
   "outputs": [
    {
     "data": {
      "image/png": "[encoded data removed]",
      "text/plain": [
       "<Figure size 1080x360 with 3 Axes>"
      ]
     },
     "metadata": {
      "needs_background": "light"
     },
     "output_type": "display_data"
    }
   ],
   "source": [
    "plotChart('Figura b.2. Loss y Accuracy de entrenamiento y validación con Dropout tras cada pooling.', \n",
    "          history_b2.history['loss'], 'Entrenamiento',history_b2.history['val_loss'], 'Validación',\n",
    "          history_b2.history['acc'], 'Entrenamiento',history_b2.history['val_acc'], 'Validación'\n",
    "         )"
   ]
  },
  {
   "cell_type": "code",
   "execution_count": 25,
   "metadata": {
    "ExecuteTime": {
     "end_time": "2018-11-29T23:21:13.396915Z",
     "start_time": "2018-11-29T23:21:13.391444Z"
    }
   },
   "outputs": [],
   "source": [
    "def modelB3():\n",
    "    model = Sequential()\n",
    "    model.add(Conv2D(32, (3, 3), padding='same',input_shape=x_train_norm.shape[1:],activation='relu'))\n",
    "    model.add(Conv2D(32, (3, 3),padding='same',activation='relu'))\n",
    "    model.add(Dropout(0.5))\n",
    "    model.add(MaxPooling2D(pool_size=(2, 2)))\n",
    "    model.add(Conv2D(64, (3, 3),padding='same',activation='relu'))\n",
    "    model.add(Conv2D(64, (3, 3),padding='same',activation='relu'))\n",
    "    model.add(Dropout(0.5))\n",
    "    model.add(MaxPooling2D(pool_size=(2, 2)))\n",
    "    model.add(Flatten())\n",
    "    model.add(Dense(1024,activation='relu'))\n",
    "    model.add(Dropout(0.5))\n",
    "    model.add(Dense(100))\n",
    "    model.add(Activation('softmax'))\n",
    "    return model"
   ]
  },
  {
   "cell_type": "code",
   "execution_count": 26,
   "metadata": {
    "ExecuteTime": {
     "end_time": "2018-11-29T23:23:38.624998Z",
     "start_time": "2018-11-29T23:21:13.402801Z"
    }
   },
   "outputs": [
    {
     "name": "stdout",
     "output_type": "stream",
     "text": [
      "Train on 50000 samples, validate on 10000 samples\n",
      "Epoch 1/15\n",
      "50000/50000 [==============================] - 10s 196us/step - loss: 4.2535 - acc: 0.0544 - val_loss: 4.2838 - val_acc: 0.0820\n",
      "Epoch 2/15\n",
      "50000/50000 [==============================] - 10s 197us/step - loss: 3.7635 - acc: 0.1257 - val_loss: 3.9865 - val_acc: 0.1539\n",
      "Epoch 3/15\n",
      "50000/50000 [==============================] - 10s 194us/step - loss: 3.4479 - acc: 0.1809 - val_loss: 3.7783 - val_acc: 0.1961\n",
      "Epoch 4/15\n",
      "50000/50000 [==============================] - 10s 197us/step - loss: 3.1832 - acc: 0.2264 - val_loss: 3.4846 - val_acc: 0.2557\n",
      "Epoch 5/15\n",
      "50000/50000 [==============================] - 10s 192us/step - loss: 2.9641 - acc: 0.2700 - val_loss: 3.3842 - val_acc: 0.2766\n",
      "Epoch 6/15\n",
      "50000/50000 [==============================] - 9s 183us/step - loss: 2.7800 - acc: 0.3056 - val_loss: 3.2192 - val_acc: 0.2996\n",
      "Epoch 7/15\n",
      "50000/50000 [==============================] - 9s 189us/step - loss: 2.6214 - acc: 0.3392 - val_loss: 3.2066 - val_acc: 0.2852\n",
      "Epoch 8/15\n",
      "50000/50000 [==============================] - 10s 207us/step - loss: 2.4706 - acc: 0.3671 - val_loss: 3.0848 - val_acc: 0.2991\n",
      "Epoch 9/15\n",
      "50000/50000 [==============================] - 10s 204us/step - loss: 2.3421 - acc: 0.3948 - val_loss: 2.8939 - val_acc: 0.3675\n",
      "Epoch 10/15\n",
      "50000/50000 [==============================] - 10s 197us/step - loss: 2.2182 - acc: 0.4212 - val_loss: 2.8733 - val_acc: 0.3713\n",
      "Epoch 11/15\n",
      "50000/50000 [==============================] - 10s 202us/step - loss: 2.1132 - acc: 0.4394 - val_loss: 2.8025 - val_acc: 0.3784\n",
      "Epoch 12/15\n",
      "50000/50000 [==============================] - 9s 183us/step - loss: 2.0099 - acc: 0.4622 - val_loss: 2.7491 - val_acc: 0.3771\n",
      "Epoch 13/15\n",
      "50000/50000 [==============================] - 9s 185us/step - loss: 1.8965 - acc: 0.4880 - val_loss: 2.7526 - val_acc: 0.3658\n",
      "Epoch 14/15\n",
      "50000/50000 [==============================] - 9s 180us/step - loss: 1.8009 - acc: 0.5089 - val_loss: 2.7149 - val_acc: 0.3895\n",
      "Epoch 15/15\n",
      "50000/50000 [==============================] - 9s 183us/step - loss: 1.7051 - acc: 0.5291 - val_loss: 2.6832 - val_acc: 0.3852\n"
     ]
    }
   ],
   "source": [
    "getData()\n",
    "model_b3=modelB3()\n",
    "history_b3 = trainingA(model_b3)"
   ]
  },
  {
   "cell_type": "code",
   "execution_count": 27,
   "metadata": {
    "ExecuteTime": {
     "end_time": "2018-11-29T23:23:38.841371Z",
     "start_time": "2018-11-29T23:23:38.629429Z"
    }
   },
   "outputs": [
    {
     "data": {
      "image/png": "[encoded data removed]",
      "text/plain": [
       "<Figure size 1080x360 with 3 Axes>"
      ]
     },
     "metadata": {
      "needs_background": "light"
     },
     "output_type": "display_data"
    }
   ],
   "source": [
    "plotChart('Figura b.3. Loss y Accuracy de entrenamiento y validación con Dropout antes de cada capa convolucional.', \n",
    "          history_b3.history['loss'], 'Entrenamiento',history_b3.history['val_loss'], 'Validación',\n",
    "          history_b3.history['acc'], 'Entrenamiento',history_b3.history['val_acc'], 'Validación'\n",
    "         )"
   ]
  },
  {
   "cell_type": "markdown",
   "metadata": {},
   "source": [
    "> Tal como se aprecia en las figuras **b.1** a **b.6**, el mejor comportamiento se obtiene aplicando *dropout* despues del pooling. Esto se debe a que si se aplica en otro lugar, lo que tenemos es una perdida de características que influyen en la mejora del entrenamiento."
   ]
  },
  {
   "cell_type": "markdown",
   "metadata": {},
   "source": [
    "##### Pregunta C."
   ]
  },
  {
   "cell_type": "code",
   "execution_count": 28,
   "metadata": {
    "ExecuteTime": {
     "end_time": "2018-11-29T23:23:51.749354Z",
     "start_time": "2018-11-29T23:23:51.737706Z"
    }
   },
   "outputs": [],
   "source": [
    "def modelVGG(x_train, x_test):\n",
    "    global x_train_vgg, x_test_vgg, features_train, features_test\n",
    "    x_train_vgg = preprocess_input(x_train)\n",
    "    x_test_vgg = preprocess_input(x_test)\n",
    "    input_tensor=Input(shape=x_train_vgg.shape[1:])\n",
    "    modelVGG = VGG16(weights='imagenet', include_top=False,input_tensor=input_tensor ) # LOAD PRETRAINED MODEL \n",
    "    features_train = modelVGG.predict(x_train_vgg)\n",
    "    features_test = modelVGG.predict(x_test_vgg)\n",
    "    return modelVGG"
   ]
  },
  {
   "cell_type": "code",
   "execution_count": 29,
   "metadata": {
    "ExecuteTime": {
     "end_time": "2018-11-29T23:24:09.589928Z",
     "start_time": "2018-11-29T23:23:52.289830Z"
    }
   },
   "outputs": [
    {
     "name": "stdout",
     "output_type": "stream",
     "text": [
      "_________________________________________________________________\n",
      "Layer (type)                 Output Shape              Param #   \n",
      "=================================================================\n",
      "input_1 (InputLayer)         (None, 32, 32, 3)         0         \n",
      "_________________________________________________________________\n",
      "block1_conv1 (Conv2D)        (None, 32, 32, 64)        1792      \n",
      "_________________________________________________________________\n",
      "block1_conv2 (Conv2D)        (None, 32, 32, 64)        36928     \n",
      "_________________________________________________________________\n",
      "block1_pool (MaxPooling2D)   (None, 16, 16, 64)        0         \n",
      "_________________________________________________________________\n",
      "block2_conv1 (Conv2D)        (None, 16, 16, 128)       73856     \n",
      "_________________________________________________________________\n",
      "block2_conv2 (Conv2D)        (None, 16, 16, 128)       147584    \n",
      "_________________________________________________________________\n",
      "block2_pool (MaxPooling2D)   (None, 8, 8, 128)         0         \n",
      "_________________________________________________________________\n",
      "block3_conv1 (Conv2D)        (None, 8, 8, 256)         295168    \n",
      "_________________________________________________________________\n",
      "block3_conv2 (Conv2D)        (None, 8, 8, 256)         590080    \n",
      "_________________________________________________________________\n",
      "block3_conv3 (Conv2D)        (None, 8, 8, 256)         590080    \n",
      "_________________________________________________________________\n",
      "block3_pool (MaxPooling2D)   (None, 4, 4, 256)         0         \n",
      "_________________________________________________________________\n",
      "block4_conv1 (Conv2D)        (None, 4, 4, 512)         1180160   \n",
      "_________________________________________________________________\n",
      "block4_conv2 (Conv2D)        (None, 4, 4, 512)         2359808   \n",
      "_________________________________________________________________\n",
      "block4_conv3 (Conv2D)        (None, 4, 4, 512)         2359808   \n",
      "_________________________________________________________________\n",
      "block4_pool (MaxPooling2D)   (None, 2, 2, 512)         0         \n",
      "_________________________________________________________________\n",
      "block5_conv1 (Conv2D)        (None, 2, 2, 512)         2359808   \n",
      "_________________________________________________________________\n",
      "block5_conv2 (Conv2D)        (None, 2, 2, 512)         2359808   \n",
      "_________________________________________________________________\n",
      "block5_conv3 (Conv2D)        (None, 2, 2, 512)         2359808   \n",
      "_________________________________________________________________\n",
      "block5_pool (MaxPooling2D)   (None, 1, 1, 512)         0         \n",
      "=================================================================\n",
      "Total params: 14,714,688\n",
      "Trainable params: 14,714,688\n",
      "Non-trainable params: 0\n",
      "_________________________________________________________________\n"
     ]
    }
   ],
   "source": [
    "model_vgg=modelVGG(x_train, x_test)\n",
    "model_vgg.summary()"
   ]
  },
  {
   "cell_type": "markdown",
   "metadata": {},
   "source": [
    "> La red *VGG16* se entreno restando la media de cada canal a cada punto del set. La media, en este caso, es una matriz de tres elementos obtenidos por el promedio de R, G, B píxeles de todas las imágenes obtenidas del set  de imagenes entrenadas. Los valores para este set son: $[103.939, 116.779, 123.68]$. Para poder aplicar esto sobre nuestro propio set de entrenamiento, se usa la función preprocess_input()."
   ]
  },
  {
   "cell_type": "markdown",
   "metadata": {},
   "source": [
    "> La eliminación de las capas densas y el reemplazo de estas por nuevas capas a entrenar, se realiza en el punto **D**."
   ]
  },
  {
   "cell_type": "markdown",
   "metadata": {},
   "source": [
    "##### Pregunta D."
   ]
  },
  {
   "cell_type": "code",
   "execution_count": 38,
   "metadata": {
    "ExecuteTime": {
     "end_time": "2018-11-29T23:25:04.057762Z",
     "start_time": "2018-11-29T23:25:04.051967Z"
    }
   },
   "outputs": [],
   "source": [
    "def modelVGGChangedD(model_vgg):\n",
    "    for i in range(4):\n",
    "        model_vgg.layers.pop() \n",
    "    model = Sequential()\n",
    "    model.add(Flatten(input_shape=features_train.shape[1:]))\n",
    "    model.add(Dense(1024, activation='relu'))\n",
    "    model.add(Dropout(0.5))\n",
    "    model.add(Dense(100))\n",
    "    model.add(Activation('softmax'))\n",
    "    return model"
   ]
  },
  {
   "cell_type": "code",
   "execution_count": 39,
   "metadata": {
    "ExecuteTime": {
     "end_time": "2018-11-29T23:25:04.466920Z",
     "start_time": "2018-11-29T23:25:04.416397Z"
    }
   },
   "outputs": [],
   "source": [
    "model_vgg_d=modelVGGChangedD(model_vgg)"
   ]
  },
  {
   "cell_type": "code",
   "execution_count": 40,
   "metadata": {
    "ExecuteTime": {
     "end_time": "2018-11-29T23:25:04.820399Z",
     "start_time": "2018-11-29T23:25:04.810923Z"
    }
   },
   "outputs": [
    {
     "name": "stdout",
     "output_type": "stream",
     "text": [
      "_________________________________________________________________\n",
      "Layer (type)                 Output Shape              Param #   \n",
      "=================================================================\n",
      "flatten_7 (Flatten)          (None, 512)               0         \n",
      "_________________________________________________________________\n",
      "dense_13 (Dense)             (None, 1024)              525312    \n",
      "_________________________________________________________________\n",
      "dropout_15 (Dropout)         (None, 1024)              0         \n",
      "_________________________________________________________________\n",
      "dense_14 (Dense)             (None, 100)               102500    \n",
      "_________________________________________________________________\n",
      "activation_7 (Activation)    (None, 100)               0         \n",
      "=================================================================\n",
      "Total params: 627,812\n",
      "Trainable params: 627,812\n",
      "Non-trainable params: 0\n",
      "_________________________________________________________________\n"
     ]
    }
   ],
   "source": [
    "model_vgg_d.summary()"
   ]
  },
  {
   "cell_type": "code",
   "execution_count": 41,
   "metadata": {
    "ExecuteTime": {
     "end_time": "2018-11-29T23:25:05.347073Z",
     "start_time": "2018-11-29T23:25:05.335339Z"
    }
   },
   "outputs": [],
   "source": [
    "def trainingD(model):\n",
    "    global xtr, xt\n",
    "    optimizer_ = SGD(lr=0.01,momentum=0.9)\n",
    "    model.compile(optimizer=optimizer_,loss='categorical_crossentropy', metrics=['accuracy'])\n",
    "    history=model.fit(features_train, y_train,epochs=255, batch_size=128,verbose=1,validation_data=(features_test,y_test))\n",
    "    return history"
   ]
  },
  {
   "cell_type": "code",
   "execution_count": 42,
   "metadata": {
    "ExecuteTime": {
     "end_time": "2018-11-29T23:28:25.051553Z",
     "start_time": "2018-11-29T23:25:05.881576Z"
    }
   },
   "outputs": [
    {
     "name": "stdout",
     "output_type": "stream",
     "text": [
      "Train on 50000 samples, validate on 10000 samples\n",
      "Epoch 1/255\n",
      "50000/50000 [==============================] - 1s 19us/step - loss: 14.4960 - acc: 0.0918 - val_loss: 14.2375 - val_acc: 0.1148\n",
      "Epoch 2/255\n",
      "50000/50000 [==============================] - 1s 16us/step - loss: 14.3606 - acc: 0.1063 - val_loss: 14.4703 - val_acc: 0.1009\n",
      "Epoch 3/255\n",
      "50000/50000 [==============================] - 1s 16us/step - loss: 14.3888 - acc: 0.1057 - val_loss: 14.3865 - val_acc: 0.1057\n",
      "Epoch 4/255\n",
      "50000/50000 [==============================] - 1s 16us/step - loss: 14.2950 - acc: 0.1120 - val_loss: 14.2067 - val_acc: 0.1171\n",
      "Epoch 5/255\n",
      "50000/50000 [==============================] - 1s 16us/step - loss: 14.4073 - acc: 0.1053 - val_loss: 14.3838 - val_acc: 0.1068\n",
      "Epoch 6/255\n",
      "50000/50000 [==============================] - 1s 16us/step - loss: 14.3792 - acc: 0.1071 - val_loss: 14.3220 - val_acc: 0.1105\n",
      "Epoch 7/255\n",
      "50000/50000 [==============================] - 1s 16us/step - loss: 14.3332 - acc: 0.1100 - val_loss: 14.4352 - val_acc: 0.1038\n",
      "Epoch 8/255\n",
      "50000/50000 [==============================] - 1s 16us/step - loss: 14.4654 - acc: 0.1019 - val_loss: 14.3571 - val_acc: 0.1084\n",
      "Epoch 9/255\n",
      "50000/50000 [==============================] - 1s 16us/step - loss: 14.4508 - acc: 0.1030 - val_loss: 14.3601 - val_acc: 0.1088\n",
      "Epoch 10/255\n",
      "50000/50000 [==============================] - 1s 17us/step - loss: 14.4279 - acc: 0.1045 - val_loss: 14.4702 - val_acc: 0.1019\n",
      "Epoch 11/255\n",
      "50000/50000 [==============================] - 1s 17us/step - loss: 14.4126 - acc: 0.1054 - val_loss: 14.3765 - val_acc: 0.1077\n",
      "Epoch 12/255\n",
      "50000/50000 [==============================] - 1s 15us/step - loss: 14.3284 - acc: 0.1106 - val_loss: 14.2838 - val_acc: 0.1137\n",
      "Epoch 13/255\n",
      "50000/50000 [==============================] - 1s 15us/step - loss: 14.3266 - acc: 0.1107 - val_loss: 14.3536 - val_acc: 0.1090\n",
      "Epoch 14/255\n",
      "50000/50000 [==============================] - 1s 16us/step - loss: 14.3455 - acc: 0.1096 - val_loss: 14.2516 - val_acc: 0.1154\n",
      "Epoch 15/255\n",
      "50000/50000 [==============================] - 1s 15us/step - loss: 14.2663 - acc: 0.1144 - val_loss: 14.2344 - val_acc: 0.1166\n",
      "Epoch 16/255\n",
      "50000/50000 [==============================] - 1s 15us/step - loss: 14.2313 - acc: 0.1168 - val_loss: 14.2830 - val_acc: 0.1135\n",
      "Epoch 17/255\n",
      "50000/50000 [==============================] - 1s 15us/step - loss: 14.2857 - acc: 0.1134 - val_loss: 14.2383 - val_acc: 0.1164\n",
      "Epoch 18/255\n",
      "50000/50000 [==============================] - 1s 15us/step - loss: 14.3016 - acc: 0.1124 - val_loss: 14.2941 - val_acc: 0.1128\n",
      "Epoch 19/255\n",
      "50000/50000 [==============================] - 1s 16us/step - loss: 14.3043 - acc: 0.1122 - val_loss: 14.2570 - val_acc: 0.1150\n",
      "Epoch 20/255\n",
      "50000/50000 [==============================] - 1s 15us/step - loss: 14.2645 - acc: 0.1147 - val_loss: 14.2701 - val_acc: 0.1143\n",
      "Epoch 21/255\n",
      "50000/50000 [==============================] - 1s 15us/step - loss: 14.2919 - acc: 0.1130 - val_loss: 14.3661 - val_acc: 0.1087\n",
      "Epoch 22/255\n",
      "50000/50000 [==============================] - 1s 15us/step - loss: 14.3285 - acc: 0.1108 - val_loss: 14.3111 - val_acc: 0.1119\n",
      "Epoch 23/255\n",
      "50000/50000 [==============================] - 1s 15us/step - loss: 14.3640 - acc: 0.1085 - val_loss: 14.3170 - val_acc: 0.1115\n",
      "Epoch 24/255\n",
      "50000/50000 [==============================] - 1s 15us/step - loss: 14.4231 - acc: 0.1049 - val_loss: 14.3356 - val_acc: 0.1102\n",
      "Epoch 25/255\n",
      "50000/50000 [==============================] - 1s 14us/step - loss: 14.2758 - acc: 0.1141 - val_loss: 14.2421 - val_acc: 0.1162\n",
      "Epoch 26/255\n",
      "50000/50000 [==============================] - 1s 14us/step - loss: 14.3821 - acc: 0.1075 - val_loss: 14.4721 - val_acc: 0.1020\n",
      "Epoch 27/255\n",
      "50000/50000 [==============================] - 1s 14us/step - loss: 14.3659 - acc: 0.1085 - val_loss: 14.3630 - val_acc: 0.1088\n",
      "Epoch 28/255\n",
      "50000/50000 [==============================] - 1s 14us/step - loss: 14.3561 - acc: 0.1091 - val_loss: 14.3347 - val_acc: 0.1104\n",
      "Epoch 29/255\n",
      "50000/50000 [==============================] - 1s 15us/step - loss: 14.3183 - acc: 0.1114 - val_loss: 14.3828 - val_acc: 0.1073\n",
      "Epoch 30/255\n",
      "50000/50000 [==============================] - 1s 14us/step - loss: 14.3100 - acc: 0.1119 - val_loss: 14.2177 - val_acc: 0.1178\n",
      "Epoch 31/255\n",
      "50000/50000 [==============================] - 1s 15us/step - loss: 14.2729 - acc: 0.1143 - val_loss: 14.3993 - val_acc: 0.1063\n",
      "Epoch 32/255\n",
      "50000/50000 [==============================] - 1s 14us/step - loss: 14.2729 - acc: 0.1143 - val_loss: 14.2249 - val_acc: 0.1173\n",
      "Epoch 33/255\n",
      "50000/50000 [==============================] - 1s 14us/step - loss: 14.1947 - acc: 0.1192 - val_loss: 14.2639 - val_acc: 0.1149\n",
      "Epoch 34/255\n",
      "50000/50000 [==============================] - 1s 15us/step - loss: 14.2576 - acc: 0.1152 - val_loss: 14.3308 - val_acc: 0.1108\n",
      "Epoch 35/255\n",
      "50000/50000 [==============================] - 1s 15us/step - loss: 14.3014 - acc: 0.1125 - val_loss: 14.3697 - val_acc: 0.1081\n",
      "Epoch 36/255\n",
      "50000/50000 [==============================] - 1s 15us/step - loss: 14.2995 - acc: 0.1126 - val_loss: 14.4052 - val_acc: 0.1062\n",
      "Epoch 37/255\n",
      "50000/50000 [==============================] - 1s 15us/step - loss: 14.3337 - acc: 0.1105 - val_loss: 14.3116 - val_acc: 0.1119\n",
      "Epoch 38/255\n",
      "50000/50000 [==============================] - 1s 17us/step - loss: 14.3097 - acc: 0.1121 - val_loss: 14.2453 - val_acc: 0.1161\n",
      "Epoch 39/255\n",
      "50000/50000 [==============================] - 1s 15us/step - loss: 14.3633 - acc: 0.1087 - val_loss: 14.2760 - val_acc: 0.1140\n",
      "Epoch 40/255\n",
      "50000/50000 [==============================] - 1s 15us/step - loss: 14.3287 - acc: 0.1109 - val_loss: 14.4127 - val_acc: 0.1058\n",
      "Epoch 41/255\n",
      "50000/50000 [==============================] - 1s 17us/step - loss: 14.3598 - acc: 0.1090 - val_loss: 14.2866 - val_acc: 0.1135\n",
      "Epoch 42/255\n",
      "50000/50000 [==============================] - 1s 15us/step - loss: 14.3094 - acc: 0.1121 - val_loss: 14.2508 - val_acc: 0.1157\n",
      "Epoch 43/255\n",
      "50000/50000 [==============================] - 1s 14us/step - loss: 14.3280 - acc: 0.1109 - val_loss: 14.2546 - val_acc: 0.1154\n",
      "Epoch 44/255\n",
      "50000/50000 [==============================] - 1s 14us/step - loss: 14.2511 - acc: 0.1156 - val_loss: 14.2675 - val_acc: 0.1146\n",
      "Epoch 45/255\n",
      "50000/50000 [==============================] - 1s 14us/step - loss: 14.3367 - acc: 0.1104 - val_loss: 14.2879 - val_acc: 0.1135\n",
      "Epoch 46/255\n",
      "50000/50000 [==============================] - 1s 17us/step - loss: 14.3601 - acc: 0.1089 - val_loss: 14.4324 - val_acc: 0.1045\n",
      "Epoch 47/255\n",
      "50000/50000 [==============================] - 1s 15us/step - loss: 14.4304 - acc: 0.1046 - val_loss: 14.4096 - val_acc: 0.1060\n",
      "Epoch 48/255\n",
      "50000/50000 [==============================] - 1s 15us/step - loss: 14.3941 - acc: 0.1069 - val_loss: 14.2904 - val_acc: 0.1133\n",
      "Epoch 49/255\n",
      "50000/50000 [==============================] - 1s 14us/step - loss: 14.3696 - acc: 0.1084 - val_loss: 14.4505 - val_acc: 0.1033\n",
      "Epoch 50/255\n",
      "50000/50000 [==============================] - 1s 15us/step - loss: 14.4344 - acc: 0.1043 - val_loss: 14.3753 - val_acc: 0.1081\n",
      "Epoch 51/255\n",
      "50000/50000 [==============================] - 1s 15us/step - loss: 14.4463 - acc: 0.1036 - val_loss: 14.3087 - val_acc: 0.1120\n",
      "Epoch 52/255\n",
      "50000/50000 [==============================] - 1s 16us/step - loss: 14.3149 - acc: 0.1118 - val_loss: 14.2527 - val_acc: 0.1156\n",
      "Epoch 53/255\n",
      "50000/50000 [==============================] - 1s 15us/step - loss: 14.2959 - acc: 0.1129 - val_loss: 14.2840 - val_acc: 0.1137\n",
      "Epoch 54/255\n",
      "50000/50000 [==============================] - 1s 15us/step - loss: 14.2914 - acc: 0.1133 - val_loss: 14.2900 - val_acc: 0.1134\n",
      "Epoch 55/255\n",
      "50000/50000 [==============================] - 1s 15us/step - loss: 14.2888 - acc: 0.1134 - val_loss: 14.2613 - val_acc: 0.1152\n",
      "Epoch 56/255\n",
      "50000/50000 [==============================] - 1s 14us/step - loss: 14.2516 - acc: 0.1158 - val_loss: 14.2484 - val_acc: 0.1160\n",
      "Epoch 57/255\n",
      "50000/50000 [==============================] - 1s 14us/step - loss: 14.2323 - acc: 0.1169 - val_loss: 14.2293 - val_acc: 0.1171\n",
      "Epoch 58/255\n",
      "50000/50000 [==============================] - 1s 14us/step - loss: 14.3070 - acc: 0.1123 - val_loss: 14.3426 - val_acc: 0.1101\n"
     ]
    },
    {
     "name": "stdout",
     "output_type": "stream",
     "text": [
      "Epoch 59/255\n",
      "50000/50000 [==============================] - 1s 18us/step - loss: 14.3023 - acc: 0.1125 - val_loss: 14.2342 - val_acc: 0.1167\n",
      "Epoch 60/255\n",
      "50000/50000 [==============================] - 1s 15us/step - loss: 14.2694 - acc: 0.1146 - val_loss: 14.3020 - val_acc: 0.1126\n",
      "Epoch 61/255\n",
      "50000/50000 [==============================] - 1s 15us/step - loss: 14.3246 - acc: 0.1112 - val_loss: 14.3235 - val_acc: 0.1112\n",
      "Epoch 62/255\n",
      "50000/50000 [==============================] - 1s 15us/step - loss: 14.3176 - acc: 0.1116 - val_loss: 14.3569 - val_acc: 0.1091\n",
      "Epoch 63/255\n",
      "50000/50000 [==============================] - 1s 14us/step - loss: 14.3962 - acc: 0.1067 - val_loss: 14.3527 - val_acc: 0.1094\n",
      "Epoch 64/255\n",
      "50000/50000 [==============================] - 1s 15us/step - loss: 14.3541 - acc: 0.1093 - val_loss: 14.3295 - val_acc: 0.1109\n",
      "Epoch 65/255\n",
      "50000/50000 [==============================] - 1s 14us/step - loss: 14.3844 - acc: 0.1075 - val_loss: 14.3564 - val_acc: 0.1092\n",
      "Epoch 66/255\n",
      "50000/50000 [==============================] - 1s 16us/step - loss: 14.4212 - acc: 0.1052 - val_loss: 14.5000 - val_acc: 0.1003\n",
      "Epoch 67/255\n",
      "50000/50000 [==============================] - 1s 14us/step - loss: 14.4984 - acc: 0.1004 - val_loss: 14.4902 - val_acc: 0.1010\n",
      "Epoch 68/255\n",
      "50000/50000 [==============================] - 1s 14us/step - loss: 14.3695 - acc: 0.1085 - val_loss: 14.3149 - val_acc: 0.1118\n",
      "Epoch 69/255\n",
      "50000/50000 [==============================] - 1s 14us/step - loss: 14.2773 - acc: 0.1141 - val_loss: 14.2678 - val_acc: 0.1146\n",
      "Epoch 70/255\n",
      "50000/50000 [==============================] - 1s 14us/step - loss: 14.2496 - acc: 0.1158 - val_loss: 14.2672 - val_acc: 0.1148\n",
      "Epoch 71/255\n",
      "50000/50000 [==============================] - 1s 14us/step - loss: 14.2561 - acc: 0.1154 - val_loss: 14.2710 - val_acc: 0.1146\n",
      "Epoch 72/255\n",
      "50000/50000 [==============================] - 1s 15us/step - loss: 14.2554 - acc: 0.1155 - val_loss: 14.2587 - val_acc: 0.1153\n",
      "Epoch 73/255\n",
      "50000/50000 [==============================] - 1s 16us/step - loss: 14.3119 - acc: 0.1120 - val_loss: 14.3296 - val_acc: 0.1109\n",
      "Epoch 74/255\n",
      "50000/50000 [==============================] - 1s 14us/step - loss: 14.3104 - acc: 0.1121 - val_loss: 14.1420 - val_acc: 0.1226\n",
      "Epoch 75/255\n",
      "50000/50000 [==============================] - 1s 15us/step - loss: 14.2013 - acc: 0.1189 - val_loss: 14.1310 - val_acc: 0.1231\n",
      "Epoch 76/255\n",
      "50000/50000 [==============================] - 1s 14us/step - loss: 14.1996 - acc: 0.1190 - val_loss: 14.2046 - val_acc: 0.1186\n",
      "Epoch 77/255\n",
      "50000/50000 [==============================] - 1s 15us/step - loss: 14.2795 - acc: 0.1140 - val_loss: 14.2935 - val_acc: 0.1132\n",
      "Epoch 78/255\n",
      "50000/50000 [==============================] - 1s 14us/step - loss: 14.2993 - acc: 0.1128 - val_loss: 14.2781 - val_acc: 0.1141\n",
      "Epoch 79/255\n",
      "50000/50000 [==============================] - 1s 16us/step - loss: 14.3081 - acc: 0.1123 - val_loss: 14.2900 - val_acc: 0.1134\n",
      "Epoch 80/255\n",
      "50000/50000 [==============================] - 1s 18us/step - loss: 14.2881 - acc: 0.1135 - val_loss: 14.3167 - val_acc: 0.1117\n",
      "Epoch 81/255\n",
      "50000/50000 [==============================] - 1s 18us/step - loss: 14.3452 - acc: 0.1099 - val_loss: 14.3113 - val_acc: 0.1120\n",
      "Epoch 82/255\n",
      "50000/50000 [==============================] - 1s 14us/step - loss: 14.3119 - acc: 0.1120 - val_loss: 14.2786 - val_acc: 0.1141\n",
      "Epoch 83/255\n",
      "50000/50000 [==============================] - 1s 15us/step - loss: 14.3130 - acc: 0.1119 - val_loss: 14.3174 - val_acc: 0.1117\n",
      "Epoch 84/255\n",
      "50000/50000 [==============================] - 1s 16us/step - loss: 14.3267 - acc: 0.1110 - val_loss: 14.3191 - val_acc: 0.1115\n",
      "Epoch 85/255\n",
      "50000/50000 [==============================] - 1s 14us/step - loss: 14.3308 - acc: 0.1108 - val_loss: 14.2859 - val_acc: 0.1136\n",
      "Epoch 86/255\n",
      "50000/50000 [==============================] - 1s 15us/step - loss: 14.3413 - acc: 0.1102 - val_loss: 14.3466 - val_acc: 0.1098\n",
      "Epoch 87/255\n",
      "50000/50000 [==============================] - 1s 15us/step - loss: 14.3728 - acc: 0.1082 - val_loss: 14.3227 - val_acc: 0.1113\n",
      "Epoch 88/255\n",
      "50000/50000 [==============================] - 1s 16us/step - loss: 14.3339 - acc: 0.1106 - val_loss: 14.2919 - val_acc: 0.1133\n",
      "Epoch 89/255\n",
      "50000/50000 [==============================] - 1s 16us/step - loss: 14.3254 - acc: 0.1111 - val_loss: 14.3451 - val_acc: 0.1100\n",
      "Epoch 90/255\n",
      "50000/50000 [==============================] - 1s 16us/step - loss: 14.3573 - acc: 0.1092 - val_loss: 14.3516 - val_acc: 0.1096\n",
      "Epoch 91/255\n",
      "50000/50000 [==============================] - 1s 15us/step - loss: 14.3365 - acc: 0.1105 - val_loss: 14.2667 - val_acc: 0.1147\n",
      "Epoch 92/255\n",
      "50000/50000 [==============================] - 1s 16us/step - loss: 14.2660 - acc: 0.1149 - val_loss: 14.3276 - val_acc: 0.1110\n",
      "Epoch 93/255\n",
      "50000/50000 [==============================] - 1s 16us/step - loss: 14.3664 - acc: 0.1086 - val_loss: 14.2822 - val_acc: 0.1139\n",
      "Epoch 94/255\n",
      "50000/50000 [==============================] - 1s 15us/step - loss: 14.3100 - acc: 0.1121 - val_loss: 14.2954 - val_acc: 0.1130\n",
      "Epoch 95/255\n",
      "50000/50000 [==============================] - 1s 15us/step - loss: 14.3039 - acc: 0.1125 - val_loss: 14.2871 - val_acc: 0.1136\n",
      "Epoch 96/255\n",
      "50000/50000 [==============================] - 1s 14us/step - loss: 14.3212 - acc: 0.1114 - val_loss: 14.3052 - val_acc: 0.1124\n",
      "Epoch 97/255\n",
      "50000/50000 [==============================] - 1s 14us/step - loss: 14.3258 - acc: 0.1111 - val_loss: 14.2759 - val_acc: 0.1143\n",
      "Epoch 98/255\n",
      "50000/50000 [==============================] - 1s 16us/step - loss: 14.3083 - acc: 0.1122 - val_loss: 14.1899 - val_acc: 0.1196\n",
      "Epoch 99/255\n",
      "50000/50000 [==============================] - 1s 30us/step - loss: 14.2295 - acc: 0.1171 - val_loss: 14.1870 - val_acc: 0.1198\n",
      "Epoch 100/255\n",
      "50000/50000 [==============================] - 1s 18us/step - loss: 14.2358 - acc: 0.1167 - val_loss: 14.2019 - val_acc: 0.1188\n",
      "Epoch 101/255\n",
      "50000/50000 [==============================] - 1s 16us/step - loss: 14.2925 - acc: 0.1132 - val_loss: 14.2120 - val_acc: 0.1182\n",
      "Epoch 102/255\n",
      "50000/50000 [==============================] - 1s 17us/step - loss: 14.2606 - acc: 0.1152 - val_loss: 14.2304 - val_acc: 0.1171\n",
      "Epoch 103/255\n",
      "50000/50000 [==============================] - 1s 17us/step - loss: 14.2482 - acc: 0.1159 - val_loss: 14.2028 - val_acc: 0.1188\n",
      "Epoch 104/255\n",
      "50000/50000 [==============================] - 1s 17us/step - loss: 14.2396 - acc: 0.1165 - val_loss: 14.2066 - val_acc: 0.1185\n",
      "Epoch 105/255\n",
      "50000/50000 [==============================] - 1s 16us/step - loss: 14.2415 - acc: 0.1164 - val_loss: 14.2128 - val_acc: 0.1182\n",
      "Epoch 106/255\n",
      "50000/50000 [==============================] - 1s 14us/step - loss: 14.2310 - acc: 0.1171 - val_loss: 14.2178 - val_acc: 0.1179\n",
      "Epoch 107/255\n",
      "50000/50000 [==============================] - 1s 15us/step - loss: 14.2292 - acc: 0.1171 - val_loss: 14.1699 - val_acc: 0.1207\n",
      "Epoch 108/255\n",
      "50000/50000 [==============================] - 1s 16us/step - loss: 14.1935 - acc: 0.1193 - val_loss: 14.1452 - val_acc: 0.1224\n",
      "Epoch 109/255\n",
      "50000/50000 [==============================] - 1s 16us/step - loss: 14.1618 - acc: 0.1213 - val_loss: 14.1243 - val_acc: 0.1237\n",
      "Epoch 110/255\n",
      "50000/50000 [==============================] - 1s 15us/step - loss: 14.1383 - acc: 0.1228 - val_loss: 14.1639 - val_acc: 0.1211\n",
      "Epoch 111/255\n",
      "50000/50000 [==============================] - 1s 16us/step - loss: 14.1769 - acc: 0.1204 - val_loss: 14.1694 - val_acc: 0.1209\n",
      "Epoch 112/255\n",
      "50000/50000 [==============================] - 1s 16us/step - loss: 14.2089 - acc: 0.1184 - val_loss: 14.2349 - val_acc: 0.1168\n",
      "Epoch 113/255\n",
      "50000/50000 [==============================] - 1s 15us/step - loss: 14.2523 - acc: 0.1157 - val_loss: 14.2323 - val_acc: 0.1170\n",
      "Epoch 114/255\n",
      "50000/50000 [==============================] - 1s 21us/step - loss: 14.2741 - acc: 0.1143 - val_loss: 14.2501 - val_acc: 0.1158\n",
      "Epoch 115/255\n",
      "50000/50000 [==============================] - 1s 22us/step - loss: 14.2870 - acc: 0.1135 - val_loss: 14.2274 - val_acc: 0.1173\n",
      "Epoch 116/255\n",
      "50000/50000 [==============================] - 1s 22us/step - loss: 14.2712 - acc: 0.1146 - val_loss: 14.2374 - val_acc: 0.1166\n"
     ]
    },
    {
     "name": "stdout",
     "output_type": "stream",
     "text": [
      "Epoch 117/255\n",
      "50000/50000 [==============================] - 1s 16us/step - loss: 14.3007 - acc: 0.1127 - val_loss: 14.2965 - val_acc: 0.1130\n",
      "Epoch 118/255\n",
      "50000/50000 [==============================] - 1s 14us/step - loss: 14.3228 - acc: 0.1113 - val_loss: 14.2929 - val_acc: 0.1132\n",
      "Epoch 119/255\n",
      "50000/50000 [==============================] - 1s 13us/step - loss: 14.2863 - acc: 0.1136 - val_loss: 14.2326 - val_acc: 0.1169\n",
      "Epoch 120/255\n",
      "50000/50000 [==============================] - 1s 17us/step - loss: 14.2580 - acc: 0.1154 - val_loss: 14.2484 - val_acc: 0.1160\n",
      "Epoch 121/255\n",
      "50000/50000 [==============================] - 1s 14us/step - loss: 14.2863 - acc: 0.1136 - val_loss: 14.2390 - val_acc: 0.1165\n",
      "Epoch 122/255\n",
      "50000/50000 [==============================] - 1s 14us/step - loss: 14.2523 - acc: 0.1157 - val_loss: 14.2365 - val_acc: 0.1166\n",
      "Epoch 123/255\n",
      "50000/50000 [==============================] - 1s 14us/step - loss: 14.2359 - acc: 0.1167 - val_loss: 14.2271 - val_acc: 0.1173\n",
      "Epoch 124/255\n",
      "50000/50000 [==============================] - 1s 14us/step - loss: 14.2783 - acc: 0.1141 - val_loss: 14.2397 - val_acc: 0.1164\n",
      "Epoch 125/255\n",
      "50000/50000 [==============================] - 1s 15us/step - loss: 14.2665 - acc: 0.1148 - val_loss: 14.2604 - val_acc: 0.1152\n",
      "Epoch 126/255\n",
      "50000/50000 [==============================] - 1s 15us/step - loss: 14.2542 - acc: 0.1156 - val_loss: 14.2323 - val_acc: 0.1170\n",
      "Epoch 127/255\n",
      "50000/50000 [==============================] - 1s 15us/step - loss: 14.2348 - acc: 0.1168 - val_loss: 14.2172 - val_acc: 0.1179\n",
      "Epoch 128/255\n",
      "50000/50000 [==============================] - 1s 15us/step - loss: 14.2821 - acc: 0.1139 - val_loss: 14.3073 - val_acc: 0.1123\n",
      "Epoch 129/255\n",
      "50000/50000 [==============================] - 1s 16us/step - loss: 14.3294 - acc: 0.1109 - val_loss: 14.3000 - val_acc: 0.1128\n",
      "Epoch 130/255\n",
      "50000/50000 [==============================] - 1s 16us/step - loss: 14.2962 - acc: 0.1130 - val_loss: 14.2657 - val_acc: 0.1148\n",
      "Epoch 131/255\n",
      "50000/50000 [==============================] - 1s 16us/step - loss: 14.3262 - acc: 0.1111 - val_loss: 14.2690 - val_acc: 0.1147\n",
      "Epoch 132/255\n",
      "50000/50000 [==============================] - 1s 16us/step - loss: 14.3276 - acc: 0.1111 - val_loss: 14.2684 - val_acc: 0.1147\n",
      "Epoch 133/255\n",
      "50000/50000 [==============================] - 1s 16us/step - loss: 14.3192 - acc: 0.1115 - val_loss: 14.2484 - val_acc: 0.1160\n",
      "Epoch 134/255\n",
      "50000/50000 [==============================] - 1s 16us/step - loss: 14.2876 - acc: 0.1135 - val_loss: 14.2371 - val_acc: 0.1167\n",
      "Epoch 135/255\n",
      "50000/50000 [==============================] - 1s 15us/step - loss: 14.2844 - acc: 0.1137 - val_loss: 14.2087 - val_acc: 0.1184\n",
      "Epoch 136/255\n",
      "50000/50000 [==============================] - 1s 15us/step - loss: 14.2525 - acc: 0.1157 - val_loss: 14.1624 - val_acc: 0.1213\n",
      "Epoch 137/255\n",
      "50000/50000 [==============================] - 1s 15us/step - loss: 14.2148 - acc: 0.1180 - val_loss: 14.1993 - val_acc: 0.1190\n",
      "Epoch 138/255\n",
      "50000/50000 [==============================] - 1s 14us/step - loss: 14.2700 - acc: 0.1146 - val_loss: 14.2855 - val_acc: 0.1137\n",
      "Epoch 139/255\n",
      "50000/50000 [==============================] - 1s 13us/step - loss: 14.3205 - acc: 0.1115 - val_loss: 14.2786 - val_acc: 0.1141\n",
      "Epoch 140/255\n",
      "50000/50000 [==============================] - 1s 13us/step - loss: 14.2839 - acc: 0.1138 - val_loss: 14.2629 - val_acc: 0.1151\n",
      "Epoch 141/255\n",
      "50000/50000 [==============================] - 1s 14us/step - loss: 14.2399 - acc: 0.1165 - val_loss: 14.2355 - val_acc: 0.1168\n",
      "Epoch 142/255\n",
      "50000/50000 [==============================] - 1s 15us/step - loss: 14.2802 - acc: 0.1140 - val_loss: 14.2951 - val_acc: 0.1131\n",
      "Epoch 143/255\n",
      "50000/50000 [==============================] - 1s 15us/step - loss: 14.3186 - acc: 0.1116 - val_loss: 14.3028 - val_acc: 0.1124\n",
      "Epoch 144/255\n",
      "50000/50000 [==============================] - 1s 14us/step - loss: 14.2953 - acc: 0.1130 - val_loss: 14.2935 - val_acc: 0.1132\n",
      "Epoch 145/255\n",
      "50000/50000 [==============================] - 1s 15us/step - loss: 14.3114 - acc: 0.1121 - val_loss: 14.3302 - val_acc: 0.1109\n",
      "Epoch 146/255\n",
      "50000/50000 [==============================] - 1s 15us/step - loss: 14.3631 - acc: 0.1089 - val_loss: 14.3718 - val_acc: 0.1083\n",
      "Epoch 147/255\n",
      "50000/50000 [==============================] - 1s 14us/step - loss: 14.3573 - acc: 0.1092 - val_loss: 14.2774 - val_acc: 0.1142\n",
      "Epoch 148/255\n",
      "50000/50000 [==============================] - 1s 14us/step - loss: 14.2962 - acc: 0.1130 - val_loss: 14.3136 - val_acc: 0.1119\n",
      "Epoch 149/255\n",
      "50000/50000 [==============================] - 1s 15us/step - loss: 14.3488 - acc: 0.1097 - val_loss: 14.3015 - val_acc: 0.1127\n",
      "Epoch 150/255\n",
      "50000/50000 [==============================] - 1s 16us/step - loss: 14.2644 - acc: 0.1149 - val_loss: 14.1710 - val_acc: 0.1208\n",
      "Epoch 151/255\n",
      "50000/50000 [==============================] - 1s 15us/step - loss: 14.2298 - acc: 0.1171 - val_loss: 14.1811 - val_acc: 0.1201\n",
      "Epoch 152/255\n",
      "50000/50000 [==============================] - 1s 14us/step - loss: 14.2166 - acc: 0.1180 - val_loss: 14.1702 - val_acc: 0.1208\n",
      "Epoch 153/255\n",
      "50000/50000 [==============================] - 1s 15us/step - loss: 14.1886 - acc: 0.1197 - val_loss: 14.1712 - val_acc: 0.1206\n",
      "Epoch 154/255\n",
      "50000/50000 [==============================] - 1s 17us/step - loss: 14.2346 - acc: 0.1168 - val_loss: 14.2081 - val_acc: 0.1184\n",
      "Epoch 155/255\n",
      "50000/50000 [==============================] - 1s 17us/step - loss: 14.2192 - acc: 0.1178 - val_loss: 14.2170 - val_acc: 0.1178\n",
      "Epoch 156/255\n",
      "50000/50000 [==============================] - 1s 17us/step - loss: 14.2963 - acc: 0.1130 - val_loss: 14.3000 - val_acc: 0.1128\n",
      "Epoch 157/255\n",
      "50000/50000 [==============================] - 1s 17us/step - loss: 14.3184 - acc: 0.1116 - val_loss: 14.2903 - val_acc: 0.1134\n",
      "Epoch 158/255\n",
      "50000/50000 [==============================] - 1s 16us/step - loss: 14.2979 - acc: 0.1129 - val_loss: 14.2513 - val_acc: 0.1157\n",
      "Epoch 159/255\n",
      "50000/50000 [==============================] - 1s 16us/step - loss: 14.2369 - acc: 0.1167 - val_loss: 14.2318 - val_acc: 0.1170\n",
      "Epoch 160/255\n",
      "50000/50000 [==============================] - 1s 15us/step - loss: 14.3084 - acc: 0.1123 - val_loss: 14.2645 - val_acc: 0.1150\n",
      "Epoch 161/255\n",
      "50000/50000 [==============================] - 1s 15us/step - loss: 14.2706 - acc: 0.1146 - val_loss: 14.2226 - val_acc: 0.1176\n",
      "Epoch 162/255\n",
      "50000/50000 [==============================] - 1s 16us/step - loss: 14.2622 - acc: 0.1151 - val_loss: 14.2000 - val_acc: 0.1190\n",
      "Epoch 163/255\n",
      "50000/50000 [==============================] - 1s 14us/step - loss: 14.2272 - acc: 0.1173 - val_loss: 14.1651 - val_acc: 0.1211\n",
      "Epoch 164/255\n",
      "50000/50000 [==============================] - 1s 14us/step - loss: 14.1528 - acc: 0.1218 - val_loss: 14.1160 - val_acc: 0.1242\n",
      "Epoch 165/255\n",
      "50000/50000 [==============================] - 1s 15us/step - loss: 14.1538 - acc: 0.1218 - val_loss: 14.1761 - val_acc: 0.1204\n",
      "Epoch 166/255\n",
      "50000/50000 [==============================] - 1s 15us/step - loss: 14.2165 - acc: 0.1179 - val_loss: 14.2083 - val_acc: 0.1184\n",
      "Epoch 167/255\n",
      "50000/50000 [==============================] - 1s 15us/step - loss: 14.2230 - acc: 0.1175 - val_loss: 14.1855 - val_acc: 0.1199\n",
      "Epoch 168/255\n",
      "50000/50000 [==============================] - 1s 15us/step - loss: 14.3315 - acc: 0.1108 - val_loss: 14.2951 - val_acc: 0.1131\n",
      "Epoch 169/255\n",
      "50000/50000 [==============================] - 1s 16us/step - loss: 14.3457 - acc: 0.1099 - val_loss: 14.3287 - val_acc: 0.1110\n",
      "Epoch 170/255\n",
      "50000/50000 [==============================] - 1s 19us/step - loss: 14.3705 - acc: 0.1084 - val_loss: 14.3628 - val_acc: 0.1089\n",
      "Epoch 171/255\n",
      "50000/50000 [==============================] - 1s 17us/step - loss: 14.3711 - acc: 0.1084 - val_loss: 14.3258 - val_acc: 0.1112\n",
      "Epoch 172/255\n",
      "50000/50000 [==============================] - 1s 17us/step - loss: 14.3017 - acc: 0.1127 - val_loss: 14.2774 - val_acc: 0.1142\n",
      "Epoch 173/255\n",
      "50000/50000 [==============================] - 1s 17us/step - loss: 14.2643 - acc: 0.1150 - val_loss: 14.2661 - val_acc: 0.1149\n",
      "Epoch 174/255\n",
      "50000/50000 [==============================] - 1s 17us/step - loss: 14.2698 - acc: 0.1146 - val_loss: 14.2392 - val_acc: 0.1165\n"
     ]
    },
    {
     "name": "stdout",
     "output_type": "stream",
     "text": [
      "Epoch 175/255\n",
      "50000/50000 [==============================] - 1s 17us/step - loss: 14.2617 - acc: 0.1152 - val_loss: 14.2419 - val_acc: 0.1164\n",
      "Epoch 176/255\n",
      "50000/50000 [==============================] - 1s 15us/step - loss: 14.2871 - acc: 0.1136 - val_loss: 14.2694 - val_acc: 0.1147\n",
      "Epoch 177/255\n",
      "50000/50000 [==============================] - 1s 15us/step - loss: 14.3038 - acc: 0.1126 - val_loss: 14.2694 - val_acc: 0.1147\n",
      "Epoch 178/255\n",
      "50000/50000 [==============================] - 1s 14us/step - loss: 14.2973 - acc: 0.1129 - val_loss: 14.2613 - val_acc: 0.1152\n",
      "Epoch 179/255\n",
      "50000/50000 [==============================] - 1s 14us/step - loss: 14.2818 - acc: 0.1139 - val_loss: 14.2307 - val_acc: 0.1171\n",
      "Epoch 180/255\n",
      "50000/50000 [==============================] - 1s 15us/step - loss: 14.2788 - acc: 0.1141 - val_loss: 14.2242 - val_acc: 0.1175\n",
      "Epoch 181/255\n",
      "50000/50000 [==============================] - 1s 14us/step - loss: 14.3009 - acc: 0.1127 - val_loss: 14.2313 - val_acc: 0.1170\n",
      "Epoch 182/255\n",
      "50000/50000 [==============================] - 1s 13us/step - loss: 14.3373 - acc: 0.1104 - val_loss: 14.3051 - val_acc: 0.1124\n",
      "Epoch 183/255\n",
      "50000/50000 [==============================] - 1s 14us/step - loss: 14.3646 - acc: 0.1088 - val_loss: 14.2742 - val_acc: 0.1144\n",
      "Epoch 184/255\n",
      "50000/50000 [==============================] - 1s 14us/step - loss: 14.3478 - acc: 0.1098 - val_loss: 14.3128 - val_acc: 0.1120\n",
      "Epoch 185/255\n",
      "50000/50000 [==============================] - 1s 14us/step - loss: 14.3226 - acc: 0.1114 - val_loss: 14.2773 - val_acc: 0.1140\n",
      "Epoch 186/255\n",
      "50000/50000 [==============================] - 1s 15us/step - loss: 14.3179 - acc: 0.1116 - val_loss: 14.3258 - val_acc: 0.1112\n",
      "Epoch 187/255\n",
      "50000/50000 [==============================] - 1s 14us/step - loss: 14.3670 - acc: 0.1086 - val_loss: 14.3822 - val_acc: 0.1077\n",
      "Epoch 188/255\n",
      "50000/50000 [==============================] - 1s 15us/step - loss: 14.4173 - acc: 0.1055 - val_loss: 14.3887 - val_acc: 0.1073\n",
      "Epoch 189/255\n",
      "50000/50000 [==============================] - 1s 15us/step - loss: 14.4740 - acc: 0.1020 - val_loss: 14.4886 - val_acc: 0.1011\n",
      "Epoch 190/255\n",
      "50000/50000 [==============================] - 1s 16us/step - loss: 14.5071 - acc: 0.0999 - val_loss: 14.4837 - val_acc: 0.1014\n",
      "Epoch 191/255\n",
      "50000/50000 [==============================] - 1s 15us/step - loss: 14.4787 - acc: 0.1017 - val_loss: 14.4531 - val_acc: 0.1033\n",
      "Epoch 192/255\n",
      "50000/50000 [==============================] - 1s 16us/step - loss: 14.4411 - acc: 0.1040 - val_loss: 14.3693 - val_acc: 0.1085\n",
      "Epoch 193/255\n",
      "50000/50000 [==============================] - 1s 15us/step - loss: 14.4078 - acc: 0.1061 - val_loss: 14.3612 - val_acc: 0.1090\n",
      "Epoch 194/255\n",
      "50000/50000 [==============================] - 1s 14us/step - loss: 14.4164 - acc: 0.1056 - val_loss: 14.3983 - val_acc: 0.1067\n",
      "Epoch 195/255\n",
      "50000/50000 [==============================] - 1s 14us/step - loss: 14.3603 - acc: 0.1090 - val_loss: 14.3331 - val_acc: 0.1107\n",
      "Epoch 196/255\n",
      "50000/50000 [==============================] - 1s 14us/step - loss: 14.3360 - acc: 0.1105 - val_loss: 14.3246 - val_acc: 0.1112\n",
      "Epoch 197/255\n",
      "50000/50000 [==============================] - 1s 14us/step - loss: 14.3383 - acc: 0.1104 - val_loss: 14.3403 - val_acc: 0.1103\n",
      "Epoch 198/255\n",
      "50000/50000 [==============================] - 1s 15us/step - loss: 14.3735 - acc: 0.1082 - val_loss: 14.3403 - val_acc: 0.1103\n",
      "Epoch 199/255\n",
      "50000/50000 [==============================] - 1s 15us/step - loss: 14.3688 - acc: 0.1085 - val_loss: 14.3419 - val_acc: 0.1102\n",
      "Epoch 200/255\n",
      "50000/50000 [==============================] - 1s 15us/step - loss: 14.3464 - acc: 0.1099 - val_loss: 14.3370 - val_acc: 0.1105\n",
      "Epoch 201/255\n",
      "50000/50000 [==============================] - 1s 15us/step - loss: 14.3783 - acc: 0.1079 - val_loss: 14.3460 - val_acc: 0.1098\n",
      "Epoch 202/255\n",
      "50000/50000 [==============================] - 1s 15us/step - loss: 14.3837 - acc: 0.1076 - val_loss: 14.3305 - val_acc: 0.1109\n",
      "Epoch 203/255\n",
      "50000/50000 [==============================] - 1s 15us/step - loss: 14.3560 - acc: 0.1093 - val_loss: 14.3274 - val_acc: 0.1111\n",
      "Epoch 204/255\n",
      "50000/50000 [==============================] - 1s 16us/step - loss: 14.3775 - acc: 0.1080 - val_loss: 14.3209 - val_acc: 0.1115\n",
      "Epoch 205/255\n",
      "50000/50000 [==============================] - 1s 17us/step - loss: 14.3674 - acc: 0.1086 - val_loss: 14.3225 - val_acc: 0.1114\n",
      "Epoch 206/255\n",
      "50000/50000 [==============================] - 1s 15us/step - loss: 14.3680 - acc: 0.1086 - val_loss: 14.3225 - val_acc: 0.1114\n",
      "Epoch 207/255\n",
      "50000/50000 [==============================] - 1s 14us/step - loss: 14.3711 - acc: 0.1084 - val_loss: 14.3032 - val_acc: 0.1126\n",
      "Epoch 208/255\n",
      "50000/50000 [==============================] - 1s 17us/step - loss: 14.3250 - acc: 0.1112 - val_loss: 14.2342 - val_acc: 0.1168\n",
      "Epoch 209/255\n",
      "50000/50000 [==============================] - 1s 17us/step - loss: 14.2702 - acc: 0.1146 - val_loss: 14.2065 - val_acc: 0.1186\n",
      "Epoch 210/255\n",
      "50000/50000 [==============================] - 1s 17us/step - loss: 14.2757 - acc: 0.1143 - val_loss: 14.2677 - val_acc: 0.1148\n",
      "Epoch 211/255\n",
      "50000/50000 [==============================] - 1s 18us/step - loss: 14.2973 - acc: 0.1129 - val_loss: 14.2903 - val_acc: 0.1134\n",
      "Epoch 212/255\n",
      "50000/50000 [==============================] - 1s 18us/step - loss: 14.3538 - acc: 0.1094 - val_loss: 14.2597 - val_acc: 0.1153\n",
      "Epoch 213/255\n",
      "50000/50000 [==============================] - 1s 16us/step - loss: 14.2927 - acc: 0.1132 - val_loss: 14.2197 - val_acc: 0.1177\n",
      "Epoch 214/255\n",
      "50000/50000 [==============================] - 1s 16us/step - loss: 14.2608 - acc: 0.1152 - val_loss: 14.2150 - val_acc: 0.1179\n",
      "Epoch 215/255\n",
      "50000/50000 [==============================] - 1s 16us/step - loss: 14.2503 - acc: 0.1159 - val_loss: 14.1792 - val_acc: 0.1202\n",
      "Epoch 216/255\n",
      "50000/50000 [==============================] - 1s 15us/step - loss: 14.2490 - acc: 0.1160 - val_loss: 14.1792 - val_acc: 0.1202\n",
      "Epoch 217/255\n",
      "50000/50000 [==============================] - 1s 15us/step - loss: 14.2249 - acc: 0.1174 - val_loss: 14.1678 - val_acc: 0.1210\n",
      "Epoch 218/255\n",
      "50000/50000 [==============================] - 1s 14us/step - loss: 14.2852 - acc: 0.1137 - val_loss: 14.2436 - val_acc: 0.1163\n",
      "Epoch 219/255\n",
      "50000/50000 [==============================] - 1s 16us/step - loss: 14.2990 - acc: 0.1128 - val_loss: 14.2129 - val_acc: 0.1182\n",
      "Epoch 220/255\n",
      "50000/50000 [==============================] - 1s 18us/step - loss: 14.2685 - acc: 0.1147 - val_loss: 14.2428 - val_acc: 0.1162\n",
      "Epoch 221/255\n",
      "50000/50000 [==============================] - 1s 17us/step - loss: 14.2604 - acc: 0.1152 - val_loss: 14.2062 - val_acc: 0.1186\n",
      "Epoch 222/255\n",
      "50000/50000 [==============================] - 1s 16us/step - loss: 14.2536 - acc: 0.1156 - val_loss: 14.2436 - val_acc: 0.1163\n",
      "Epoch 223/255\n",
      "50000/50000 [==============================] - 1s 17us/step - loss: 14.2843 - acc: 0.1138 - val_loss: 14.2240 - val_acc: 0.1175\n",
      "Epoch 224/255\n",
      "50000/50000 [==============================] - 1s 14us/step - loss: 14.2025 - acc: 0.1188 - val_loss: 14.1741 - val_acc: 0.1206\n",
      "Epoch 225/255\n",
      "50000/50000 [==============================] - 1s 14us/step - loss: 14.1950 - acc: 0.1192 - val_loss: 14.1948 - val_acc: 0.1193\n",
      "Epoch 226/255\n",
      "50000/50000 [==============================] - 1s 16us/step - loss: 14.2334 - acc: 0.1169 - val_loss: 14.2162 - val_acc: 0.1180\n",
      "Epoch 227/255\n",
      "50000/50000 [==============================] - 1s 16us/step - loss: 14.2592 - acc: 0.1153 - val_loss: 14.2196 - val_acc: 0.1176\n",
      "Epoch 228/255\n",
      "50000/50000 [==============================] - 1s 15us/step - loss: 14.2512 - acc: 0.1158 - val_loss: 14.1871 - val_acc: 0.1198\n",
      "Epoch 229/255\n",
      "50000/50000 [==============================] - 1s 16us/step - loss: 14.2289 - acc: 0.1172 - val_loss: 14.2210 - val_acc: 0.1177\n",
      "Epoch 230/255\n",
      "50000/50000 [==============================] - 1s 15us/step - loss: 14.2347 - acc: 0.1168 - val_loss: 14.2055 - val_acc: 0.1186\n",
      "Epoch 231/255\n",
      "50000/50000 [==============================] - 1s 14us/step - loss: 14.2280 - acc: 0.1172 - val_loss: 14.2424 - val_acc: 0.1163\n",
      "Epoch 232/255\n",
      "50000/50000 [==============================] - 1s 15us/step - loss: 14.2460 - acc: 0.1161 - val_loss: 14.2264 - val_acc: 0.1173\n"
     ]
    },
    {
     "name": "stdout",
     "output_type": "stream",
     "text": [
      "Epoch 233/255\n",
      "50000/50000 [==============================] - 1s 16us/step - loss: 14.2666 - acc: 0.1149 - val_loss: 14.2581 - val_acc: 0.1154\n",
      "Epoch 234/255\n",
      "50000/50000 [==============================] - 1s 18us/step - loss: 14.3206 - acc: 0.1115 - val_loss: 14.3322 - val_acc: 0.1108\n",
      "Epoch 235/255\n",
      "50000/50000 [==============================] - 1s 18us/step - loss: 14.3580 - acc: 0.1092 - val_loss: 14.3372 - val_acc: 0.1104\n",
      "Epoch 236/255\n",
      "50000/50000 [==============================] - 1s 17us/step - loss: 14.3392 - acc: 0.1104 - val_loss: 14.2761 - val_acc: 0.1142\n",
      "Epoch 237/255\n",
      "50000/50000 [==============================] - 1s 17us/step - loss: 14.3124 - acc: 0.1120 - val_loss: 14.2803 - val_acc: 0.1140\n",
      "Epoch 238/255\n",
      "50000/50000 [==============================] - 1s 17us/step - loss: 14.2516 - acc: 0.1158 - val_loss: 14.2419 - val_acc: 0.1164\n",
      "Epoch 239/255\n",
      "50000/50000 [==============================] - 1s 16us/step - loss: 14.2691 - acc: 0.1147 - val_loss: 14.2247 - val_acc: 0.1174\n",
      "Epoch 240/255\n",
      "50000/50000 [==============================] - 1s 17us/step - loss: 14.2395 - acc: 0.1165 - val_loss: 14.2127 - val_acc: 0.1182\n",
      "Epoch 241/255\n",
      "50000/50000 [==============================] - 1s 20us/step - loss: 14.2294 - acc: 0.1172 - val_loss: 14.2049 - val_acc: 0.1186\n",
      "Epoch 242/255\n",
      "50000/50000 [==============================] - 1s 25us/step - loss: 14.2320 - acc: 0.1170 - val_loss: 14.2242 - val_acc: 0.1175\n",
      "Epoch 243/255\n",
      "50000/50000 [==============================] - 1s 23us/step - loss: 14.2382 - acc: 0.1166 - val_loss: 14.2178 - val_acc: 0.1179\n",
      "Epoch 244/255\n",
      "50000/50000 [==============================] - 1s 21us/step - loss: 14.2209 - acc: 0.1177 - val_loss: 14.2258 - val_acc: 0.1174\n",
      "Epoch 245/255\n",
      "50000/50000 [==============================] - 1s 21us/step - loss: 14.2152 - acc: 0.1181 - val_loss: 14.2258 - val_acc: 0.1174\n",
      "Epoch 246/255\n",
      "50000/50000 [==============================] - 1s 17us/step - loss: 14.2389 - acc: 0.1165 - val_loss: 14.2403 - val_acc: 0.1165\n",
      "Epoch 247/255\n",
      "50000/50000 [==============================] - 1s 15us/step - loss: 14.2434 - acc: 0.1163 - val_loss: 14.2282 - val_acc: 0.1172\n",
      "Epoch 248/255\n",
      "50000/50000 [==============================] - 1s 16us/step - loss: 14.2253 - acc: 0.1174 - val_loss: 14.2452 - val_acc: 0.1162\n",
      "Epoch 249/255\n",
      "50000/50000 [==============================] - 1s 16us/step - loss: 14.2642 - acc: 0.1150 - val_loss: 14.2581 - val_acc: 0.1154\n",
      "Epoch 250/255\n",
      "50000/50000 [==============================] - 1s 17us/step - loss: 14.2720 - acc: 0.1145 - val_loss: 14.2492 - val_acc: 0.1159\n",
      "Epoch 251/255\n",
      "50000/50000 [==============================] - 1s 16us/step - loss: 14.2406 - acc: 0.1164 - val_loss: 14.2645 - val_acc: 0.1150\n",
      "Epoch 252/255\n",
      "50000/50000 [==============================] - 1s 16us/step - loss: 14.2634 - acc: 0.1151 - val_loss: 14.2693 - val_acc: 0.1147\n",
      "Epoch 253/255\n",
      "50000/50000 [==============================] - 1s 15us/step - loss: 14.3127 - acc: 0.1120 - val_loss: 14.3499 - val_acc: 0.1097\n",
      "Epoch 254/255\n",
      "50000/50000 [==============================] - 1s 14us/step - loss: 14.3727 - acc: 0.1082 - val_loss: 14.3371 - val_acc: 0.1105\n",
      "Epoch 255/255\n",
      "50000/50000 [==============================] - 1s 15us/step - loss: 14.3650 - acc: 0.1088 - val_loss: 14.3322 - val_acc: 0.1108\n"
     ]
    }
   ],
   "source": [
    "history_d = trainingD(model_vgg_d)"
   ]
  },
  {
   "cell_type": "code",
   "execution_count": 43,
   "metadata": {
    "ExecuteTime": {
     "end_time": "2018-11-29T23:41:07.466517Z",
     "start_time": "2018-11-29T23:41:07.251293Z"
    }
   },
   "outputs": [
    {
     "data": {
      "image/png": "[encoded data removed]",
      "text/plain": [
       "<Figure size 1080x360 with 3 Axes>"
      ]
     },
     "metadata": {
      "needs_background": "light"
     },
     "output_type": "display_data"
    }
   ],
   "source": [
    "plotChart('Figura d.1. Loss y Accuracy de entrenamiento y validación de red pre-entrenada.', \n",
    "          history_d.history['loss'], 'Entrenamiento',history_d.history['val_loss'], 'Validación',\n",
    "          history_d.history['acc'], 'Entrenamiento',history_d.history['val_acc'], 'Validación'\n",
    "         )"
   ]
  },
  {
   "cell_type": "markdown",
   "metadata": {},
   "source": [
    "> Como se puede apreciar en la grafica **d.1**, sin bien existe un error alto, el nivel de convergencia entre el entrenamiento y validación es bastante bueno."
   ]
  },
  {
   "cell_type": "markdown",
   "metadata": {},
   "source": [
    "##### Pregunta E."
   ]
  },
  {
   "cell_type": "code",
   "execution_count": 44,
   "metadata": {
    "ExecuteTime": {
     "end_time": "2018-11-29T23:45:48.886662Z",
     "start_time": "2018-11-29T23:45:48.883541Z"
    }
   },
   "outputs": [],
   "source": [
    "def modelVGGChangedE(model_vgg):\n",
    "    for i in range(4):\n",
    "        model_vgg.layers.pop() \n",
    "    model = Sequential()\n",
    "    model.add(Flatten(input_shape=features_train.shape[1:]))\n",
    "    model.add(BatchNormalization())\n",
    "    model.add(Dense(1024, activation='relu'))\n",
    "    model.add(BatchNormalization())\n",
    "    model.add(Dropout(0.5))\n",
    "    model.add(Dense(100))\n",
    "    model.add(Activation('softmax'))\n",
    "    return model"
   ]
  },
  {
   "cell_type": "code",
   "execution_count": 45,
   "metadata": {
    "ExecuteTime": {
     "end_time": "2018-11-29T23:46:08.072982Z",
     "start_time": "2018-11-29T23:45:50.315514Z"
    }
   },
   "outputs": [],
   "source": [
    "model_vgg_e=modelVGG(x_train, x_test)"
   ]
  },
  {
   "cell_type": "code",
   "execution_count": 46,
   "metadata": {
    "ExecuteTime": {
     "end_time": "2018-11-29T23:46:08.225990Z",
     "start_time": "2018-11-29T23:46:08.074877Z"
    }
   },
   "outputs": [],
   "source": [
    "model_vgg_chng_e=modelVGGChangedE(model_vgg_e)"
   ]
  },
  {
   "cell_type": "code",
   "execution_count": 47,
   "metadata": {
    "ExecuteTime": {
     "end_time": "2018-11-29T23:50:34.602060Z",
     "start_time": "2018-11-29T23:46:08.226988Z"
    }
   },
   "outputs": [
    {
     "name": "stdout",
     "output_type": "stream",
     "text": [
      "Train on 50000 samples, validate on 10000 samples\n",
      "Epoch 1/255\n",
      "50000/50000 [==============================] - 1s 28us/step - loss: 3.3067 - acc: 0.2719 - val_loss: 2.4424 - val_acc: 0.3937\n",
      "Epoch 2/255\n",
      "50000/50000 [==============================] - 1s 19us/step - loss: 2.4829 - acc: 0.3759 - val_loss: 2.3138 - val_acc: 0.4083\n",
      "Epoch 3/255\n",
      "50000/50000 [==============================] - 1s 18us/step - loss: 2.2584 - acc: 0.4139 - val_loss: 2.2577 - val_acc: 0.4216\n",
      "Epoch 4/255\n",
      "50000/50000 [==============================] - 1s 18us/step - loss: 2.1188 - acc: 0.4355 - val_loss: 2.2188 - val_acc: 0.4300\n",
      "Epoch 5/255\n",
      "50000/50000 [==============================] - 1s 18us/step - loss: 2.0121 - acc: 0.4608 - val_loss: 2.2170 - val_acc: 0.4290\n",
      "Epoch 6/255\n",
      "50000/50000 [==============================] - 1s 18us/step - loss: 1.9341 - acc: 0.4737 - val_loss: 2.1987 - val_acc: 0.4390\n",
      "Epoch 7/255\n",
      "50000/50000 [==============================] - 1s 18us/step - loss: 1.8582 - acc: 0.4894 - val_loss: 2.1963 - val_acc: 0.4426\n",
      "Epoch 8/255\n",
      "50000/50000 [==============================] - 1s 18us/step - loss: 1.7981 - acc: 0.4997 - val_loss: 2.1976 - val_acc: 0.4403\n",
      "Epoch 9/255\n",
      "50000/50000 [==============================] - 1s 18us/step - loss: 1.7351 - acc: 0.5150 - val_loss: 2.1915 - val_acc: 0.4440\n",
      "Epoch 10/255\n",
      "50000/50000 [==============================] - 1s 21us/step - loss: 1.6768 - acc: 0.5289 - val_loss: 2.1909 - val_acc: 0.4440\n",
      "Epoch 11/255\n",
      "50000/50000 [==============================] - 1s 21us/step - loss: 1.6247 - acc: 0.5397 - val_loss: 2.1864 - val_acc: 0.4474\n",
      "Epoch 12/255\n",
      "50000/50000 [==============================] - 1s 21us/step - loss: 1.5707 - acc: 0.5514 - val_loss: 2.1993 - val_acc: 0.4510\n",
      "Epoch 13/255\n",
      "50000/50000 [==============================] - 1s 21us/step - loss: 1.5255 - acc: 0.5617 - val_loss: 2.2041 - val_acc: 0.4490\n",
      "Epoch 14/255\n",
      "50000/50000 [==============================] - 1s 21us/step - loss: 1.4695 - acc: 0.5747 - val_loss: 2.2125 - val_acc: 0.4497\n",
      "Epoch 15/255\n",
      "50000/50000 [==============================] - 1s 21us/step - loss: 1.4384 - acc: 0.5847 - val_loss: 2.2321 - val_acc: 0.4499\n",
      "Epoch 16/255\n",
      "50000/50000 [==============================] - 1s 21us/step - loss: 1.3946 - acc: 0.5933 - val_loss: 2.2508 - val_acc: 0.4475\n",
      "Epoch 17/255\n",
      "50000/50000 [==============================] - 1s 22us/step - loss: 1.3535 - acc: 0.6015 - val_loss: 2.2534 - val_acc: 0.4493\n",
      "Epoch 18/255\n",
      "50000/50000 [==============================] - 1s 22us/step - loss: 1.3261 - acc: 0.6096 - val_loss: 2.2714 - val_acc: 0.4487\n",
      "Epoch 19/255\n",
      "50000/50000 [==============================] - 1s 22us/step - loss: 1.2760 - acc: 0.6245 - val_loss: 2.2818 - val_acc: 0.4483\n",
      "Epoch 20/255\n",
      "50000/50000 [==============================] - 1s 22us/step - loss: 1.2518 - acc: 0.6296 - val_loss: 2.2924 - val_acc: 0.4488\n",
      "Epoch 21/255\n",
      "50000/50000 [==============================] - 1s 21us/step - loss: 1.2204 - acc: 0.6352 - val_loss: 2.3084 - val_acc: 0.4447\n",
      "Epoch 22/255\n",
      "50000/50000 [==============================] - 1s 21us/step - loss: 1.1962 - acc: 0.6401 - val_loss: 2.3191 - val_acc: 0.4514\n",
      "Epoch 23/255\n",
      "50000/50000 [==============================] - 1s 23us/step - loss: 1.1564 - acc: 0.6528 - val_loss: 2.3329 - val_acc: 0.4472\n",
      "Epoch 24/255\n",
      "50000/50000 [==============================] - 1s 23us/step - loss: 1.1482 - acc: 0.6543 - val_loss: 2.3576 - val_acc: 0.4499\n",
      "Epoch 25/255\n",
      "50000/50000 [==============================] - 1s 24us/step - loss: 1.1208 - acc: 0.6609 - val_loss: 2.3638 - val_acc: 0.4462\n",
      "Epoch 26/255\n",
      "50000/50000 [==============================] - 1s 24us/step - loss: 1.0857 - acc: 0.6725 - val_loss: 2.3705 - val_acc: 0.4528\n",
      "Epoch 27/255\n",
      "50000/50000 [==============================] - 1s 24us/step - loss: 1.0701 - acc: 0.6745 - val_loss: 2.3947 - val_acc: 0.4462\n",
      "Epoch 28/255\n",
      "50000/50000 [==============================] - 1s 23us/step - loss: 1.0437 - acc: 0.6823 - val_loss: 2.4025 - val_acc: 0.4482\n",
      "Epoch 29/255\n",
      "50000/50000 [==============================] - 1s 23us/step - loss: 1.0312 - acc: 0.6843 - val_loss: 2.4287 - val_acc: 0.4481\n",
      "Epoch 30/255\n",
      "50000/50000 [==============================] - 1s 23us/step - loss: 1.0068 - acc: 0.6906 - val_loss: 2.4276 - val_acc: 0.4446\n",
      "Epoch 31/255\n",
      "50000/50000 [==============================] - 1s 23us/step - loss: 0.9951 - acc: 0.6960 - val_loss: 2.4460 - val_acc: 0.4450\n",
      "Epoch 32/255\n",
      "50000/50000 [==============================] - 1s 23us/step - loss: 0.9641 - acc: 0.7045 - val_loss: 2.4517 - val_acc: 0.4503\n",
      "Epoch 33/255\n",
      "50000/50000 [==============================] - 1s 23us/step - loss: 0.9518 - acc: 0.7049 - val_loss: 2.4847 - val_acc: 0.4450\n",
      "Epoch 34/255\n",
      "50000/50000 [==============================] - 1s 23us/step - loss: 0.9326 - acc: 0.7105 - val_loss: 2.4755 - val_acc: 0.4474\n",
      "Epoch 35/255\n",
      "50000/50000 [==============================] - 1s 23us/step - loss: 0.9439 - acc: 0.7098 - val_loss: 2.4967 - val_acc: 0.4457\n",
      "Epoch 36/255\n",
      "50000/50000 [==============================] - 1s 24us/step - loss: 0.9096 - acc: 0.7180 - val_loss: 2.4903 - val_acc: 0.4450\n",
      "Epoch 37/255\n",
      "50000/50000 [==============================] - 1s 23us/step - loss: 0.8974 - acc: 0.7220 - val_loss: 2.5133 - val_acc: 0.4447\n",
      "Epoch 38/255\n",
      "50000/50000 [==============================] - 1s 23us/step - loss: 0.8864 - acc: 0.7270 - val_loss: 2.5184 - val_acc: 0.4445\n",
      "Epoch 39/255\n",
      "50000/50000 [==============================] - 1s 24us/step - loss: 0.8647 - acc: 0.7309 - val_loss: 2.5272 - val_acc: 0.4492\n",
      "Epoch 40/255\n",
      "50000/50000 [==============================] - 1s 23us/step - loss: 0.8488 - acc: 0.7332 - val_loss: 2.5412 - val_acc: 0.4470\n",
      "Epoch 41/255\n",
      "50000/50000 [==============================] - 1s 23us/step - loss: 0.8425 - acc: 0.7373 - val_loss: 2.5561 - val_acc: 0.4446\n",
      "Epoch 42/255\n",
      "50000/50000 [==============================] - 1s 20us/step - loss: 0.8268 - acc: 0.7418 - val_loss: 2.5669 - val_acc: 0.4453\n",
      "Epoch 43/255\n",
      "50000/50000 [==============================] - 1s 19us/step - loss: 0.8170 - acc: 0.7429 - val_loss: 2.5991 - val_acc: 0.4428\n",
      "Epoch 44/255\n",
      "50000/50000 [==============================] - 1s 19us/step - loss: 0.8030 - acc: 0.7466 - val_loss: 2.5860 - val_acc: 0.4430\n",
      "Epoch 45/255\n",
      "50000/50000 [==============================] - 1s 18us/step - loss: 0.8012 - acc: 0.7484 - val_loss: 2.5873 - val_acc: 0.4435\n",
      "Epoch 46/255\n",
      "50000/50000 [==============================] - 1s 18us/step - loss: 0.7933 - acc: 0.7496 - val_loss: 2.6040 - val_acc: 0.4468\n",
      "Epoch 47/255\n",
      "50000/50000 [==============================] - 1s 18us/step - loss: 0.7795 - acc: 0.7572 - val_loss: 2.6265 - val_acc: 0.4435\n",
      "Epoch 48/255\n",
      "50000/50000 [==============================] - 1s 21us/step - loss: 0.7711 - acc: 0.7560 - val_loss: 2.6395 - val_acc: 0.4472\n",
      "Epoch 49/255\n",
      "50000/50000 [==============================] - 1s 21us/step - loss: 0.7550 - acc: 0.7608 - val_loss: 2.6329 - val_acc: 0.4453\n",
      "Epoch 50/255\n",
      "50000/50000 [==============================] - 1s 21us/step - loss: 0.7458 - acc: 0.7635 - val_loss: 2.6560 - val_acc: 0.4461\n",
      "Epoch 51/255\n",
      "50000/50000 [==============================] - 1s 21us/step - loss: 0.7458 - acc: 0.7633 - val_loss: 2.6653 - val_acc: 0.4454\n",
      "Epoch 52/255\n",
      "50000/50000 [==============================] - 1s 22us/step - loss: 0.7330 - acc: 0.7681 - val_loss: 2.6780 - val_acc: 0.4445\n",
      "Epoch 53/255\n",
      "50000/50000 [==============================] - 1s 21us/step - loss: 0.7134 - acc: 0.7729 - val_loss: 2.6822 - val_acc: 0.4471\n",
      "Epoch 54/255\n",
      "50000/50000 [==============================] - 1s 18us/step - loss: 0.7207 - acc: 0.7729 - val_loss: 2.6961 - val_acc: 0.4446\n",
      "Epoch 55/255\n",
      "50000/50000 [==============================] - 1s 18us/step - loss: 0.7054 - acc: 0.7750 - val_loss: 2.6817 - val_acc: 0.4437\n",
      "Epoch 56/255\n",
      "50000/50000 [==============================] - 1s 20us/step - loss: 0.6973 - acc: 0.7784 - val_loss: 2.7032 - val_acc: 0.4413\n",
      "Epoch 57/255\n",
      "50000/50000 [==============================] - 1s 19us/step - loss: 0.6838 - acc: 0.7822 - val_loss: 2.7232 - val_acc: 0.4426\n",
      "Epoch 58/255\n",
      "50000/50000 [==============================] - 1s 19us/step - loss: 0.6831 - acc: 0.7820 - val_loss: 2.7209 - val_acc: 0.4427\n",
      "Epoch 59/255\n"
     ]
    },
    {
     "name": "stdout",
     "output_type": "stream",
     "text": [
      "50000/50000 [==============================] - 1s 22us/step - loss: 0.6744 - acc: 0.7848 - val_loss: 2.7430 - val_acc: 0.4436\n",
      "Epoch 60/255\n",
      "50000/50000 [==============================] - 1s 22us/step - loss: 0.6659 - acc: 0.7872 - val_loss: 2.7559 - val_acc: 0.4450\n",
      "Epoch 61/255\n",
      "50000/50000 [==============================] - 1s 24us/step - loss: 0.6680 - acc: 0.7862 - val_loss: 2.7579 - val_acc: 0.4455\n",
      "Epoch 62/255\n",
      "50000/50000 [==============================] - 1s 24us/step - loss: 0.6577 - acc: 0.7895 - val_loss: 2.7542 - val_acc: 0.4446\n",
      "Epoch 63/255\n",
      "50000/50000 [==============================] - 1s 23us/step - loss: 0.6540 - acc: 0.7904 - val_loss: 2.7688 - val_acc: 0.4443\n",
      "Epoch 64/255\n",
      "50000/50000 [==============================] - 1s 20us/step - loss: 0.6495 - acc: 0.7932 - val_loss: 2.7566 - val_acc: 0.4433\n",
      "Epoch 65/255\n",
      "50000/50000 [==============================] - 1s 19us/step - loss: 0.6480 - acc: 0.7936 - val_loss: 2.7756 - val_acc: 0.4417\n",
      "Epoch 66/255\n",
      "50000/50000 [==============================] - 1s 20us/step - loss: 0.6405 - acc: 0.7965 - val_loss: 2.7907 - val_acc: 0.4444\n",
      "Epoch 67/255\n",
      "50000/50000 [==============================] - 1s 20us/step - loss: 0.6330 - acc: 0.7965 - val_loss: 2.7942 - val_acc: 0.4403\n",
      "Epoch 68/255\n",
      "50000/50000 [==============================] - 1s 19us/step - loss: 0.6274 - acc: 0.7986 - val_loss: 2.8158 - val_acc: 0.4458\n",
      "Epoch 69/255\n",
      "50000/50000 [==============================] - 1s 20us/step - loss: 0.6186 - acc: 0.8020 - val_loss: 2.8185 - val_acc: 0.4486\n",
      "Epoch 70/255\n",
      "50000/50000 [==============================] - 1s 21us/step - loss: 0.6110 - acc: 0.8050 - val_loss: 2.8267 - val_acc: 0.4402\n",
      "Epoch 71/255\n",
      "50000/50000 [==============================] - 1s 22us/step - loss: 0.6162 - acc: 0.8031 - val_loss: 2.8273 - val_acc: 0.4442\n",
      "Epoch 72/255\n",
      "50000/50000 [==============================] - 1s 20us/step - loss: 0.5936 - acc: 0.8105 - val_loss: 2.8335 - val_acc: 0.4432\n",
      "Epoch 73/255\n",
      "50000/50000 [==============================] - 1s 20us/step - loss: 0.5948 - acc: 0.8099 - val_loss: 2.8327 - val_acc: 0.4397\n",
      "Epoch 74/255\n",
      "50000/50000 [==============================] - 1s 20us/step - loss: 0.5872 - acc: 0.8129 - val_loss: 2.8442 - val_acc: 0.4411\n",
      "Epoch 75/255\n",
      "50000/50000 [==============================] - 1s 21us/step - loss: 0.5889 - acc: 0.8134 - val_loss: 2.8549 - val_acc: 0.4434\n",
      "Epoch 76/255\n",
      "50000/50000 [==============================] - 1s 20us/step - loss: 0.5819 - acc: 0.8124 - val_loss: 2.8552 - val_acc: 0.4400\n",
      "Epoch 77/255\n",
      "50000/50000 [==============================] - 1s 21us/step - loss: 0.5837 - acc: 0.8120 - val_loss: 2.8684 - val_acc: 0.4379\n",
      "Epoch 78/255\n",
      "50000/50000 [==============================] - 1s 20us/step - loss: 0.5707 - acc: 0.8170 - val_loss: 2.8840 - val_acc: 0.4378\n",
      "Epoch 79/255\n",
      "50000/50000 [==============================] - 1s 20us/step - loss: 0.5731 - acc: 0.8140 - val_loss: 2.8888 - val_acc: 0.4387\n",
      "Epoch 80/255\n",
      "50000/50000 [==============================] - 1s 21us/step - loss: 0.5649 - acc: 0.8186 - val_loss: 2.8978 - val_acc: 0.4391\n",
      "Epoch 81/255\n",
      "50000/50000 [==============================] - 1s 20us/step - loss: 0.5599 - acc: 0.8208 - val_loss: 2.8856 - val_acc: 0.4414\n",
      "Epoch 82/255\n",
      "50000/50000 [==============================] - 1s 20us/step - loss: 0.5623 - acc: 0.8190 - val_loss: 2.9090 - val_acc: 0.4426\n",
      "Epoch 83/255\n",
      "50000/50000 [==============================] - 1s 20us/step - loss: 0.5561 - acc: 0.8208 - val_loss: 2.9076 - val_acc: 0.4399\n",
      "Epoch 84/255\n",
      "50000/50000 [==============================] - 1s 19us/step - loss: 0.5564 - acc: 0.8225 - val_loss: 2.9210 - val_acc: 0.4414\n",
      "Epoch 85/255\n",
      "50000/50000 [==============================] - 1s 19us/step - loss: 0.5524 - acc: 0.8248 - val_loss: 2.8977 - val_acc: 0.4394\n",
      "Epoch 86/255\n",
      "50000/50000 [==============================] - 1s 19us/step - loss: 0.5497 - acc: 0.8229 - val_loss: 2.9289 - val_acc: 0.4384\n",
      "Epoch 87/255\n",
      "50000/50000 [==============================] - 1s 20us/step - loss: 0.5421 - acc: 0.8255 - val_loss: 2.8963 - val_acc: 0.4406\n",
      "Epoch 88/255\n",
      "50000/50000 [==============================] - 1s 20us/step - loss: 0.5398 - acc: 0.8264 - val_loss: 2.9382 - val_acc: 0.4384\n",
      "Epoch 89/255\n",
      "50000/50000 [==============================] - 1s 19us/step - loss: 0.5317 - acc: 0.8292 - val_loss: 2.9261 - val_acc: 0.4368\n",
      "Epoch 90/255\n",
      "50000/50000 [==============================] - 1s 19us/step - loss: 0.5291 - acc: 0.8290 - val_loss: 2.9281 - val_acc: 0.4399\n",
      "Epoch 91/255\n",
      "50000/50000 [==============================] - 1s 20us/step - loss: 0.5309 - acc: 0.8283 - val_loss: 2.9615 - val_acc: 0.4404\n",
      "Epoch 92/255\n",
      "50000/50000 [==============================] - 1s 23us/step - loss: 0.5279 - acc: 0.8301 - val_loss: 2.9396 - val_acc: 0.4382\n",
      "Epoch 93/255\n",
      "50000/50000 [==============================] - 1s 25us/step - loss: 0.5287 - acc: 0.8303 - val_loss: 2.9432 - val_acc: 0.4412\n",
      "Epoch 94/255\n",
      "50000/50000 [==============================] - 1s 24us/step - loss: 0.5217 - acc: 0.8308 - val_loss: 2.9455 - val_acc: 0.4437\n",
      "Epoch 95/255\n",
      "50000/50000 [==============================] - 1s 22us/step - loss: 0.5157 - acc: 0.8323 - val_loss: 2.9498 - val_acc: 0.4382\n",
      "Epoch 96/255\n",
      "50000/50000 [==============================] - 1s 25us/step - loss: 0.5193 - acc: 0.8323 - val_loss: 2.9624 - val_acc: 0.4409\n",
      "Epoch 97/255\n",
      "50000/50000 [==============================] - 1s 23us/step - loss: 0.5093 - acc: 0.8343 - val_loss: 2.9668 - val_acc: 0.4418\n",
      "Epoch 98/255\n",
      "50000/50000 [==============================] - 1s 23us/step - loss: 0.5091 - acc: 0.8355 - val_loss: 2.9717 - val_acc: 0.4394\n",
      "Epoch 99/255\n",
      "50000/50000 [==============================] - 1s 21us/step - loss: 0.4923 - acc: 0.8408 - val_loss: 2.9922 - val_acc: 0.4392\n",
      "Epoch 100/255\n",
      "50000/50000 [==============================] - 1s 22us/step - loss: 0.5060 - acc: 0.8364 - val_loss: 2.9751 - val_acc: 0.4383\n",
      "Epoch 101/255\n",
      "50000/50000 [==============================] - 1s 23us/step - loss: 0.4923 - acc: 0.8401 - val_loss: 2.9958 - val_acc: 0.4382\n",
      "Epoch 102/255\n",
      "50000/50000 [==============================] - 1s 21us/step - loss: 0.4859 - acc: 0.8431 - val_loss: 2.9850 - val_acc: 0.4354\n",
      "Epoch 103/255\n",
      "50000/50000 [==============================] - 1s 22us/step - loss: 0.4901 - acc: 0.8406 - val_loss: 3.0035 - val_acc: 0.4378\n",
      "Epoch 104/255\n",
      "50000/50000 [==============================] - 1s 20us/step - loss: 0.4889 - acc: 0.8414 - val_loss: 3.0162 - val_acc: 0.4349\n",
      "Epoch 105/255\n",
      "50000/50000 [==============================] - 1s 20us/step - loss: 0.4848 - acc: 0.8436 - val_loss: 3.0365 - val_acc: 0.4387\n",
      "Epoch 106/255\n",
      "50000/50000 [==============================] - 1s 20us/step - loss: 0.4860 - acc: 0.8428 - val_loss: 3.0349 - val_acc: 0.4341\n",
      "Epoch 107/255\n",
      "50000/50000 [==============================] - 1s 22us/step - loss: 0.4790 - acc: 0.8459 - val_loss: 3.0419 - val_acc: 0.4363\n",
      "Epoch 108/255\n",
      "50000/50000 [==============================] - 1s 21us/step - loss: 0.4803 - acc: 0.8431 - val_loss: 3.0188 - val_acc: 0.4400\n",
      "Epoch 109/255\n",
      "50000/50000 [==============================] - 1s 20us/step - loss: 0.4786 - acc: 0.8471 - val_loss: 3.0412 - val_acc: 0.4381\n",
      "Epoch 110/255\n",
      "50000/50000 [==============================] - 1s 20us/step - loss: 0.4714 - acc: 0.8468 - val_loss: 3.0194 - val_acc: 0.4361\n",
      "Epoch 111/255\n",
      "50000/50000 [==============================] - 1s 20us/step - loss: 0.4680 - acc: 0.8499 - val_loss: 3.0508 - val_acc: 0.4360\n",
      "Epoch 112/255\n",
      "50000/50000 [==============================] - 1s 20us/step - loss: 0.4702 - acc: 0.8468 - val_loss: 3.0647 - val_acc: 0.4386\n",
      "Epoch 113/255\n",
      "50000/50000 [==============================] - 1s 20us/step - loss: 0.4701 - acc: 0.8478 - val_loss: 3.0526 - val_acc: 0.4362\n",
      "Epoch 114/255\n",
      "50000/50000 [==============================] - 1s 20us/step - loss: 0.4583 - acc: 0.8526 - val_loss: 3.0680 - val_acc: 0.4329\n",
      "Epoch 115/255\n",
      "50000/50000 [==============================] - 1s 20us/step - loss: 0.4602 - acc: 0.8519 - val_loss: 3.0709 - val_acc: 0.4363\n",
      "Epoch 116/255\n",
      "50000/50000 [==============================] - 1s 20us/step - loss: 0.4638 - acc: 0.8517 - val_loss: 3.0825 - val_acc: 0.4392\n",
      "Epoch 117/255\n",
      "50000/50000 [==============================] - 1s 20us/step - loss: 0.4628 - acc: 0.8517 - val_loss: 3.0644 - val_acc: 0.4403\n"
     ]
    },
    {
     "name": "stdout",
     "output_type": "stream",
     "text": [
      "Epoch 118/255\n",
      "50000/50000 [==============================] - 1s 19us/step - loss: 0.4616 - acc: 0.8497 - val_loss: 3.0738 - val_acc: 0.4414\n",
      "Epoch 119/255\n",
      "50000/50000 [==============================] - 1s 20us/step - loss: 0.4532 - acc: 0.8516 - val_loss: 3.0635 - val_acc: 0.4418\n",
      "Epoch 120/255\n",
      "50000/50000 [==============================] - 1s 20us/step - loss: 0.4601 - acc: 0.8524 - val_loss: 3.0695 - val_acc: 0.4388\n",
      "Epoch 121/255\n",
      "50000/50000 [==============================] - 1s 20us/step - loss: 0.4566 - acc: 0.8511 - val_loss: 3.0713 - val_acc: 0.4381\n",
      "Epoch 122/255\n",
      "50000/50000 [==============================] - 1s 20us/step - loss: 0.4588 - acc: 0.8511 - val_loss: 3.0542 - val_acc: 0.4409\n",
      "Epoch 123/255\n",
      "50000/50000 [==============================] - 1s 21us/step - loss: 0.4363 - acc: 0.8592 - val_loss: 3.0761 - val_acc: 0.4388\n",
      "Epoch 124/255\n",
      "50000/50000 [==============================] - 1s 22us/step - loss: 0.4443 - acc: 0.8556 - val_loss: 3.0801 - val_acc: 0.4358\n",
      "Epoch 125/255\n",
      "50000/50000 [==============================] - 1s 22us/step - loss: 0.4486 - acc: 0.8552 - val_loss: 3.1029 - val_acc: 0.4380\n",
      "Epoch 126/255\n",
      "50000/50000 [==============================] - 1s 22us/step - loss: 0.4369 - acc: 0.8588 - val_loss: 3.1101 - val_acc: 0.4358\n",
      "Epoch 127/255\n",
      "50000/50000 [==============================] - 1s 19us/step - loss: 0.4382 - acc: 0.8586 - val_loss: 3.0946 - val_acc: 0.4368\n",
      "Epoch 128/255\n",
      "50000/50000 [==============================] - 1s 21us/step - loss: 0.4387 - acc: 0.8573 - val_loss: 3.1181 - val_acc: 0.4380\n",
      "Epoch 129/255\n",
      "50000/50000 [==============================] - 2s 35us/step - loss: 0.4380 - acc: 0.8568 - val_loss: 3.1107 - val_acc: 0.4372\n",
      "Epoch 130/255\n",
      "50000/50000 [==============================] - 1s 28us/step - loss: 0.4396 - acc: 0.8587 - val_loss: 3.1203 - val_acc: 0.4381\n",
      "Epoch 131/255\n",
      "50000/50000 [==============================] - 1s 27us/step - loss: 0.4342 - acc: 0.8617 - val_loss: 3.1136 - val_acc: 0.4387\n",
      "Epoch 132/255\n",
      "50000/50000 [==============================] - 1s 27us/step - loss: 0.4363 - acc: 0.8563 - val_loss: 3.1192 - val_acc: 0.4379\n",
      "Epoch 133/255\n",
      "50000/50000 [==============================] - 1s 27us/step - loss: 0.4309 - acc: 0.8606 - val_loss: 3.0948 - val_acc: 0.4407\n",
      "Epoch 134/255\n",
      "50000/50000 [==============================] - 1s 26us/step - loss: 0.4301 - acc: 0.8611 - val_loss: 3.1172 - val_acc: 0.4419\n",
      "Epoch 135/255\n",
      "50000/50000 [==============================] - 1s 25us/step - loss: 0.4330 - acc: 0.8602 - val_loss: 3.1208 - val_acc: 0.4390\n",
      "Epoch 136/255\n",
      "50000/50000 [==============================] - 1s 25us/step - loss: 0.4223 - acc: 0.8635 - val_loss: 3.1407 - val_acc: 0.4382\n",
      "Epoch 137/255\n",
      "50000/50000 [==============================] - 1s 23us/step - loss: 0.4252 - acc: 0.8623 - val_loss: 3.1081 - val_acc: 0.4415\n",
      "Epoch 138/255\n",
      "50000/50000 [==============================] - 1s 23us/step - loss: 0.4208 - acc: 0.8632 - val_loss: 3.1516 - val_acc: 0.4395\n",
      "Epoch 139/255\n",
      "50000/50000 [==============================] - 1s 24us/step - loss: 0.4129 - acc: 0.8652 - val_loss: 3.1390 - val_acc: 0.4379\n",
      "Epoch 140/255\n",
      "50000/50000 [==============================] - 1s 24us/step - loss: 0.4225 - acc: 0.8628 - val_loss: 3.1480 - val_acc: 0.4367\n",
      "Epoch 141/255\n",
      "50000/50000 [==============================] - 1s 24us/step - loss: 0.4203 - acc: 0.8648 - val_loss: 3.1170 - val_acc: 0.4386\n",
      "Epoch 142/255\n",
      "50000/50000 [==============================] - 1s 24us/step - loss: 0.4185 - acc: 0.8654 - val_loss: 3.1329 - val_acc: 0.4409\n",
      "Epoch 143/255\n",
      "50000/50000 [==============================] - 1s 21us/step - loss: 0.4101 - acc: 0.8667 - val_loss: 3.1760 - val_acc: 0.4411\n",
      "Epoch 144/255\n",
      "50000/50000 [==============================] - 1s 20us/step - loss: 0.4170 - acc: 0.8656 - val_loss: 3.1620 - val_acc: 0.4373\n",
      "Epoch 145/255\n",
      "50000/50000 [==============================] - 1s 20us/step - loss: 0.4137 - acc: 0.8651 - val_loss: 3.1636 - val_acc: 0.4366\n",
      "Epoch 146/255\n",
      "50000/50000 [==============================] - 1s 20us/step - loss: 0.4114 - acc: 0.8683 - val_loss: 3.1580 - val_acc: 0.4388\n",
      "Epoch 147/255\n",
      "50000/50000 [==============================] - 1s 20us/step - loss: 0.4090 - acc: 0.8679 - val_loss: 3.1660 - val_acc: 0.4372\n",
      "Epoch 148/255\n",
      "50000/50000 [==============================] - 1s 20us/step - loss: 0.4023 - acc: 0.8687 - val_loss: 3.1722 - val_acc: 0.4371\n",
      "Epoch 149/255\n",
      "50000/50000 [==============================] - 1s 20us/step - loss: 0.4096 - acc: 0.8673 - val_loss: 3.1711 - val_acc: 0.4387\n",
      "Epoch 150/255\n",
      "50000/50000 [==============================] - 1s 20us/step - loss: 0.4111 - acc: 0.8658 - val_loss: 3.1631 - val_acc: 0.4356\n",
      "Epoch 151/255\n",
      "50000/50000 [==============================] - 1s 20us/step - loss: 0.3995 - acc: 0.8697 - val_loss: 3.1808 - val_acc: 0.4378\n",
      "Epoch 152/255\n",
      "50000/50000 [==============================] - 1s 20us/step - loss: 0.4047 - acc: 0.8686 - val_loss: 3.1926 - val_acc: 0.4400\n",
      "Epoch 153/255\n",
      "50000/50000 [==============================] - 1s 21us/step - loss: 0.3898 - acc: 0.8725 - val_loss: 3.1915 - val_acc: 0.4400\n",
      "Epoch 154/255\n",
      "50000/50000 [==============================] - 1s 20us/step - loss: 0.3961 - acc: 0.8726 - val_loss: 3.2039 - val_acc: 0.4391\n",
      "Epoch 155/255\n",
      "50000/50000 [==============================] - 1s 21us/step - loss: 0.3926 - acc: 0.8736 - val_loss: 3.1812 - val_acc: 0.4412\n",
      "Epoch 156/255\n",
      "50000/50000 [==============================] - 1s 20us/step - loss: 0.3904 - acc: 0.8732 - val_loss: 3.1942 - val_acc: 0.4381\n",
      "Epoch 157/255\n",
      "50000/50000 [==============================] - 1s 21us/step - loss: 0.3893 - acc: 0.8734 - val_loss: 3.2189 - val_acc: 0.4406\n",
      "Epoch 158/255\n",
      "50000/50000 [==============================] - 1s 20us/step - loss: 0.3930 - acc: 0.8747 - val_loss: 3.2018 - val_acc: 0.4391\n",
      "Epoch 159/255\n",
      "50000/50000 [==============================] - 1s 20us/step - loss: 0.3886 - acc: 0.8739 - val_loss: 3.2079 - val_acc: 0.4418\n",
      "Epoch 160/255\n",
      "50000/50000 [==============================] - 1s 18us/step - loss: 0.3901 - acc: 0.8729 - val_loss: 3.1974 - val_acc: 0.4399\n",
      "Epoch 161/255\n",
      "50000/50000 [==============================] - 1s 20us/step - loss: 0.3918 - acc: 0.8724 - val_loss: 3.2037 - val_acc: 0.4412\n",
      "Epoch 162/255\n",
      "50000/50000 [==============================] - 1s 21us/step - loss: 0.3834 - acc: 0.8743 - val_loss: 3.2143 - val_acc: 0.4425\n",
      "Epoch 163/255\n",
      "50000/50000 [==============================] - 1s 20us/step - loss: 0.3906 - acc: 0.8729 - val_loss: 3.2419 - val_acc: 0.4381\n",
      "Epoch 164/255\n",
      "50000/50000 [==============================] - 1s 20us/step - loss: 0.3743 - acc: 0.8781 - val_loss: 3.2385 - val_acc: 0.4401\n",
      "Epoch 165/255\n",
      "50000/50000 [==============================] - 1s 20us/step - loss: 0.3804 - acc: 0.8764 - val_loss: 3.2378 - val_acc: 0.4393\n",
      "Epoch 166/255\n",
      "50000/50000 [==============================] - 1s 20us/step - loss: 0.3752 - acc: 0.8783 - val_loss: 3.2590 - val_acc: 0.4392\n",
      "Epoch 167/255\n",
      "50000/50000 [==============================] - 1s 19us/step - loss: 0.3811 - acc: 0.8753 - val_loss: 3.2511 - val_acc: 0.4402\n",
      "Epoch 168/255\n",
      "50000/50000 [==============================] - 1s 19us/step - loss: 0.3767 - acc: 0.8786 - val_loss: 3.2611 - val_acc: 0.4388\n",
      "Epoch 169/255\n",
      "50000/50000 [==============================] - 1s 19us/step - loss: 0.3693 - acc: 0.8805 - val_loss: 3.2334 - val_acc: 0.4392\n",
      "Epoch 170/255\n",
      "50000/50000 [==============================] - 1s 24us/step - loss: 0.3736 - acc: 0.8779 - val_loss: 3.2655 - val_acc: 0.4394\n",
      "Epoch 171/255\n",
      "50000/50000 [==============================] - 1s 22us/step - loss: 0.3796 - acc: 0.8759 - val_loss: 3.2319 - val_acc: 0.4338\n",
      "Epoch 172/255\n",
      "50000/50000 [==============================] - 1s 21us/step - loss: 0.3794 - acc: 0.8754 - val_loss: 3.2261 - val_acc: 0.4381\n",
      "Epoch 173/255\n",
      "50000/50000 [==============================] - 1s 21us/step - loss: 0.3782 - acc: 0.8767 - val_loss: 3.2333 - val_acc: 0.4377\n",
      "Epoch 174/255\n",
      "50000/50000 [==============================] - 1s 21us/step - loss: 0.3691 - acc: 0.8800 - val_loss: 3.2450 - val_acc: 0.4399\n",
      "Epoch 175/255\n",
      "50000/50000 [==============================] - 1s 20us/step - loss: 0.3638 - acc: 0.8816 - val_loss: 3.2633 - val_acc: 0.4397\n",
      "Epoch 176/255\n"
     ]
    },
    {
     "name": "stdout",
     "output_type": "stream",
     "text": [
      "50000/50000 [==============================] - 1s 19us/step - loss: 0.3779 - acc: 0.8758 - val_loss: 3.2579 - val_acc: 0.4405\n",
      "Epoch 177/255\n",
      "50000/50000 [==============================] - 1s 20us/step - loss: 0.3722 - acc: 0.8797 - val_loss: 3.2592 - val_acc: 0.4400\n",
      "Epoch 178/255\n",
      "50000/50000 [==============================] - 1s 19us/step - loss: 0.3667 - acc: 0.8804 - val_loss: 3.2648 - val_acc: 0.4377\n",
      "Epoch 179/255\n",
      "50000/50000 [==============================] - 1s 19us/step - loss: 0.3678 - acc: 0.8795 - val_loss: 3.2907 - val_acc: 0.4365\n",
      "Epoch 180/255\n",
      "50000/50000 [==============================] - 1s 20us/step - loss: 0.3711 - acc: 0.8790 - val_loss: 3.2721 - val_acc: 0.4380\n",
      "Epoch 181/255\n",
      "50000/50000 [==============================] - 1s 19us/step - loss: 0.3730 - acc: 0.8798 - val_loss: 3.2641 - val_acc: 0.4345\n",
      "Epoch 182/255\n",
      "50000/50000 [==============================] - 1s 20us/step - loss: 0.3587 - acc: 0.8841 - val_loss: 3.2752 - val_acc: 0.4347\n",
      "Epoch 183/255\n",
      "50000/50000 [==============================] - 1s 20us/step - loss: 0.3664 - acc: 0.8811 - val_loss: 3.2651 - val_acc: 0.4395\n",
      "Epoch 184/255\n",
      "50000/50000 [==============================] - 1s 20us/step - loss: 0.3540 - acc: 0.8847 - val_loss: 3.2570 - val_acc: 0.4395\n",
      "Epoch 185/255\n",
      "50000/50000 [==============================] - 1s 20us/step - loss: 0.3632 - acc: 0.8817 - val_loss: 3.2920 - val_acc: 0.4379\n",
      "Epoch 186/255\n",
      "50000/50000 [==============================] - 1s 19us/step - loss: 0.3588 - acc: 0.8845 - val_loss: 3.2678 - val_acc: 0.4379\n",
      "Epoch 187/255\n",
      "50000/50000 [==============================] - 1s 19us/step - loss: 0.3603 - acc: 0.8814 - val_loss: 3.3016 - val_acc: 0.4388\n",
      "Epoch 188/255\n",
      "50000/50000 [==============================] - 1s 19us/step - loss: 0.3565 - acc: 0.8839 - val_loss: 3.2799 - val_acc: 0.4342\n",
      "Epoch 189/255\n",
      "50000/50000 [==============================] - 1s 19us/step - loss: 0.3619 - acc: 0.8831 - val_loss: 3.2707 - val_acc: 0.4394\n",
      "Epoch 190/255\n",
      "50000/50000 [==============================] - 1s 19us/step - loss: 0.3523 - acc: 0.8849 - val_loss: 3.2864 - val_acc: 0.4376\n",
      "Epoch 191/255\n",
      "50000/50000 [==============================] - 1s 19us/step - loss: 0.3567 - acc: 0.8838 - val_loss: 3.3014 - val_acc: 0.4373\n",
      "Epoch 192/255\n",
      "50000/50000 [==============================] - 1s 20us/step - loss: 0.3507 - acc: 0.8859 - val_loss: 3.2977 - val_acc: 0.4380\n",
      "Epoch 193/255\n",
      "50000/50000 [==============================] - 1s 19us/step - loss: 0.3534 - acc: 0.8854 - val_loss: 3.2854 - val_acc: 0.4334\n",
      "Epoch 194/255\n",
      "50000/50000 [==============================] - 1s 20us/step - loss: 0.3538 - acc: 0.8847 - val_loss: 3.2952 - val_acc: 0.4370\n",
      "Epoch 195/255\n",
      "50000/50000 [==============================] - 1s 20us/step - loss: 0.3477 - acc: 0.8862 - val_loss: 3.2981 - val_acc: 0.4373\n",
      "Epoch 196/255\n",
      "50000/50000 [==============================] - 1s 19us/step - loss: 0.3493 - acc: 0.8864 - val_loss: 3.2650 - val_acc: 0.4387\n",
      "Epoch 197/255\n",
      "50000/50000 [==============================] - 1s 19us/step - loss: 0.3438 - acc: 0.8873 - val_loss: 3.3198 - val_acc: 0.4349\n",
      "Epoch 198/255\n",
      "50000/50000 [==============================] - 1s 20us/step - loss: 0.3447 - acc: 0.8869 - val_loss: 3.2950 - val_acc: 0.4359\n",
      "Epoch 199/255\n",
      "50000/50000 [==============================] - 1s 20us/step - loss: 0.3581 - acc: 0.8855 - val_loss: 3.3092 - val_acc: 0.4375\n",
      "Epoch 200/255\n",
      "50000/50000 [==============================] - 1s 20us/step - loss: 0.3474 - acc: 0.8868 - val_loss: 3.3152 - val_acc: 0.4345\n",
      "Epoch 201/255\n",
      "50000/50000 [==============================] - 1s 19us/step - loss: 0.3436 - acc: 0.8889 - val_loss: 3.3243 - val_acc: 0.4388\n",
      "Epoch 202/255\n",
      "50000/50000 [==============================] - 1s 20us/step - loss: 0.3530 - acc: 0.8867 - val_loss: 3.3281 - val_acc: 0.4337\n",
      "Epoch 203/255\n",
      "50000/50000 [==============================] - 1s 23us/step - loss: 0.3481 - acc: 0.8867 - val_loss: 3.3150 - val_acc: 0.4362\n",
      "Epoch 204/255\n",
      "50000/50000 [==============================] - 1s 24us/step - loss: 0.3468 - acc: 0.8865 - val_loss: 3.3182 - val_acc: 0.4340\n",
      "Epoch 205/255\n",
      "50000/50000 [==============================] - 1s 19us/step - loss: 0.3448 - acc: 0.8871 - val_loss: 3.3067 - val_acc: 0.4338\n",
      "Epoch 206/255\n",
      "50000/50000 [==============================] - 1s 19us/step - loss: 0.3428 - acc: 0.8888 - val_loss: 3.3247 - val_acc: 0.4378\n",
      "Epoch 207/255\n",
      "50000/50000 [==============================] - 1s 23us/step - loss: 0.3477 - acc: 0.8864 - val_loss: 3.3385 - val_acc: 0.4389\n",
      "Epoch 208/255\n",
      "50000/50000 [==============================] - 1s 24us/step - loss: 0.3431 - acc: 0.8894 - val_loss: 3.3222 - val_acc: 0.4338\n",
      "Epoch 209/255\n",
      "50000/50000 [==============================] - 1s 24us/step - loss: 0.3361 - acc: 0.8911 - val_loss: 3.3242 - val_acc: 0.4360\n",
      "Epoch 210/255\n",
      "50000/50000 [==============================] - 1s 24us/step - loss: 0.3441 - acc: 0.8898 - val_loss: 3.3088 - val_acc: 0.4355\n",
      "Epoch 211/255\n",
      "50000/50000 [==============================] - 1s 24us/step - loss: 0.3466 - acc: 0.8878 - val_loss: 3.3456 - val_acc: 0.4329\n",
      "Epoch 212/255\n",
      "50000/50000 [==============================] - 1s 24us/step - loss: 0.3348 - acc: 0.8909 - val_loss: 3.3365 - val_acc: 0.4374\n",
      "Epoch 213/255\n",
      "50000/50000 [==============================] - 1s 24us/step - loss: 0.3421 - acc: 0.8879 - val_loss: 3.3323 - val_acc: 0.4397\n",
      "Epoch 214/255\n",
      "50000/50000 [==============================] - 1s 21us/step - loss: 0.3338 - acc: 0.8909 - val_loss: 3.3623 - val_acc: 0.4391\n",
      "Epoch 215/255\n",
      "50000/50000 [==============================] - 1s 19us/step - loss: 0.3431 - acc: 0.8894 - val_loss: 3.3109 - val_acc: 0.4381\n",
      "Epoch 216/255\n",
      "50000/50000 [==============================] - 1s 18us/step - loss: 0.3324 - acc: 0.8914 - val_loss: 3.3049 - val_acc: 0.4366\n",
      "Epoch 217/255\n",
      "50000/50000 [==============================] - 1s 19us/step - loss: 0.3265 - acc: 0.8941 - val_loss: 3.3315 - val_acc: 0.4357\n",
      "Epoch 218/255\n",
      "50000/50000 [==============================] - 1s 19us/step - loss: 0.3345 - acc: 0.8891 - val_loss: 3.3416 - val_acc: 0.4385\n",
      "Epoch 219/255\n",
      "50000/50000 [==============================] - 1s 19us/step - loss: 0.3341 - acc: 0.8918 - val_loss: 3.3510 - val_acc: 0.4372\n",
      "Epoch 220/255\n",
      "50000/50000 [==============================] - 1s 19us/step - loss: 0.3352 - acc: 0.8909 - val_loss: 3.3271 - val_acc: 0.4359\n",
      "Epoch 221/255\n",
      "50000/50000 [==============================] - 1s 19us/step - loss: 0.3409 - acc: 0.8891 - val_loss: 3.3532 - val_acc: 0.4383\n",
      "Epoch 222/255\n",
      "50000/50000 [==============================] - 1s 19us/step - loss: 0.3279 - acc: 0.8942 - val_loss: 3.3511 - val_acc: 0.4368\n",
      "Epoch 223/255\n",
      "50000/50000 [==============================] - 1s 19us/step - loss: 0.3280 - acc: 0.8933 - val_loss: 3.3274 - val_acc: 0.4376\n",
      "Epoch 224/255\n",
      "50000/50000 [==============================] - 1s 20us/step - loss: 0.3243 - acc: 0.8950 - val_loss: 3.3704 - val_acc: 0.4352\n",
      "Epoch 225/255\n",
      "50000/50000 [==============================] - 1s 19us/step - loss: 0.3283 - acc: 0.8925 - val_loss: 3.3564 - val_acc: 0.4371\n",
      "Epoch 226/255\n",
      "50000/50000 [==============================] - 1s 19us/step - loss: 0.3194 - acc: 0.8961 - val_loss: 3.3472 - val_acc: 0.4357\n",
      "Epoch 227/255\n",
      "50000/50000 [==============================] - 1s 20us/step - loss: 0.3233 - acc: 0.8945 - val_loss: 3.3640 - val_acc: 0.4348\n",
      "Epoch 228/255\n",
      "50000/50000 [==============================] - 1s 19us/step - loss: 0.3303 - acc: 0.8929 - val_loss: 3.3936 - val_acc: 0.4344\n",
      "Epoch 229/255\n",
      "50000/50000 [==============================] - 1s 19us/step - loss: 0.3242 - acc: 0.8951 - val_loss: 3.3841 - val_acc: 0.4351\n",
      "Epoch 230/255\n",
      "50000/50000 [==============================] - 1s 18us/step - loss: 0.3234 - acc: 0.8939 - val_loss: 3.3800 - val_acc: 0.4383\n",
      "Epoch 231/255\n",
      "50000/50000 [==============================] - 1s 18us/step - loss: 0.3256 - acc: 0.8935 - val_loss: 3.3742 - val_acc: 0.4363\n",
      "Epoch 232/255\n",
      "50000/50000 [==============================] - 1s 21us/step - loss: 0.3216 - acc: 0.8956 - val_loss: 3.3651 - val_acc: 0.4385\n",
      "Epoch 233/255\n",
      "50000/50000 [==============================] - 1s 21us/step - loss: 0.3264 - acc: 0.8945 - val_loss: 3.3879 - val_acc: 0.4382\n",
      "Epoch 234/255\n"
     ]
    },
    {
     "name": "stdout",
     "output_type": "stream",
     "text": [
      "50000/50000 [==============================] - 1s 21us/step - loss: 0.3274 - acc: 0.8941 - val_loss: 3.3387 - val_acc: 0.4363\n",
      "Epoch 235/255\n",
      "50000/50000 [==============================] - 1s 21us/step - loss: 0.3154 - acc: 0.8960 - val_loss: 3.3726 - val_acc: 0.4386\n",
      "Epoch 236/255\n",
      "50000/50000 [==============================] - 1s 20us/step - loss: 0.3215 - acc: 0.8957 - val_loss: 3.3794 - val_acc: 0.4381\n",
      "Epoch 237/255\n",
      "50000/50000 [==============================] - 1s 20us/step - loss: 0.3215 - acc: 0.8944 - val_loss: 3.3562 - val_acc: 0.4404\n",
      "Epoch 238/255\n",
      "50000/50000 [==============================] - 1s 21us/step - loss: 0.3197 - acc: 0.8961 - val_loss: 3.3822 - val_acc: 0.4392\n",
      "Epoch 239/255\n",
      "50000/50000 [==============================] - 1s 21us/step - loss: 0.3218 - acc: 0.8959 - val_loss: 3.4064 - val_acc: 0.4407\n",
      "Epoch 240/255\n",
      "50000/50000 [==============================] - 1s 20us/step - loss: 0.3190 - acc: 0.8967 - val_loss: 3.3759 - val_acc: 0.4371\n",
      "Epoch 241/255\n",
      "50000/50000 [==============================] - 1s 19us/step - loss: 0.3247 - acc: 0.8937 - val_loss: 3.3809 - val_acc: 0.4381\n",
      "Epoch 242/255\n",
      "50000/50000 [==============================] - 1s 19us/step - loss: 0.3220 - acc: 0.8962 - val_loss: 3.3649 - val_acc: 0.4351\n",
      "Epoch 243/255\n",
      "50000/50000 [==============================] - 1s 20us/step - loss: 0.3213 - acc: 0.8969 - val_loss: 3.3713 - val_acc: 0.4370\n",
      "Epoch 244/255\n",
      "50000/50000 [==============================] - 1s 20us/step - loss: 0.3050 - acc: 0.9004 - val_loss: 3.3901 - val_acc: 0.4357\n",
      "Epoch 245/255\n",
      "50000/50000 [==============================] - 1s 21us/step - loss: 0.3142 - acc: 0.8965 - val_loss: 3.4066 - val_acc: 0.4380\n",
      "Epoch 246/255\n",
      "50000/50000 [==============================] - 1s 20us/step - loss: 0.3207 - acc: 0.8945 - val_loss: 3.3854 - val_acc: 0.4391\n",
      "Epoch 247/255\n",
      "50000/50000 [==============================] - 1s 22us/step - loss: 0.3170 - acc: 0.8970 - val_loss: 3.3983 - val_acc: 0.4367\n",
      "Epoch 248/255\n",
      "50000/50000 [==============================] - 1s 21us/step - loss: 0.3113 - acc: 0.8967 - val_loss: 3.4000 - val_acc: 0.4371\n",
      "Epoch 249/255\n",
      "50000/50000 [==============================] - 1s 20us/step - loss: 0.3157 - acc: 0.8970 - val_loss: 3.4008 - val_acc: 0.4380\n",
      "Epoch 250/255\n",
      "50000/50000 [==============================] - 1s 19us/step - loss: 0.3068 - acc: 0.8997 - val_loss: 3.3914 - val_acc: 0.4372\n",
      "Epoch 251/255\n",
      "50000/50000 [==============================] - 1s 19us/step - loss: 0.3152 - acc: 0.8975 - val_loss: 3.3993 - val_acc: 0.4390\n",
      "Epoch 252/255\n",
      "50000/50000 [==============================] - 1s 19us/step - loss: 0.3155 - acc: 0.8962 - val_loss: 3.3680 - val_acc: 0.4355\n",
      "Epoch 253/255\n",
      "50000/50000 [==============================] - 1s 19us/step - loss: 0.3109 - acc: 0.9002 - val_loss: 3.3871 - val_acc: 0.4349\n",
      "Epoch 254/255\n",
      "50000/50000 [==============================] - 1s 19us/step - loss: 0.3091 - acc: 0.9001 - val_loss: 3.3979 - val_acc: 0.4357\n",
      "Epoch 255/255\n",
      "50000/50000 [==============================] - 1s 20us/step - loss: 0.3085 - acc: 0.8984 - val_loss: 3.4013 - val_acc: 0.4378\n"
     ]
    }
   ],
   "source": [
    "history_e = trainingD(model_vgg_chng_e)"
   ]
  },
  {
   "cell_type": "code",
   "execution_count": 48,
   "metadata": {
    "ExecuteTime": {
     "end_time": "2018-11-29T23:50:34.775654Z",
     "start_time": "2018-11-29T23:50:34.603612Z"
    }
   },
   "outputs": [
    {
     "data": {
      "image/png": "[encoded data removed]",
      "text/plain": [
       "<Figure size 1080x360 with 3 Axes>"
      ]
     },
     "metadata": {
      "needs_background": "light"
     },
     "output_type": "display_data"
    }
   ],
   "source": [
    "plotChart('Figura e.1. Loss y Accuracy de entrenamiento y validación de red pre-entrenada.', \n",
    "          history_e.history['loss'], 'Entrenamiento',history_e.history['val_loss'], 'Validación',\n",
    "          history_e.history['acc'], 'Entrenamiento',history_e.history['val_acc'], 'Validación'\n",
    "         )"
   ]
  },
  {
   "cell_type": "markdown",
   "metadata": {},
   "source": [
    "> Tal como se aprecia en la figura **e.1**, se mejora mucho el desempeño de la red, en terminos de error logrado, sin embargo, no notamos mayor diferencia en el tiempo de ejecución como se sugiere en el enunciado."
   ]
  },
  {
   "cell_type": "markdown",
   "metadata": {},
   "source": [
    "##### Pregunta F."
   ]
  },
  {
   "cell_type": "code",
   "execution_count": 56,
   "metadata": {
    "ExecuteTime": {
     "end_time": "2018-11-29T23:55:52.775644Z",
     "start_time": "2018-11-29T23:55:52.467139Z"
    }
   },
   "outputs": [],
   "source": [
    "x_train_vgg = preprocess_input(x_train)\n",
    "x_test_vgg = preprocess_input(x_test)"
   ]
  },
  {
   "cell_type": "code",
   "execution_count": 57,
   "metadata": {
    "ExecuteTime": {
     "end_time": "2018-11-29T23:55:53.225787Z",
     "start_time": "2018-11-29T23:55:52.776836Z"
    }
   },
   "outputs": [],
   "source": [
    "input_tensor=Input(shape=x_train_vgg.shape[1:])\n",
    "model_vgg_f = VGG16(weights='imagenet', include_top=False,input_tensor=input_tensor ) # LOAD PRETRAINED MODEL "
   ]
  },
  {
   "cell_type": "code",
   "execution_count": 58,
   "metadata": {
    "ExecuteTime": {
     "end_time": "2018-11-29T23:56:10.241108Z",
     "start_time": "2018-11-29T23:55:53.356879Z"
    }
   },
   "outputs": [
    {
     "name": "stdout",
     "output_type": "stream",
     "text": [
      "_________________________________________________________________\n",
      "Layer (type)                 Output Shape              Param #   \n",
      "=================================================================\n",
      "input_4 (InputLayer)         (None, 32, 32, 3)         0         \n",
      "_________________________________________________________________\n",
      "block1_conv1 (Conv2D)        (None, 32, 32, 64)        1792      \n",
      "_________________________________________________________________\n",
      "block1_conv2 (Conv2D)        (None, 32, 32, 64)        36928     \n",
      "_________________________________________________________________\n",
      "block1_pool (MaxPooling2D)   (None, 16, 16, 64)        0         \n",
      "_________________________________________________________________\n",
      "block2_conv1 (Conv2D)        (None, 16, 16, 128)       73856     \n",
      "_________________________________________________________________\n",
      "block2_conv2 (Conv2D)        (None, 16, 16, 128)       147584    \n",
      "_________________________________________________________________\n",
      "block2_pool (MaxPooling2D)   (None, 8, 8, 128)         0         \n",
      "_________________________________________________________________\n",
      "block3_conv1 (Conv2D)        (None, 8, 8, 256)         295168    \n",
      "_________________________________________________________________\n",
      "block3_conv2 (Conv2D)        (None, 8, 8, 256)         590080    \n",
      "_________________________________________________________________\n",
      "block3_conv3 (Conv2D)        (None, 8, 8, 256)         590080    \n",
      "_________________________________________________________________\n",
      "block3_pool (MaxPooling2D)   (None, 4, 4, 256)         0         \n",
      "_________________________________________________________________\n",
      "block4_conv1 (Conv2D)        (None, 4, 4, 512)         1180160   \n",
      "_________________________________________________________________\n",
      "block4_conv2 (Conv2D)        (None, 4, 4, 512)         2359808   \n",
      "_________________________________________________________________\n",
      "block4_conv3 (Conv2D)        (None, 4, 4, 512)         2359808   \n",
      "_________________________________________________________________\n",
      "block4_pool (MaxPooling2D)   (None, 2, 2, 512)         0         \n",
      "_________________________________________________________________\n",
      "block5_conv1 (Conv2D)        (None, 2, 2, 512)         2359808   \n",
      "_________________________________________________________________\n",
      "block5_conv2 (Conv2D)        (None, 2, 2, 512)         2359808   \n",
      "_________________________________________________________________\n",
      "block5_conv3 (Conv2D)        (None, 2, 2, 512)         2359808   \n",
      "=================================================================\n",
      "Total params: 14,714,688\n",
      "Trainable params: 14,714,688\n",
      "Non-trainable params: 0\n",
      "_________________________________________________________________\n"
     ]
    }
   ],
   "source": [
    "model_vgg_f.layers.pop() #delete last softmax layer\n",
    "model_vgg_f.summary()\n",
    "features_train = model_vgg_f.predict(x_train_vgg)\n",
    "features_test = model_vgg_f.predict(x_test_vgg)\n"
   ]
  },
  {
   "cell_type": "code",
   "execution_count": 59,
   "metadata": {
    "ExecuteTime": {
     "end_time": "2018-11-29T23:56:10.258032Z",
     "start_time": "2018-11-29T23:56:10.246804Z"
    }
   },
   "outputs": [],
   "source": [
    "def modelVGGChangedF(model_vgg):\n",
    "    model = Sequential()\n",
    "    model.add(Flatten(input_shape=features_train.shape[1:]))\n",
    "    model.add(BatchNormalization())\n",
    "    model.add(Dense(1024, activation='relu'))\n",
    "    model.add(BatchNormalization())\n",
    "    model.add(Dropout(0.5))\n",
    "    model.add(Dense(100))\n",
    "    model.add(Activation('softmax'))\n",
    "    return model"
   ]
  },
  {
   "cell_type": "code",
   "execution_count": 60,
   "metadata": {
    "ExecuteTime": {
     "end_time": "2018-11-29T23:56:10.380366Z",
     "start_time": "2018-11-29T23:56:10.263032Z"
    }
   },
   "outputs": [],
   "source": [
    "model_f = modelVGGChangedF(model_vgg_f);"
   ]
  },
  {
   "cell_type": "code",
   "execution_count": 61,
   "metadata": {
    "ExecuteTime": {
     "end_time": "2018-11-30T00:00:27.630372Z",
     "start_time": "2018-11-29T23:56:10.381575Z"
    }
   },
   "outputs": [
    {
     "name": "stdout",
     "output_type": "stream",
     "text": [
      "Train on 50000 samples, validate on 10000 samples\n",
      "Epoch 1/255\n",
      "50000/50000 [==============================] - 2s 31us/step - loss: 3.3054 - acc: 0.2722 - val_loss: 2.4262 - val_acc: 0.3913\n",
      "Epoch 2/255\n",
      "50000/50000 [==============================] - 1s 20us/step - loss: 2.4886 - acc: 0.3758 - val_loss: 2.3010 - val_acc: 0.4182\n",
      "Epoch 3/255\n",
      "50000/50000 [==============================] - 1s 21us/step - loss: 2.2639 - acc: 0.4121 - val_loss: 2.2473 - val_acc: 0.4244\n",
      "Epoch 4/255\n",
      "50000/50000 [==============================] - 1s 19us/step - loss: 2.1153 - acc: 0.4386 - val_loss: 2.2331 - val_acc: 0.4260\n",
      "Epoch 5/255\n",
      "50000/50000 [==============================] - 1s 21us/step - loss: 2.0225 - acc: 0.4553 - val_loss: 2.2153 - val_acc: 0.4332\n",
      "Epoch 6/255\n",
      "50000/50000 [==============================] - 1s 19us/step - loss: 1.9392 - acc: 0.4729 - val_loss: 2.2086 - val_acc: 0.4338\n",
      "Epoch 7/255\n",
      "50000/50000 [==============================] - 1s 20us/step - loss: 1.8689 - acc: 0.4865 - val_loss: 2.2069 - val_acc: 0.4353\n",
      "Epoch 8/255\n",
      "50000/50000 [==============================] - 1s 20us/step - loss: 1.7987 - acc: 0.5016 - val_loss: 2.1893 - val_acc: 0.4451\n",
      "Epoch 9/255\n",
      "50000/50000 [==============================] - 1s 20us/step - loss: 1.7387 - acc: 0.5138 - val_loss: 2.2009 - val_acc: 0.4390\n",
      "Epoch 10/255\n",
      "50000/50000 [==============================] - 1s 21us/step - loss: 1.6908 - acc: 0.5256 - val_loss: 2.1974 - val_acc: 0.4436\n",
      "Epoch 11/255\n",
      "50000/50000 [==============================] - 1s 19us/step - loss: 1.6297 - acc: 0.5393 - val_loss: 2.2044 - val_acc: 0.4467\n",
      "Epoch 12/255\n",
      "50000/50000 [==============================] - 1s 19us/step - loss: 1.5812 - acc: 0.5493 - val_loss: 2.2151 - val_acc: 0.4450\n",
      "Epoch 13/255\n",
      "50000/50000 [==============================] - 1s 19us/step - loss: 1.5341 - acc: 0.5602 - val_loss: 2.2234 - val_acc: 0.4444\n",
      "Epoch 14/255\n",
      "50000/50000 [==============================] - 1s 19us/step - loss: 1.4857 - acc: 0.5721 - val_loss: 2.2383 - val_acc: 0.4468\n",
      "Epoch 15/255\n",
      "50000/50000 [==============================] - 1s 19us/step - loss: 1.4380 - acc: 0.5835 - val_loss: 2.2468 - val_acc: 0.4429\n",
      "Epoch 16/255\n",
      "50000/50000 [==============================] - 1s 22us/step - loss: 1.3996 - acc: 0.5913 - val_loss: 2.2533 - val_acc: 0.4478\n",
      "Epoch 17/255\n",
      "50000/50000 [==============================] - 1s 25us/step - loss: 1.3659 - acc: 0.6009 - val_loss: 2.2599 - val_acc: 0.4421\n",
      "Epoch 18/255\n",
      "50000/50000 [==============================] - 1s 24us/step - loss: 1.3286 - acc: 0.6114 - val_loss: 2.2777 - val_acc: 0.4476\n",
      "Epoch 19/255\n",
      "50000/50000 [==============================] - 1s 19us/step - loss: 1.2882 - acc: 0.6188 - val_loss: 2.2809 - val_acc: 0.4462\n",
      "Epoch 20/255\n",
      "50000/50000 [==============================] - 1s 19us/step - loss: 1.2625 - acc: 0.6271 - val_loss: 2.2999 - val_acc: 0.4452\n",
      "Epoch 21/255\n",
      "50000/50000 [==============================] - 1s 20us/step - loss: 1.2298 - acc: 0.6354 - val_loss: 2.3145 - val_acc: 0.4441\n",
      "Epoch 22/255\n",
      "50000/50000 [==============================] - 1s 20us/step - loss: 1.2016 - acc: 0.6403 - val_loss: 2.3192 - val_acc: 0.4471\n",
      "Epoch 23/255\n",
      "50000/50000 [==============================] - 1s 20us/step - loss: 1.1701 - acc: 0.6474 - val_loss: 2.3410 - val_acc: 0.4424\n",
      "Epoch 24/255\n",
      "50000/50000 [==============================] - 1s 20us/step - loss: 1.1426 - acc: 0.6557 - val_loss: 2.3581 - val_acc: 0.4462\n",
      "Epoch 25/255\n",
      "50000/50000 [==============================] - 1s 20us/step - loss: 1.1286 - acc: 0.6613 - val_loss: 2.3649 - val_acc: 0.4437\n",
      "Epoch 26/255\n",
      "50000/50000 [==============================] - 1s 20us/step - loss: 1.0943 - acc: 0.6681 - val_loss: 2.3930 - val_acc: 0.4483\n",
      "Epoch 27/255\n",
      "50000/50000 [==============================] - 1s 19us/step - loss: 1.0779 - acc: 0.6710 - val_loss: 2.3967 - val_acc: 0.4443\n",
      "Epoch 28/255\n",
      "50000/50000 [==============================] - 1s 20us/step - loss: 1.0517 - acc: 0.6797 - val_loss: 2.4160 - val_acc: 0.4389\n",
      "Epoch 29/255\n",
      "50000/50000 [==============================] - 1s 20us/step - loss: 1.0404 - acc: 0.6824 - val_loss: 2.4365 - val_acc: 0.4457\n",
      "Epoch 30/255\n",
      "50000/50000 [==============================] - 1s 19us/step - loss: 1.0020 - acc: 0.6912 - val_loss: 2.4373 - val_acc: 0.4439\n",
      "Epoch 31/255\n",
      "50000/50000 [==============================] - 1s 20us/step - loss: 0.9947 - acc: 0.6916 - val_loss: 2.4642 - val_acc: 0.4398\n",
      "Epoch 32/255\n",
      "50000/50000 [==============================] - 1s 20us/step - loss: 0.9820 - acc: 0.6983 - val_loss: 2.4690 - val_acc: 0.4420\n",
      "Epoch 33/255\n",
      "50000/50000 [==============================] - 1s 20us/step - loss: 0.9560 - acc: 0.7045 - val_loss: 2.4972 - val_acc: 0.4437\n",
      "Epoch 34/255\n",
      "50000/50000 [==============================] - 1s 19us/step - loss: 0.9378 - acc: 0.7103 - val_loss: 2.5052 - val_acc: 0.4434\n",
      "Epoch 35/255\n",
      "50000/50000 [==============================] - 1s 19us/step - loss: 0.9240 - acc: 0.7137 - val_loss: 2.5000 - val_acc: 0.4414\n",
      "Epoch 36/255\n",
      "50000/50000 [==============================] - 1s 20us/step - loss: 0.9015 - acc: 0.7203 - val_loss: 2.5169 - val_acc: 0.4436\n",
      "Epoch 37/255\n",
      "50000/50000 [==============================] - 1s 19us/step - loss: 0.8950 - acc: 0.7214 - val_loss: 2.5322 - val_acc: 0.4410\n",
      "Epoch 38/255\n",
      "50000/50000 [==============================] - 1s 19us/step - loss: 0.8778 - acc: 0.7272 - val_loss: 2.5452 - val_acc: 0.4415\n",
      "Epoch 39/255\n",
      "50000/50000 [==============================] - 1s 19us/step - loss: 0.8739 - acc: 0.7298 - val_loss: 2.5530 - val_acc: 0.4449\n",
      "Epoch 40/255\n",
      "50000/50000 [==============================] - 1s 20us/step - loss: 0.8536 - acc: 0.7346 - val_loss: 2.5747 - val_acc: 0.4399\n",
      "Epoch 41/255\n",
      "50000/50000 [==============================] - 1s 20us/step - loss: 0.8403 - acc: 0.7379 - val_loss: 2.5696 - val_acc: 0.4458\n",
      "Epoch 42/255\n",
      "50000/50000 [==============================] - 1s 20us/step - loss: 0.8305 - acc: 0.7394 - val_loss: 2.5913 - val_acc: 0.4423\n",
      "Epoch 43/255\n",
      "50000/50000 [==============================] - 1s 21us/step - loss: 0.8157 - acc: 0.7432 - val_loss: 2.5943 - val_acc: 0.4453\n",
      "Epoch 44/255\n",
      "50000/50000 [==============================] - 1s 22us/step - loss: 0.8141 - acc: 0.7445 - val_loss: 2.5966 - val_acc: 0.4447\n",
      "Epoch 45/255\n",
      "50000/50000 [==============================] - 1s 21us/step - loss: 0.8032 - acc: 0.7474 - val_loss: 2.6236 - val_acc: 0.4399\n",
      "Epoch 46/255\n",
      "50000/50000 [==============================] - 1s 19us/step - loss: 0.7921 - acc: 0.7520 - val_loss: 2.6209 - val_acc: 0.4430\n",
      "Epoch 47/255\n",
      "50000/50000 [==============================] - 1s 19us/step - loss: 0.7835 - acc: 0.7526 - val_loss: 2.6509 - val_acc: 0.4396\n",
      "Epoch 48/255\n",
      "50000/50000 [==============================] - 1s 19us/step - loss: 0.7631 - acc: 0.7570 - val_loss: 2.6468 - val_acc: 0.4426\n",
      "Epoch 49/255\n",
      "50000/50000 [==============================] - 1s 19us/step - loss: 0.7610 - acc: 0.7590 - val_loss: 2.6617 - val_acc: 0.4430\n",
      "Epoch 50/255\n",
      "50000/50000 [==============================] - 1s 19us/step - loss: 0.7537 - acc: 0.7596 - val_loss: 2.6712 - val_acc: 0.4381\n",
      "Epoch 51/255\n",
      "50000/50000 [==============================] - 1s 21us/step - loss: 0.7337 - acc: 0.7675 - val_loss: 2.6801 - val_acc: 0.4454\n",
      "Epoch 52/255\n",
      "50000/50000 [==============================] - 1s 21us/step - loss: 0.7386 - acc: 0.7653 - val_loss: 2.6975 - val_acc: 0.4449\n",
      "Epoch 53/255\n",
      "50000/50000 [==============================] - 1s 22us/step - loss: 0.7216 - acc: 0.7705 - val_loss: 2.6997 - val_acc: 0.4463\n",
      "Epoch 54/255\n",
      "50000/50000 [==============================] - 1s 20us/step - loss: 0.7112 - acc: 0.7749 - val_loss: 2.7206 - val_acc: 0.4406\n",
      "Epoch 55/255\n",
      "50000/50000 [==============================] - 1s 19us/step - loss: 0.6942 - acc: 0.7797 - val_loss: 2.7151 - val_acc: 0.4389\n",
      "Epoch 56/255\n",
      "50000/50000 [==============================] - 1s 19us/step - loss: 0.7097 - acc: 0.7742 - val_loss: 2.7336 - val_acc: 0.4435\n",
      "Epoch 57/255\n",
      "50000/50000 [==============================] - 1s 19us/step - loss: 0.6947 - acc: 0.7807 - val_loss: 2.7257 - val_acc: 0.4432\n",
      "Epoch 58/255\n",
      "50000/50000 [==============================] - 1s 19us/step - loss: 0.6840 - acc: 0.7820 - val_loss: 2.7396 - val_acc: 0.4412\n",
      "Epoch 59/255\n"
     ]
    },
    {
     "name": "stdout",
     "output_type": "stream",
     "text": [
      "50000/50000 [==============================] - 1s 22us/step - loss: 0.6828 - acc: 0.7836 - val_loss: 2.7193 - val_acc: 0.4436\n",
      "Epoch 60/255\n",
      "50000/50000 [==============================] - 1s 19us/step - loss: 0.6754 - acc: 0.7846 - val_loss: 2.7319 - val_acc: 0.4484\n",
      "Epoch 61/255\n",
      "50000/50000 [==============================] - 1s 19us/step - loss: 0.6693 - acc: 0.7870 - val_loss: 2.7454 - val_acc: 0.4450\n",
      "Epoch 62/255\n",
      "50000/50000 [==============================] - 1s 20us/step - loss: 0.6610 - acc: 0.7886 - val_loss: 2.7552 - val_acc: 0.4431\n",
      "Epoch 63/255\n",
      "50000/50000 [==============================] - 1s 19us/step - loss: 0.6550 - acc: 0.7907 - val_loss: 2.7592 - val_acc: 0.4415\n",
      "Epoch 64/255\n",
      "50000/50000 [==============================] - 1s 19us/step - loss: 0.6499 - acc: 0.7921 - val_loss: 2.7695 - val_acc: 0.4431\n",
      "Epoch 65/255\n",
      "50000/50000 [==============================] - 1s 19us/step - loss: 0.6382 - acc: 0.7955 - val_loss: 2.7806 - val_acc: 0.4435\n",
      "Epoch 66/255\n",
      "50000/50000 [==============================] - 1s 21us/step - loss: 0.6383 - acc: 0.7958 - val_loss: 2.7797 - val_acc: 0.4420\n",
      "Epoch 67/255\n",
      "50000/50000 [==============================] - 1s 21us/step - loss: 0.6254 - acc: 0.7992 - val_loss: 2.7889 - val_acc: 0.4452\n",
      "Epoch 68/255\n",
      "50000/50000 [==============================] - 1s 21us/step - loss: 0.6203 - acc: 0.8033 - val_loss: 2.8154 - val_acc: 0.4428\n",
      "Epoch 69/255\n",
      "50000/50000 [==============================] - 1s 21us/step - loss: 0.6181 - acc: 0.8040 - val_loss: 2.8232 - val_acc: 0.4425\n",
      "Epoch 70/255\n",
      "50000/50000 [==============================] - 1s 22us/step - loss: 0.6137 - acc: 0.8023 - val_loss: 2.8219 - val_acc: 0.4431\n",
      "Epoch 71/255\n",
      "50000/50000 [==============================] - 1s 22us/step - loss: 0.6083 - acc: 0.8042 - val_loss: 2.8305 - val_acc: 0.4444\n",
      "Epoch 72/255\n",
      "50000/50000 [==============================] - 1s 19us/step - loss: 0.5970 - acc: 0.8082 - val_loss: 2.8227 - val_acc: 0.4419\n",
      "Epoch 73/255\n",
      "50000/50000 [==============================] - 1s 20us/step - loss: 0.6004 - acc: 0.8081 - val_loss: 2.8374 - val_acc: 0.4421\n",
      "Epoch 74/255\n",
      "50000/50000 [==============================] - 1s 19us/step - loss: 0.5861 - acc: 0.8123 - val_loss: 2.8475 - val_acc: 0.4428\n",
      "Epoch 75/255\n",
      "50000/50000 [==============================] - 1s 20us/step - loss: 0.5870 - acc: 0.8128 - val_loss: 2.8726 - val_acc: 0.4430\n",
      "Epoch 76/255\n",
      "50000/50000 [==============================] - 1s 21us/step - loss: 0.5790 - acc: 0.8136 - val_loss: 2.8555 - val_acc: 0.4412\n",
      "Epoch 77/255\n",
      "50000/50000 [==============================] - 1s 21us/step - loss: 0.5779 - acc: 0.8137 - val_loss: 2.8739 - val_acc: 0.4398\n",
      "Epoch 78/255\n",
      "50000/50000 [==============================] - 1s 21us/step - loss: 0.5821 - acc: 0.8125 - val_loss: 2.8633 - val_acc: 0.4456\n",
      "Epoch 79/255\n",
      "50000/50000 [==============================] - 1s 21us/step - loss: 0.5715 - acc: 0.8152 - val_loss: 2.8856 - val_acc: 0.4401\n",
      "Epoch 80/255\n",
      "50000/50000 [==============================] - 1s 21us/step - loss: 0.5725 - acc: 0.8164 - val_loss: 2.8782 - val_acc: 0.4431\n",
      "Epoch 81/255\n",
      "50000/50000 [==============================] - 1s 20us/step - loss: 0.5653 - acc: 0.8173 - val_loss: 2.8640 - val_acc: 0.4435\n",
      "Epoch 82/255\n",
      "50000/50000 [==============================] - 1s 21us/step - loss: 0.5673 - acc: 0.8186 - val_loss: 2.8932 - val_acc: 0.4423\n",
      "Epoch 83/255\n",
      "50000/50000 [==============================] - 1s 21us/step - loss: 0.5575 - acc: 0.8208 - val_loss: 2.8819 - val_acc: 0.4437\n",
      "Epoch 84/255\n",
      "50000/50000 [==============================] - 1s 20us/step - loss: 0.5558 - acc: 0.8211 - val_loss: 2.9036 - val_acc: 0.4430\n",
      "Epoch 85/255\n",
      "50000/50000 [==============================] - 1s 19us/step - loss: 0.5463 - acc: 0.8236 - val_loss: 2.8841 - val_acc: 0.4436\n",
      "Epoch 86/255\n",
      "50000/50000 [==============================] - 1s 19us/step - loss: 0.5479 - acc: 0.8232 - val_loss: 2.9139 - val_acc: 0.4438\n",
      "Epoch 87/255\n",
      "50000/50000 [==============================] - 1s 19us/step - loss: 0.5511 - acc: 0.8233 - val_loss: 2.9225 - val_acc: 0.4399\n",
      "Epoch 88/255\n",
      "50000/50000 [==============================] - 1s 20us/step - loss: 0.5440 - acc: 0.8237 - val_loss: 2.9209 - val_acc: 0.4400\n",
      "Epoch 89/255\n",
      "50000/50000 [==============================] - 1s 19us/step - loss: 0.5304 - acc: 0.8283 - val_loss: 2.9280 - val_acc: 0.4437\n",
      "Epoch 90/255\n",
      "50000/50000 [==============================] - 1s 19us/step - loss: 0.5231 - acc: 0.8315 - val_loss: 2.9346 - val_acc: 0.4407\n",
      "Epoch 91/255\n",
      "50000/50000 [==============================] - 1s 19us/step - loss: 0.5246 - acc: 0.8294 - val_loss: 2.9353 - val_acc: 0.4423\n",
      "Epoch 92/255\n",
      "50000/50000 [==============================] - 1s 19us/step - loss: 0.5243 - acc: 0.8287 - val_loss: 2.9586 - val_acc: 0.4407\n",
      "Epoch 93/255\n",
      "50000/50000 [==============================] - 1s 19us/step - loss: 0.5240 - acc: 0.8325 - val_loss: 2.9703 - val_acc: 0.4421\n",
      "Epoch 94/255\n",
      "50000/50000 [==============================] - 1s 19us/step - loss: 0.5166 - acc: 0.8317 - val_loss: 2.9625 - val_acc: 0.4437\n",
      "Epoch 95/255\n",
      "50000/50000 [==============================] - 1s 19us/step - loss: 0.5206 - acc: 0.8330 - val_loss: 2.9641 - val_acc: 0.4435\n",
      "Epoch 96/255\n",
      "50000/50000 [==============================] - 1s 19us/step - loss: 0.5197 - acc: 0.8317 - val_loss: 2.9828 - val_acc: 0.4408\n",
      "Epoch 97/255\n",
      "50000/50000 [==============================] - 1s 19us/step - loss: 0.5030 - acc: 0.8366 - val_loss: 2.9887 - val_acc: 0.4417\n",
      "Epoch 98/255\n",
      "50000/50000 [==============================] - 1s 19us/step - loss: 0.5085 - acc: 0.8365 - val_loss: 2.9819 - val_acc: 0.4458\n",
      "Epoch 99/255\n",
      "50000/50000 [==============================] - 1s 20us/step - loss: 0.5042 - acc: 0.8371 - val_loss: 2.9776 - val_acc: 0.4450\n",
      "Epoch 100/255\n",
      "50000/50000 [==============================] - 1s 21us/step - loss: 0.5052 - acc: 0.8372 - val_loss: 2.9873 - val_acc: 0.4462\n",
      "Epoch 101/255\n",
      "50000/50000 [==============================] - 1s 20us/step - loss: 0.4909 - acc: 0.8420 - val_loss: 2.9941 - val_acc: 0.4434\n",
      "Epoch 102/255\n",
      "50000/50000 [==============================] - 1s 21us/step - loss: 0.4928 - acc: 0.8408 - val_loss: 2.9731 - val_acc: 0.4431\n",
      "Epoch 103/255\n",
      "50000/50000 [==============================] - 1s 22us/step - loss: 0.4992 - acc: 0.8395 - val_loss: 2.9946 - val_acc: 0.4397\n",
      "Epoch 104/255\n",
      "50000/50000 [==============================] - 1s 20us/step - loss: 0.5003 - acc: 0.8391 - val_loss: 2.9749 - val_acc: 0.4399\n",
      "Epoch 105/255\n",
      "50000/50000 [==============================] - 1s 20us/step - loss: 0.4919 - acc: 0.8403 - val_loss: 2.9961 - val_acc: 0.4431\n",
      "Epoch 106/255\n",
      "50000/50000 [==============================] - 1s 19us/step - loss: 0.4964 - acc: 0.8411 - val_loss: 3.0184 - val_acc: 0.4390\n",
      "Epoch 107/255\n",
      "50000/50000 [==============================] - 1s 21us/step - loss: 0.4852 - acc: 0.8442 - val_loss: 3.0062 - val_acc: 0.4418\n",
      "Epoch 108/255\n",
      "50000/50000 [==============================] - 1s 21us/step - loss: 0.4839 - acc: 0.8443 - val_loss: 2.9997 - val_acc: 0.4412\n",
      "Epoch 109/255\n",
      "50000/50000 [==============================] - 1s 19us/step - loss: 0.4757 - acc: 0.8451 - val_loss: 3.0064 - val_acc: 0.4409\n",
      "Epoch 110/255\n",
      "50000/50000 [==============================] - 1s 19us/step - loss: 0.4745 - acc: 0.8487 - val_loss: 3.0139 - val_acc: 0.4433\n",
      "Epoch 111/255\n",
      "50000/50000 [==============================] - 1s 19us/step - loss: 0.4645 - acc: 0.8506 - val_loss: 3.0051 - val_acc: 0.4437\n",
      "Epoch 112/255\n",
      "50000/50000 [==============================] - 1s 19us/step - loss: 0.4710 - acc: 0.8480 - val_loss: 3.0234 - val_acc: 0.4375\n",
      "Epoch 113/255\n",
      "50000/50000 [==============================] - 1s 19us/step - loss: 0.4749 - acc: 0.8468 - val_loss: 3.0567 - val_acc: 0.4394\n",
      "Epoch 114/255\n",
      "50000/50000 [==============================] - 1s 21us/step - loss: 0.4593 - acc: 0.8515 - val_loss: 3.0483 - val_acc: 0.4393\n",
      "Epoch 115/255\n",
      "50000/50000 [==============================] - 1s 19us/step - loss: 0.4589 - acc: 0.8512 - val_loss: 3.0446 - val_acc: 0.4392\n",
      "Epoch 116/255\n",
      "50000/50000 [==============================] - 1s 20us/step - loss: 0.4686 - acc: 0.8486 - val_loss: 3.0633 - val_acc: 0.4417\n",
      "Epoch 117/255\n",
      "50000/50000 [==============================] - 1s 20us/step - loss: 0.4616 - acc: 0.8511 - val_loss: 3.0562 - val_acc: 0.4430\n"
     ]
    },
    {
     "name": "stdout",
     "output_type": "stream",
     "text": [
      "Epoch 118/255\n",
      "50000/50000 [==============================] - 1s 21us/step - loss: 0.4493 - acc: 0.8544 - val_loss: 3.0764 - val_acc: 0.4414\n",
      "Epoch 119/255\n",
      "50000/50000 [==============================] - 1s 19us/step - loss: 0.4493 - acc: 0.8546 - val_loss: 3.0509 - val_acc: 0.4383\n",
      "Epoch 120/255\n",
      "50000/50000 [==============================] - 1s 19us/step - loss: 0.4460 - acc: 0.8558 - val_loss: 3.0542 - val_acc: 0.4359\n",
      "Epoch 121/255\n",
      "50000/50000 [==============================] - 1s 19us/step - loss: 0.4559 - acc: 0.8506 - val_loss: 3.0554 - val_acc: 0.4396\n",
      "Epoch 122/255\n",
      "50000/50000 [==============================] - 1s 19us/step - loss: 0.4432 - acc: 0.8550 - val_loss: 3.0820 - val_acc: 0.4392\n",
      "Epoch 123/255\n",
      "50000/50000 [==============================] - 1s 20us/step - loss: 0.4457 - acc: 0.8549 - val_loss: 3.0763 - val_acc: 0.4386\n",
      "Epoch 124/255\n",
      "50000/50000 [==============================] - 1s 19us/step - loss: 0.4502 - acc: 0.8521 - val_loss: 3.0865 - val_acc: 0.4362\n",
      "Epoch 125/255\n",
      "50000/50000 [==============================] - 1s 19us/step - loss: 0.4500 - acc: 0.8547 - val_loss: 3.1025 - val_acc: 0.4360\n",
      "Epoch 126/255\n",
      "50000/50000 [==============================] - 1s 21us/step - loss: 0.4464 - acc: 0.8572 - val_loss: 3.0880 - val_acc: 0.4402\n",
      "Epoch 127/255\n",
      "50000/50000 [==============================] - 1s 19us/step - loss: 0.4415 - acc: 0.8557 - val_loss: 3.0826 - val_acc: 0.4402\n",
      "Epoch 128/255\n",
      "50000/50000 [==============================] - 1s 19us/step - loss: 0.4282 - acc: 0.8602 - val_loss: 3.0880 - val_acc: 0.4400\n",
      "Epoch 129/255\n",
      "50000/50000 [==============================] - 1s 20us/step - loss: 0.4373 - acc: 0.8571 - val_loss: 3.0953 - val_acc: 0.4428\n",
      "Epoch 130/255\n",
      "50000/50000 [==============================] - 1s 20us/step - loss: 0.4314 - acc: 0.8603 - val_loss: 3.1113 - val_acc: 0.4398\n",
      "Epoch 131/255\n",
      "50000/50000 [==============================] - 1s 19us/step - loss: 0.4356 - acc: 0.8569 - val_loss: 3.1008 - val_acc: 0.4380\n",
      "Epoch 132/255\n",
      "50000/50000 [==============================] - 1s 20us/step - loss: 0.4275 - acc: 0.8611 - val_loss: 3.1231 - val_acc: 0.4374\n",
      "Epoch 133/255\n",
      "50000/50000 [==============================] - 1s 19us/step - loss: 0.4345 - acc: 0.8579 - val_loss: 3.1230 - val_acc: 0.4401\n",
      "Epoch 134/255\n",
      "50000/50000 [==============================] - 1s 20us/step - loss: 0.4296 - acc: 0.8617 - val_loss: 3.1457 - val_acc: 0.4379\n",
      "Epoch 135/255\n",
      "50000/50000 [==============================] - 1s 21us/step - loss: 0.4221 - acc: 0.8620 - val_loss: 3.1435 - val_acc: 0.4378\n",
      "Epoch 136/255\n",
      "50000/50000 [==============================] - 1s 19us/step - loss: 0.4328 - acc: 0.8598 - val_loss: 3.1431 - val_acc: 0.4387\n",
      "Epoch 137/255\n",
      "50000/50000 [==============================] - 1s 20us/step - loss: 0.4254 - acc: 0.8620 - val_loss: 3.1436 - val_acc: 0.4346\n",
      "Epoch 138/255\n",
      "50000/50000 [==============================] - 1s 20us/step - loss: 0.4146 - acc: 0.8634 - val_loss: 3.1365 - val_acc: 0.4341\n",
      "Epoch 139/255\n",
      "50000/50000 [==============================] - 1s 20us/step - loss: 0.4213 - acc: 0.8631 - val_loss: 3.1334 - val_acc: 0.4372\n",
      "Epoch 140/255\n",
      "50000/50000 [==============================] - 1s 24us/step - loss: 0.4188 - acc: 0.8641 - val_loss: 3.1602 - val_acc: 0.4383\n",
      "Epoch 141/255\n",
      "50000/50000 [==============================] - 1s 23us/step - loss: 0.4194 - acc: 0.8628 - val_loss: 3.1453 - val_acc: 0.4389\n",
      "Epoch 142/255\n",
      "50000/50000 [==============================] - 1s 24us/step - loss: 0.4143 - acc: 0.8661 - val_loss: 3.1449 - val_acc: 0.4378\n",
      "Epoch 143/255\n",
      "50000/50000 [==============================] - 1s 22us/step - loss: 0.4171 - acc: 0.8648 - val_loss: 3.1255 - val_acc: 0.4401\n",
      "Epoch 144/255\n",
      "50000/50000 [==============================] - 1s 20us/step - loss: 0.4177 - acc: 0.8640 - val_loss: 3.1472 - val_acc: 0.4378\n",
      "Epoch 145/255\n",
      "50000/50000 [==============================] - 1s 20us/step - loss: 0.4109 - acc: 0.8657 - val_loss: 3.1436 - val_acc: 0.4384\n",
      "Epoch 146/255\n",
      "50000/50000 [==============================] - 1s 20us/step - loss: 0.4094 - acc: 0.8655 - val_loss: 3.1473 - val_acc: 0.4408\n",
      "Epoch 147/255\n",
      "50000/50000 [==============================] - 1s 21us/step - loss: 0.4039 - acc: 0.8686 - val_loss: 3.1471 - val_acc: 0.4391\n",
      "Epoch 148/255\n",
      "50000/50000 [==============================] - 1s 19us/step - loss: 0.4036 - acc: 0.8697 - val_loss: 3.1344 - val_acc: 0.4390\n",
      "Epoch 149/255\n",
      "50000/50000 [==============================] - 1s 20us/step - loss: 0.4104 - acc: 0.8686 - val_loss: 3.1450 - val_acc: 0.4401\n",
      "Epoch 150/255\n",
      "50000/50000 [==============================] - 1s 19us/step - loss: 0.4012 - acc: 0.8707 - val_loss: 3.1722 - val_acc: 0.4381\n",
      "Epoch 151/255\n",
      "50000/50000 [==============================] - 1s 20us/step - loss: 0.4056 - acc: 0.8677 - val_loss: 3.1792 - val_acc: 0.4382\n",
      "Epoch 152/255\n",
      "50000/50000 [==============================] - 1s 20us/step - loss: 0.3928 - acc: 0.8724 - val_loss: 3.1918 - val_acc: 0.4381\n",
      "Epoch 153/255\n",
      "50000/50000 [==============================] - 1s 20us/step - loss: 0.3983 - acc: 0.8722 - val_loss: 3.1826 - val_acc: 0.4397\n",
      "Epoch 154/255\n",
      "50000/50000 [==============================] - 1s 19us/step - loss: 0.4018 - acc: 0.8698 - val_loss: 3.1540 - val_acc: 0.4377\n",
      "Epoch 155/255\n",
      "50000/50000 [==============================] - 1s 19us/step - loss: 0.3871 - acc: 0.8727 - val_loss: 3.1590 - val_acc: 0.4399\n",
      "Epoch 156/255\n",
      "50000/50000 [==============================] - 1s 19us/step - loss: 0.3907 - acc: 0.8726 - val_loss: 3.1899 - val_acc: 0.4383\n",
      "Epoch 157/255\n",
      "50000/50000 [==============================] - 1s 19us/step - loss: 0.3906 - acc: 0.8732 - val_loss: 3.2125 - val_acc: 0.4354\n",
      "Epoch 158/255\n",
      "50000/50000 [==============================] - 1s 20us/step - loss: 0.3961 - acc: 0.8723 - val_loss: 3.1797 - val_acc: 0.4373\n",
      "Epoch 159/255\n",
      "50000/50000 [==============================] - 1s 19us/step - loss: 0.3938 - acc: 0.8727 - val_loss: 3.1878 - val_acc: 0.4379\n",
      "Epoch 160/255\n",
      "50000/50000 [==============================] - 1s 19us/step - loss: 0.3929 - acc: 0.8733 - val_loss: 3.1984 - val_acc: 0.4375\n",
      "Epoch 161/255\n",
      "50000/50000 [==============================] - 1s 19us/step - loss: 0.3863 - acc: 0.8738 - val_loss: 3.2053 - val_acc: 0.4370\n",
      "Epoch 162/255\n",
      "50000/50000 [==============================] - 1s 19us/step - loss: 0.3908 - acc: 0.8730 - val_loss: 3.2128 - val_acc: 0.4428\n",
      "Epoch 163/255\n",
      "50000/50000 [==============================] - 1s 19us/step - loss: 0.3859 - acc: 0.8739 - val_loss: 3.2004 - val_acc: 0.4377\n",
      "Epoch 164/255\n",
      "50000/50000 [==============================] - 1s 20us/step - loss: 0.3866 - acc: 0.8727 - val_loss: 3.2101 - val_acc: 0.4421\n",
      "Epoch 165/255\n",
      "50000/50000 [==============================] - 1s 21us/step - loss: 0.3817 - acc: 0.8758 - val_loss: 3.2149 - val_acc: 0.4429\n",
      "Epoch 166/255\n",
      "50000/50000 [==============================] - 1s 22us/step - loss: 0.3851 - acc: 0.8748 - val_loss: 3.1934 - val_acc: 0.4386\n",
      "Epoch 167/255\n",
      "50000/50000 [==============================] - 1s 22us/step - loss: 0.3832 - acc: 0.8753 - val_loss: 3.1802 - val_acc: 0.4412\n",
      "Epoch 168/255\n",
      "50000/50000 [==============================] - 1s 22us/step - loss: 0.3788 - acc: 0.8780 - val_loss: 3.1990 - val_acc: 0.4439\n",
      "Epoch 169/255\n",
      "50000/50000 [==============================] - 1s 23us/step - loss: 0.3804 - acc: 0.8768 - val_loss: 3.2201 - val_acc: 0.4417\n",
      "Epoch 170/255\n",
      "50000/50000 [==============================] - 1s 21us/step - loss: 0.3831 - acc: 0.8744 - val_loss: 3.2001 - val_acc: 0.4429\n",
      "Epoch 171/255\n",
      "50000/50000 [==============================] - 1s 19us/step - loss: 0.3762 - acc: 0.8784 - val_loss: 3.2034 - val_acc: 0.4438\n",
      "Epoch 172/255\n",
      "50000/50000 [==============================] - 1s 20us/step - loss: 0.3781 - acc: 0.8754 - val_loss: 3.2275 - val_acc: 0.4387\n",
      "Epoch 173/255\n",
      "50000/50000 [==============================] - 1s 20us/step - loss: 0.3813 - acc: 0.8751 - val_loss: 3.2076 - val_acc: 0.4419\n",
      "Epoch 174/255\n",
      "50000/50000 [==============================] - 1s 19us/step - loss: 0.3756 - acc: 0.8787 - val_loss: 3.1915 - val_acc: 0.4418\n",
      "Epoch 175/255\n",
      "50000/50000 [==============================] - 1s 19us/step - loss: 0.3781 - acc: 0.8771 - val_loss: 3.1977 - val_acc: 0.4439\n",
      "Epoch 176/255\n"
     ]
    },
    {
     "name": "stdout",
     "output_type": "stream",
     "text": [
      "50000/50000 [==============================] - 1s 23us/step - loss: 0.3669 - acc: 0.8805 - val_loss: 3.2078 - val_acc: 0.4413\n",
      "Epoch 177/255\n",
      "50000/50000 [==============================] - 1s 23us/step - loss: 0.3705 - acc: 0.8804 - val_loss: 3.2386 - val_acc: 0.4436\n",
      "Epoch 178/255\n",
      "50000/50000 [==============================] - 1s 22us/step - loss: 0.3688 - acc: 0.8809 - val_loss: 3.2330 - val_acc: 0.4418\n",
      "Epoch 179/255\n",
      "50000/50000 [==============================] - 1s 22us/step - loss: 0.3618 - acc: 0.8818 - val_loss: 3.2023 - val_acc: 0.4435\n",
      "Epoch 180/255\n",
      "50000/50000 [==============================] - 1s 23us/step - loss: 0.3718 - acc: 0.8797 - val_loss: 3.2268 - val_acc: 0.4438\n",
      "Epoch 181/255\n",
      "50000/50000 [==============================] - 1s 19us/step - loss: 0.3638 - acc: 0.8824 - val_loss: 3.2290 - val_acc: 0.4413\n",
      "Epoch 182/255\n",
      "50000/50000 [==============================] - 1s 19us/step - loss: 0.3661 - acc: 0.8811 - val_loss: 3.2300 - val_acc: 0.4413\n",
      "Epoch 183/255\n",
      "50000/50000 [==============================] - 1s 20us/step - loss: 0.3619 - acc: 0.8828 - val_loss: 3.2296 - val_acc: 0.4395\n",
      "Epoch 184/255\n",
      "50000/50000 [==============================] - 1s 19us/step - loss: 0.3607 - acc: 0.8823 - val_loss: 3.2348 - val_acc: 0.4444\n",
      "Epoch 185/255\n",
      "50000/50000 [==============================] - 1s 20us/step - loss: 0.3601 - acc: 0.8833 - val_loss: 3.2356 - val_acc: 0.4414\n",
      "Epoch 186/255\n",
      "50000/50000 [==============================] - 1s 20us/step - loss: 0.3626 - acc: 0.8824 - val_loss: 3.2499 - val_acc: 0.4442\n",
      "Epoch 187/255\n",
      "50000/50000 [==============================] - 1s 20us/step - loss: 0.3641 - acc: 0.8806 - val_loss: 3.2295 - val_acc: 0.4390\n",
      "Epoch 188/255\n",
      "50000/50000 [==============================] - 1s 20us/step - loss: 0.3614 - acc: 0.8835 - val_loss: 3.2409 - val_acc: 0.4419\n",
      "Epoch 189/255\n",
      "50000/50000 [==============================] - 1s 20us/step - loss: 0.3578 - acc: 0.8839 - val_loss: 3.2332 - val_acc: 0.4383\n",
      "Epoch 190/255\n",
      "50000/50000 [==============================] - 1s 19us/step - loss: 0.3514 - acc: 0.8849 - val_loss: 3.2366 - val_acc: 0.4409\n",
      "Epoch 191/255\n",
      "50000/50000 [==============================] - 1s 20us/step - loss: 0.3510 - acc: 0.8853 - val_loss: 3.2519 - val_acc: 0.4375\n",
      "Epoch 192/255\n",
      "50000/50000 [==============================] - 1s 19us/step - loss: 0.3539 - acc: 0.8836 - val_loss: 3.2461 - val_acc: 0.4455\n",
      "Epoch 193/255\n",
      "50000/50000 [==============================] - 1s 19us/step - loss: 0.3519 - acc: 0.8859 - val_loss: 3.2478 - val_acc: 0.4442\n",
      "Epoch 194/255\n",
      "50000/50000 [==============================] - 1s 20us/step - loss: 0.3532 - acc: 0.8852 - val_loss: 3.2686 - val_acc: 0.4400\n",
      "Epoch 195/255\n",
      "50000/50000 [==============================] - 1s 20us/step - loss: 0.3524 - acc: 0.8861 - val_loss: 3.2489 - val_acc: 0.4441\n",
      "Epoch 196/255\n",
      "50000/50000 [==============================] - 1s 20us/step - loss: 0.3528 - acc: 0.8857 - val_loss: 3.2630 - val_acc: 0.4398\n",
      "Epoch 197/255\n",
      "50000/50000 [==============================] - 1s 20us/step - loss: 0.3501 - acc: 0.8851 - val_loss: 3.2635 - val_acc: 0.4377\n",
      "Epoch 198/255\n",
      "50000/50000 [==============================] - 1s 21us/step - loss: 0.3512 - acc: 0.8853 - val_loss: 3.2623 - val_acc: 0.4356\n",
      "Epoch 199/255\n",
      "50000/50000 [==============================] - 1s 22us/step - loss: 0.3527 - acc: 0.8857 - val_loss: 3.2726 - val_acc: 0.4395\n",
      "Epoch 200/255\n",
      "50000/50000 [==============================] - 1s 20us/step - loss: 0.3553 - acc: 0.8854 - val_loss: 3.2779 - val_acc: 0.4395\n",
      "Epoch 201/255\n",
      "50000/50000 [==============================] - 1s 19us/step - loss: 0.3541 - acc: 0.8844 - val_loss: 3.2842 - val_acc: 0.4439\n",
      "Epoch 202/255\n",
      "50000/50000 [==============================] - 1s 19us/step - loss: 0.3522 - acc: 0.8853 - val_loss: 3.2868 - val_acc: 0.4395\n",
      "Epoch 203/255\n",
      "50000/50000 [==============================] - 1s 20us/step - loss: 0.3478 - acc: 0.8868 - val_loss: 3.2767 - val_acc: 0.4405\n",
      "Epoch 204/255\n",
      "50000/50000 [==============================] - 1s 21us/step - loss: 0.3428 - acc: 0.8856 - val_loss: 3.2891 - val_acc: 0.4397\n",
      "Epoch 205/255\n",
      "50000/50000 [==============================] - 1s 20us/step - loss: 0.3529 - acc: 0.8861 - val_loss: 3.2907 - val_acc: 0.4422\n",
      "Epoch 206/255\n",
      "50000/50000 [==============================] - 1s 21us/step - loss: 0.3439 - acc: 0.8884 - val_loss: 3.3005 - val_acc: 0.4440\n",
      "Epoch 207/255\n",
      "50000/50000 [==============================] - 1s 21us/step - loss: 0.3413 - acc: 0.8887 - val_loss: 3.3005 - val_acc: 0.4397\n",
      "Epoch 208/255\n",
      "50000/50000 [==============================] - 1s 21us/step - loss: 0.3414 - acc: 0.8874 - val_loss: 3.3086 - val_acc: 0.4387\n",
      "Epoch 209/255\n",
      "50000/50000 [==============================] - 1s 21us/step - loss: 0.3420 - acc: 0.8892 - val_loss: 3.2883 - val_acc: 0.4405\n",
      "Epoch 210/255\n",
      "50000/50000 [==============================] - 1s 21us/step - loss: 0.3409 - acc: 0.8884 - val_loss: 3.3127 - val_acc: 0.4400\n",
      "Epoch 211/255\n",
      "50000/50000 [==============================] - 1s 19us/step - loss: 0.3420 - acc: 0.8909 - val_loss: 3.2989 - val_acc: 0.4403\n",
      "Epoch 212/255\n",
      "50000/50000 [==============================] - 1s 19us/step - loss: 0.3445 - acc: 0.8873 - val_loss: 3.3074 - val_acc: 0.4393\n",
      "Epoch 213/255\n",
      "50000/50000 [==============================] - 1s 20us/step - loss: 0.3401 - acc: 0.8892 - val_loss: 3.3096 - val_acc: 0.4404\n",
      "Epoch 214/255\n",
      "50000/50000 [==============================] - 1s 19us/step - loss: 0.3402 - acc: 0.8897 - val_loss: 3.3019 - val_acc: 0.4409\n",
      "Epoch 215/255\n",
      "50000/50000 [==============================] - 1s 20us/step - loss: 0.3416 - acc: 0.8881 - val_loss: 3.2872 - val_acc: 0.4420\n",
      "Epoch 216/255\n",
      "50000/50000 [==============================] - 1s 19us/step - loss: 0.3382 - acc: 0.8886 - val_loss: 3.2996 - val_acc: 0.4394\n",
      "Epoch 217/255\n",
      "50000/50000 [==============================] - 1s 19us/step - loss: 0.3311 - acc: 0.8940 - val_loss: 3.3063 - val_acc: 0.4404\n",
      "Epoch 218/255\n",
      "50000/50000 [==============================] - 1s 19us/step - loss: 0.3400 - acc: 0.8896 - val_loss: 3.3076 - val_acc: 0.4348\n",
      "Epoch 219/255\n",
      "50000/50000 [==============================] - 1s 20us/step - loss: 0.3340 - acc: 0.8919 - val_loss: 3.3219 - val_acc: 0.4389\n",
      "Epoch 220/255\n",
      "50000/50000 [==============================] - 1s 19us/step - loss: 0.3321 - acc: 0.8909 - val_loss: 3.3074 - val_acc: 0.4396\n",
      "Epoch 221/255\n",
      "50000/50000 [==============================] - 1s 19us/step - loss: 0.3349 - acc: 0.8908 - val_loss: 3.3222 - val_acc: 0.4410\n",
      "Epoch 222/255\n",
      "50000/50000 [==============================] - 1s 19us/step - loss: 0.3342 - acc: 0.8905 - val_loss: 3.3377 - val_acc: 0.4366\n",
      "Epoch 223/255\n",
      "50000/50000 [==============================] - 1s 19us/step - loss: 0.3358 - acc: 0.8909 - val_loss: 3.3121 - val_acc: 0.4400\n",
      "Epoch 224/255\n",
      "50000/50000 [==============================] - 1s 22us/step - loss: 0.3270 - acc: 0.8924 - val_loss: 3.3257 - val_acc: 0.4423\n",
      "Epoch 225/255\n",
      "50000/50000 [==============================] - 2s 42us/step - loss: 0.3268 - acc: 0.8936 - val_loss: 3.3517 - val_acc: 0.4415\n",
      "Epoch 226/255\n",
      "50000/50000 [==============================] - 1s 23us/step - loss: 0.3336 - acc: 0.8923 - val_loss: 3.3317 - val_acc: 0.4401\n",
      "Epoch 227/255\n",
      "50000/50000 [==============================] - 1s 23us/step - loss: 0.3298 - acc: 0.8914 - val_loss: 3.3416 - val_acc: 0.4383\n",
      "Epoch 228/255\n",
      "50000/50000 [==============================] - 1s 21us/step - loss: 0.3269 - acc: 0.8931 - val_loss: 3.3400 - val_acc: 0.4400\n",
      "Epoch 229/255\n",
      "50000/50000 [==============================] - 1s 21us/step - loss: 0.3210 - acc: 0.8951 - val_loss: 3.3226 - val_acc: 0.4408\n",
      "Epoch 230/255\n",
      "50000/50000 [==============================] - 1s 20us/step - loss: 0.3209 - acc: 0.8951 - val_loss: 3.3130 - val_acc: 0.4382\n",
      "Epoch 231/255\n",
      "50000/50000 [==============================] - 1s 21us/step - loss: 0.3242 - acc: 0.8949 - val_loss: 3.3115 - val_acc: 0.4385\n",
      "Epoch 232/255\n",
      "50000/50000 [==============================] - 1s 20us/step - loss: 0.3221 - acc: 0.8947 - val_loss: 3.3401 - val_acc: 0.4371\n",
      "Epoch 233/255\n",
      "50000/50000 [==============================] - 1s 19us/step - loss: 0.3311 - acc: 0.8930 - val_loss: 3.3211 - val_acc: 0.4367\n",
      "Epoch 234/255\n"
     ]
    },
    {
     "name": "stdout",
     "output_type": "stream",
     "text": [
      "50000/50000 [==============================] - 1s 22us/step - loss: 0.3217 - acc: 0.8954 - val_loss: 3.3335 - val_acc: 0.4394\n",
      "Epoch 235/255\n",
      "50000/50000 [==============================] - 1s 23us/step - loss: 0.3252 - acc: 0.8932 - val_loss: 3.3209 - val_acc: 0.4438\n",
      "Epoch 236/255\n",
      "50000/50000 [==============================] - 1s 22us/step - loss: 0.3261 - acc: 0.8936 - val_loss: 3.3319 - val_acc: 0.4407\n",
      "Epoch 237/255\n",
      "50000/50000 [==============================] - 1s 20us/step - loss: 0.3133 - acc: 0.8968 - val_loss: 3.3394 - val_acc: 0.4419\n",
      "Epoch 238/255\n",
      "50000/50000 [==============================] - 1s 20us/step - loss: 0.3210 - acc: 0.8951 - val_loss: 3.3408 - val_acc: 0.4369\n",
      "Epoch 239/255\n",
      "50000/50000 [==============================] - 1s 21us/step - loss: 0.3259 - acc: 0.8941 - val_loss: 3.3222 - val_acc: 0.4379\n",
      "Epoch 240/255\n",
      "50000/50000 [==============================] - 1s 20us/step - loss: 0.3226 - acc: 0.8945 - val_loss: 3.3619 - val_acc: 0.4411\n",
      "Epoch 241/255\n",
      "50000/50000 [==============================] - 1s 19us/step - loss: 0.3146 - acc: 0.8968 - val_loss: 3.3584 - val_acc: 0.4424\n",
      "Epoch 242/255\n",
      "50000/50000 [==============================] - 1s 20us/step - loss: 0.3183 - acc: 0.8973 - val_loss: 3.3639 - val_acc: 0.4386\n",
      "Epoch 243/255\n",
      "50000/50000 [==============================] - 1s 19us/step - loss: 0.3115 - acc: 0.8969 - val_loss: 3.3833 - val_acc: 0.4401\n",
      "Epoch 244/255\n",
      "50000/50000 [==============================] - 1s 19us/step - loss: 0.3180 - acc: 0.8968 - val_loss: 3.3656 - val_acc: 0.4383\n",
      "Epoch 245/255\n",
      "50000/50000 [==============================] - 1s 19us/step - loss: 0.3145 - acc: 0.8974 - val_loss: 3.3630 - val_acc: 0.4406\n",
      "Epoch 246/255\n",
      "50000/50000 [==============================] - 1s 19us/step - loss: 0.3140 - acc: 0.8971 - val_loss: 3.3502 - val_acc: 0.4417\n",
      "Epoch 247/255\n",
      "50000/50000 [==============================] - 1s 19us/step - loss: 0.3086 - acc: 0.8997 - val_loss: 3.3578 - val_acc: 0.4411\n",
      "Epoch 248/255\n",
      "50000/50000 [==============================] - 1s 19us/step - loss: 0.3172 - acc: 0.8972 - val_loss: 3.3832 - val_acc: 0.4375\n",
      "Epoch 249/255\n",
      "50000/50000 [==============================] - 1s 19us/step - loss: 0.3187 - acc: 0.8968 - val_loss: 3.3653 - val_acc: 0.4410\n",
      "Epoch 250/255\n",
      "50000/50000 [==============================] - 1s 20us/step - loss: 0.3115 - acc: 0.8996 - val_loss: 3.3530 - val_acc: 0.4417\n",
      "Epoch 251/255\n",
      "50000/50000 [==============================] - 1s 20us/step - loss: 0.3109 - acc: 0.8995 - val_loss: 3.3608 - val_acc: 0.4386\n",
      "Epoch 252/255\n",
      "50000/50000 [==============================] - 1s 20us/step - loss: 0.3134 - acc: 0.8999 - val_loss: 3.3647 - val_acc: 0.4377\n",
      "Epoch 253/255\n",
      "50000/50000 [==============================] - 1s 19us/step - loss: 0.3084 - acc: 0.8992 - val_loss: 3.3796 - val_acc: 0.4389\n",
      "Epoch 254/255\n",
      "50000/50000 [==============================] - 1s 20us/step - loss: 0.3167 - acc: 0.8962 - val_loss: 3.3790 - val_acc: 0.4417\n",
      "Epoch 255/255\n",
      "50000/50000 [==============================] - 1s 19us/step - loss: 0.3094 - acc: 0.8996 - val_loss: 3.3909 - val_acc: 0.4380\n"
     ]
    }
   ],
   "source": [
    "history_f = trainingD(model_f)"
   ]
  },
  {
   "cell_type": "code",
   "execution_count": 62,
   "metadata": {
    "ExecuteTime": {
     "end_time": "2018-11-30T00:00:27.879544Z",
     "start_time": "2018-11-30T00:00:27.631549Z"
    }
   },
   "outputs": [
    {
     "data": {
      "image/png": "[encoded data removed]",
      "text/plain": [
       "<Figure size 1080x360 with 3 Axes>"
      ]
     },
     "metadata": {
      "needs_background": "light"
     },
     "output_type": "display_data"
    }
   ],
   "source": [
    "plotChart('Figura f.1. Loss y Accuracy de entrenamiento y validación de red pre-entrenada.', \n",
    "          history_f.history['loss'], 'Entrenamiento',history_f.history['val_loss'], 'Validación',\n",
    "          history_f.history['acc'], 'Entrenamiento',history_f.history['val_acc'], 'Validación'\n",
    "         )"
   ]
  },
  {
   "cell_type": "markdown",
   "metadata": {},
   "source": [
    "> Tal como se aprecia en la figura anterior (**f.1**), el cambio de la red si bien provoco menores valores de error, tambien provoco un notoria divergencia entre los casos entrenados, y la validación."
   ]
  },
  {
   "cell_type": "markdown",
   "metadata": {
    "ExecuteTime": {
     "end_time": "2018-11-29T00:29:53.831242Z",
     "start_time": "2018-11-29T00:29:53.828318Z"
    }
   },
   "source": [
    "##### Pregunta G."
   ]
  },
  {
   "cell_type": "markdown",
   "metadata": {},
   "source": [
    "> En nuestra opinión la tecnica de *transfer learning* es especialmente útil cuando, por una parte se tiene un set bajo o pobre de elementos a entrenar, y por otra se tiene acceso a una red *pre-entrenada* de características similares, y que tenga la madurez suficiente para ser utilizada (se compruebe la calidad de predicción de dicha red por si misma).\n",
    "Por otra parte, desaconsejamos el uso de la técnica cuando el caso a resolver tiene caracteristicas que no puede ser recuperadas de un modelo *pre-entrenado*, o cuando el ambito de entrenamiento ofrece notorias probabilidades de lograr un modelo de mejor respuesta para el caso particular."
   ]
  },
  {
   "cell_type": "code",
   "execution_count": null,
   "metadata": {},
   "outputs": [],
   "source": []
  }
 ],
 "metadata": {
  "kernelspec": {
   "display_name": "Python 3",
   "language": "python",
   "name": "python3"
  },
  "language_info": {
   "codemirror_mode": {
    "name": "ipython",
    "version": 3
   },
   "file_extension": ".py",
   "mimetype": "text/x-python",
   "name": "python",
   "nbconvert_exporter": "python",
   "pygments_lexer": "ipython3",
   "version": "3.6.6"
  }
 },
 "nbformat": 4,
 "nbformat_minor": 2
}
