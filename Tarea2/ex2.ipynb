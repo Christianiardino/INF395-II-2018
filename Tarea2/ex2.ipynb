{
 "cells": [
  {
   "cell_type": "markdown",
   "metadata": {},
   "source": [
    "<img src=\"http://www.exalumnos.usm.cl/wp-content/uploads/2015/06/MARCA-Color.jpg\" title=\"Title text\" width=\"50%\" height=\"50%\" />\n",
    "\n",
    "\n",
    "<hr style=\"height:2px;border:none\"/>\n",
    "<h1 align='center'> INF-395/477 Redes Neuronales Artificiales II-2018 </h1>\n",
    "\n",
    "<H3 align='center'> Tarea 2 - Redes Convolucionales y sus aplicaciones </H3>\n",
    "<hr style=\"height:2px;border:none\"/>"
   ]
  },
  {
   "cell_type": "markdown",
   "metadata": {},
   "source": [
    "### Pregunta 2. Transfer Learning."
   ]
  },
  {
   "cell_type": "markdown",
   "metadata": {},
   "source": [
    "Integrantes:\n",
    "\n",
    "- Christian Da Rocha, ROL: 2018.90.251-9\n",
    "- Rodrigo Hermosilla, ROL: 95.74.144-4\n"
   ]
  },
  {
   "cell_type": "markdown",
   "metadata": {},
   "source": [
    "##### Carga inicial de librerias\n",
    "> En la siguiente sección y de manera previa se cargan todas las librerías necesarias para el ejercicio. Para efectos de mantener cierto orden con el código de las preguntas del ejercicio, se determino que todas las cargas se realizaran previamente, no obstante, se entiende que esto podría generar alguna ineficiencia en el consumo de recursos, pero que suponemos es marginal."
   ]
  },
  {
   "cell_type": "code",
   "execution_count": 1,
   "metadata": {
    "ExecuteTime": {
     "end_time": "2018-11-29T00:11:41.050183Z",
     "start_time": "2018-11-29T00:11:41.046077Z"
    }
   },
   "outputs": [
    {
     "name": "stderr",
     "output_type": "stream",
     "text": [
      "Using TensorFlow backend.\n"
     ]
    }
   ],
   "source": [
    "from keras.datasets import cifar100\n",
    "import keras\n",
    "from keras.models import Sequential\n",
    "from keras.layers import Dense,Conv2D,MaxPooling2D,Flatten,Dropout,Activation,Input,BatchNormalization\n",
    "from keras.optimizers import SGD\n",
    "import matplotlib.pyplot as plt\n",
    "%matplotlib inline\n",
    "from keras.applications import VGG16\n",
    "from keras.applications.vgg16 import preprocess_input\n",
    "import numpy as np\n",
    "from sklearn.preprocessing import StandardScaler"
   ]
  },
  {
   "cell_type": "markdown",
   "metadata": {
    "ExecuteTime": {
     "end_time": "2018-11-28T16:57:00.378010Z",
     "start_time": "2018-11-28T16:48:14.628Z"
    }
   },
   "source": [
    "> Descarga y asignación de variables estructuras globales"
   ]
  },
  {
   "cell_type": "markdown",
   "metadata": {},
   "source": [
    "##### Pregunta A."
   ]
  },
  {
   "cell_type": "markdown",
   "metadata": {
    "ExecuteTime": {
     "end_time": "2018-11-28T16:57:00.375891Z",
     "start_time": "2018-11-28T16:57:00.372655Z"
    }
   },
   "source": [
    "<div class=\"alert alert-block alert-success\">\n",
    "    <b>Nota: </b>Para efectos de mejorar la modularización, el ejercicio construye una serie de funciones, permitiendo además su reutilización en distintos instantes.\n",
    "</div>"
   ]
  },
  {
   "cell_type": "code",
   "execution_count": 2,
   "metadata": {
    "ExecuteTime": {
     "end_time": "2018-11-28T17:08:55.889314Z",
     "start_time": "2018-11-28T17:08:55.886722Z"
    }
   },
   "outputs": [],
   "source": [
    "def getData():\n",
    "    global x_train, y_train, x_test, y_test, x_train_norm, x_test_norm\n",
    "    (x_train, y_train), (x_test, y_test) = cifar100.load_data(label_mode='fine')\n",
    "    y_train = keras.utils.to_categorical(y_train, num_classes=100)\n",
    "    y_test = keras.utils.to_categorical(y_test, num_classes=100)\n",
    "    x_train_norm = x_train/255.0\n",
    "    x_test_norm = x_test/255.0"
   ]
  },
  {
   "cell_type": "code",
   "execution_count": 3,
   "metadata": {
    "ExecuteTime": {
     "end_time": "2018-11-28T20:05:28.864693Z",
     "start_time": "2018-11-28T20:05:28.847853Z"
    }
   },
   "outputs": [],
   "source": [
    "def plotChart(title, v1, l1, v2, l2,v3, l3,v4, l4):\n",
    "    fig=plt.figure(figsize=(15,5))\n",
    "    plt.title(title)\n",
    "    plt.axis('off')\n",
    "    fig.add_subplot(2,1,1) \n",
    "    plt.plot(v1,label=l1, color='y')\n",
    "    plt.plot(v2,label=l2, color='g')\n",
    "    plt.legend(loc='upper left')\n",
    "    plt.ylabel('Error')\n",
    "    fig.add_subplot(2,1,2) \n",
    "    plt.plot(v3,label=l3, color='b')\n",
    "    plt.plot(v4,label=l4, color='r')\n",
    "    plt.legend(loc='upper left')\n",
    "    plt.ylabel('Accuracy')\n",
    "    plt.xlabel('# epochs')\n",
    "    plt.show()"
   ]
  },
  {
   "cell_type": "code",
   "execution_count": 4,
   "metadata": {
    "ExecuteTime": {
     "end_time": "2018-11-28T17:02:19.445947Z",
     "start_time": "2018-11-28T17:02:19.440657Z"
    }
   },
   "outputs": [],
   "source": [
    "def modelA():\n",
    "    model = Sequential()\n",
    "    model.add(Conv2D(32, (3, 3), padding='same',input_shape=x_train_norm.shape[1:],activation='relu'))\n",
    "    model.add(Conv2D(32, (3, 3),padding='same',activation='relu'))\n",
    "    model.add(MaxPooling2D(pool_size=(2, 2)))\n",
    "    model.add(Conv2D(64, (3, 3),padding='same',activation='relu'))\n",
    "    model.add(Conv2D(64, (3, 3),padding='same',activation='relu'))\n",
    "    model.add(MaxPooling2D(pool_size=(2, 2)))\n",
    "    model.add(Flatten())\n",
    "    model.add(Dense(1024,activation='relu'))\n",
    "    model.add(Dropout(0.5))\n",
    "    model.add(Dense(100))\n",
    "    model.add(Activation('softmax'))\n",
    "    return model"
   ]
  },
  {
   "cell_type": "code",
   "execution_count": 12,
   "metadata": {
    "ExecuteTime": {
     "end_time": "2018-11-28T17:02:20.874599Z",
     "start_time": "2018-11-28T17:02:20.400676Z"
    }
   },
   "outputs": [
    {
     "name": "stdout",
     "output_type": "stream",
     "text": [
      "_________________________________________________________________\n",
      "Layer (type)                 Output Shape              Param #   \n",
      "=================================================================\n",
      "conv2d_1 (Conv2D)            (None, 32, 32, 32)        896       \n",
      "_________________________________________________________________\n",
      "conv2d_2 (Conv2D)            (None, 32, 32, 32)        9248      \n",
      "_________________________________________________________________\n",
      "max_pooling2d_1 (MaxPooling2 (None, 16, 16, 32)        0         \n",
      "_________________________________________________________________\n",
      "conv2d_3 (Conv2D)            (None, 16, 16, 64)        18496     \n",
      "_________________________________________________________________\n",
      "conv2d_4 (Conv2D)            (None, 16, 16, 64)        36928     \n",
      "_________________________________________________________________\n",
      "max_pooling2d_2 (MaxPooling2 (None, 8, 8, 64)          0         \n",
      "_________________________________________________________________\n",
      "flatten_1 (Flatten)          (None, 4096)              0         \n",
      "_________________________________________________________________\n",
      "dense_1 (Dense)              (None, 1024)              4195328   \n",
      "_________________________________________________________________\n",
      "dropout_1 (Dropout)          (None, 1024)              0         \n",
      "_________________________________________________________________\n",
      "dense_2 (Dense)              (None, 100)               102500    \n",
      "_________________________________________________________________\n",
      "activation_1 (Activation)    (None, 100)               0         \n",
      "=================================================================\n",
      "Total params: 4,363,396\n",
      "Trainable params: 4,363,396\n",
      "Non-trainable params: 0\n",
      "_________________________________________________________________\n"
     ]
    }
   ],
   "source": [
    "getData()\n",
    "model_a=modelA()\n",
    "model_a.summary()"
   ]
  },
  {
   "cell_type": "code",
   "execution_count": 13,
   "metadata": {
    "ExecuteTime": {
     "end_time": "2018-11-28T17:02:21.851034Z",
     "start_time": "2018-11-28T17:02:21.848644Z"
    }
   },
   "outputs": [],
   "source": [
    "def trainingA(model):\n",
    "    optimizer_ = SGD(lr=0.01,momentum=0.9)\n",
    "    model.compile(loss='categorical_crossentropy', optimizer=optimizer_, metrics=['accuracy'])\n",
    "    history=model.fit(x_train_norm, y_train, batch_size=128,epochs=15,verbose=1, validation_data=(x_test_norm,y_test)) \n",
    "    return history"
   ]
  },
  {
   "cell_type": "code",
   "execution_count": 9,
   "metadata": {
    "ExecuteTime": {
     "end_time": "2018-11-28T17:04:15.567167Z",
     "start_time": "2018-11-28T17:02:23.024822Z"
    },
    "scrolled": true
   },
   "outputs": [
    {
     "name": "stdout",
     "output_type": "stream",
     "text": [
      "Train on 50000 samples, validate on 10000 samples\n",
      "Epoch 1/15\n",
      "  896/50000 [..............................] - ETA: 12:04 - loss: 4.6049 - acc: 0.0089    "
     ]
    },
    {
     "ename": "KeyboardInterrupt",
     "evalue": "",
     "output_type": "error",
     "traceback": [
      "\u001b[1;31m---------------------------------------------------------------------------\u001b[0m",
      "\u001b[1;31mKeyboardInterrupt\u001b[0m                         Traceback (most recent call last)",
      "\u001b[1;32m<ipython-input-9-3ead33a92c85>\u001b[0m in \u001b[0;36m<module>\u001b[1;34m()\u001b[0m\n\u001b[1;32m----> 1\u001b[1;33m \u001b[0mhistory_a\u001b[0m \u001b[1;33m=\u001b[0m \u001b[0mtrainingA\u001b[0m\u001b[1;33m(\u001b[0m\u001b[0mmodel_a\u001b[0m\u001b[1;33m)\u001b[0m\u001b[1;33m\u001b[0m\u001b[0m\n\u001b[0m",
      "\u001b[1;32m<ipython-input-8-23c3a0b13128>\u001b[0m in \u001b[0;36mtrainingA\u001b[1;34m(model)\u001b[0m\n\u001b[0;32m      2\u001b[0m     \u001b[0moptimizer_\u001b[0m \u001b[1;33m=\u001b[0m \u001b[0mSGD\u001b[0m\u001b[1;33m(\u001b[0m\u001b[0mlr\u001b[0m\u001b[1;33m=\u001b[0m\u001b[1;36m0.01\u001b[0m\u001b[1;33m,\u001b[0m\u001b[0mmomentum\u001b[0m\u001b[1;33m=\u001b[0m\u001b[1;36m0.9\u001b[0m\u001b[1;33m)\u001b[0m\u001b[1;33m\u001b[0m\u001b[0m\n\u001b[0;32m      3\u001b[0m     \u001b[0mmodel\u001b[0m\u001b[1;33m.\u001b[0m\u001b[0mcompile\u001b[0m\u001b[1;33m(\u001b[0m\u001b[0mloss\u001b[0m\u001b[1;33m=\u001b[0m\u001b[1;34m'categorical_crossentropy'\u001b[0m\u001b[1;33m,\u001b[0m \u001b[0moptimizer\u001b[0m\u001b[1;33m=\u001b[0m\u001b[0moptimizer_\u001b[0m\u001b[1;33m,\u001b[0m \u001b[0mmetrics\u001b[0m\u001b[1;33m=\u001b[0m\u001b[1;33m[\u001b[0m\u001b[1;34m'accuracy'\u001b[0m\u001b[1;33m]\u001b[0m\u001b[1;33m)\u001b[0m\u001b[1;33m\u001b[0m\u001b[0m\n\u001b[1;32m----> 4\u001b[1;33m     \u001b[0mhistory\u001b[0m\u001b[1;33m=\u001b[0m\u001b[0mmodel\u001b[0m\u001b[1;33m.\u001b[0m\u001b[0mfit\u001b[0m\u001b[1;33m(\u001b[0m\u001b[0mx_train_norm\u001b[0m\u001b[1;33m,\u001b[0m \u001b[0my_train\u001b[0m\u001b[1;33m,\u001b[0m \u001b[0mbatch_size\u001b[0m\u001b[1;33m=\u001b[0m\u001b[1;36m128\u001b[0m\u001b[1;33m,\u001b[0m\u001b[0mepochs\u001b[0m\u001b[1;33m=\u001b[0m\u001b[1;36m15\u001b[0m\u001b[1;33m,\u001b[0m\u001b[0mverbose\u001b[0m\u001b[1;33m=\u001b[0m\u001b[1;36m1\u001b[0m\u001b[1;33m,\u001b[0m \u001b[0mvalidation_data\u001b[0m\u001b[1;33m=\u001b[0m\u001b[1;33m(\u001b[0m\u001b[0mx_test_norm\u001b[0m\u001b[1;33m,\u001b[0m\u001b[0my_test\u001b[0m\u001b[1;33m)\u001b[0m\u001b[1;33m)\u001b[0m\u001b[1;33m\u001b[0m\u001b[0m\n\u001b[0m\u001b[0;32m      5\u001b[0m     \u001b[1;32mreturn\u001b[0m \u001b[0mhistory\u001b[0m\u001b[1;33m\u001b[0m\u001b[0m\n",
      "\u001b[1;32m~\\Anaconda3\\envs\\tensorflow-gpu\\lib\\site-packages\\keras\\engine\\training.py\u001b[0m in \u001b[0;36mfit\u001b[1;34m(self, x, y, batch_size, epochs, verbose, callbacks, validation_split, validation_data, shuffle, class_weight, sample_weight, initial_epoch, steps_per_epoch, validation_steps, **kwargs)\u001b[0m\n\u001b[0;32m   1035\u001b[0m                                         \u001b[0minitial_epoch\u001b[0m\u001b[1;33m=\u001b[0m\u001b[0minitial_epoch\u001b[0m\u001b[1;33m,\u001b[0m\u001b[1;33m\u001b[0m\u001b[0m\n\u001b[0;32m   1036\u001b[0m                                         \u001b[0msteps_per_epoch\u001b[0m\u001b[1;33m=\u001b[0m\u001b[0msteps_per_epoch\u001b[0m\u001b[1;33m,\u001b[0m\u001b[1;33m\u001b[0m\u001b[0m\n\u001b[1;32m-> 1037\u001b[1;33m                                         validation_steps=validation_steps)\n\u001b[0m\u001b[0;32m   1038\u001b[0m \u001b[1;33m\u001b[0m\u001b[0m\n\u001b[0;32m   1039\u001b[0m     def evaluate(self, x=None, y=None,\n",
      "\u001b[1;32m~\\Anaconda3\\envs\\tensorflow-gpu\\lib\\site-packages\\keras\\engine\\training_arrays.py\u001b[0m in \u001b[0;36mfit_loop\u001b[1;34m(model, f, ins, out_labels, batch_size, epochs, verbose, callbacks, val_f, val_ins, shuffle, callback_metrics, initial_epoch, steps_per_epoch, validation_steps)\u001b[0m\n\u001b[0;32m    197\u001b[0m                     \u001b[0mins_batch\u001b[0m\u001b[1;33m[\u001b[0m\u001b[0mi\u001b[0m\u001b[1;33m]\u001b[0m \u001b[1;33m=\u001b[0m \u001b[0mins_batch\u001b[0m\u001b[1;33m[\u001b[0m\u001b[0mi\u001b[0m\u001b[1;33m]\u001b[0m\u001b[1;33m.\u001b[0m\u001b[0mtoarray\u001b[0m\u001b[1;33m(\u001b[0m\u001b[1;33m)\u001b[0m\u001b[1;33m\u001b[0m\u001b[0m\n\u001b[0;32m    198\u001b[0m \u001b[1;33m\u001b[0m\u001b[0m\n\u001b[1;32m--> 199\u001b[1;33m                 \u001b[0mouts\u001b[0m \u001b[1;33m=\u001b[0m \u001b[0mf\u001b[0m\u001b[1;33m(\u001b[0m\u001b[0mins_batch\u001b[0m\u001b[1;33m)\u001b[0m\u001b[1;33m\u001b[0m\u001b[0m\n\u001b[0m\u001b[0;32m    200\u001b[0m                 \u001b[0mouts\u001b[0m \u001b[1;33m=\u001b[0m \u001b[0mto_list\u001b[0m\u001b[1;33m(\u001b[0m\u001b[0mouts\u001b[0m\u001b[1;33m)\u001b[0m\u001b[1;33m\u001b[0m\u001b[0m\n\u001b[0;32m    201\u001b[0m                 \u001b[1;32mfor\u001b[0m \u001b[0ml\u001b[0m\u001b[1;33m,\u001b[0m \u001b[0mo\u001b[0m \u001b[1;32min\u001b[0m \u001b[0mzip\u001b[0m\u001b[1;33m(\u001b[0m\u001b[0mout_labels\u001b[0m\u001b[1;33m,\u001b[0m \u001b[0mouts\u001b[0m\u001b[1;33m)\u001b[0m\u001b[1;33m:\u001b[0m\u001b[1;33m\u001b[0m\u001b[0m\n",
      "\u001b[1;32m~\\Anaconda3\\envs\\tensorflow-gpu\\lib\\site-packages\\keras\\backend\\tensorflow_backend.py\u001b[0m in \u001b[0;36m__call__\u001b[1;34m(self, inputs)\u001b[0m\n\u001b[0;32m   2664\u001b[0m                 \u001b[1;32mreturn\u001b[0m \u001b[0mself\u001b[0m\u001b[1;33m.\u001b[0m\u001b[0m_legacy_call\u001b[0m\u001b[1;33m(\u001b[0m\u001b[0minputs\u001b[0m\u001b[1;33m)\u001b[0m\u001b[1;33m\u001b[0m\u001b[0m\n\u001b[0;32m   2665\u001b[0m \u001b[1;33m\u001b[0m\u001b[0m\n\u001b[1;32m-> 2666\u001b[1;33m             \u001b[1;32mreturn\u001b[0m \u001b[0mself\u001b[0m\u001b[1;33m.\u001b[0m\u001b[0m_call\u001b[0m\u001b[1;33m(\u001b[0m\u001b[0minputs\u001b[0m\u001b[1;33m)\u001b[0m\u001b[1;33m\u001b[0m\u001b[0m\n\u001b[0m\u001b[0;32m   2667\u001b[0m         \u001b[1;32melse\u001b[0m\u001b[1;33m:\u001b[0m\u001b[1;33m\u001b[0m\u001b[0m\n\u001b[0;32m   2668\u001b[0m             \u001b[1;32mif\u001b[0m \u001b[0mpy_any\u001b[0m\u001b[1;33m(\u001b[0m\u001b[0mis_tensor\u001b[0m\u001b[1;33m(\u001b[0m\u001b[0mx\u001b[0m\u001b[1;33m)\u001b[0m \u001b[1;32mfor\u001b[0m \u001b[0mx\u001b[0m \u001b[1;32min\u001b[0m \u001b[0minputs\u001b[0m\u001b[1;33m)\u001b[0m\u001b[1;33m:\u001b[0m\u001b[1;33m\u001b[0m\u001b[0m\n",
      "\u001b[1;32m~\\Anaconda3\\envs\\tensorflow-gpu\\lib\\site-packages\\keras\\backend\\tensorflow_backend.py\u001b[0m in \u001b[0;36m_call\u001b[1;34m(self, inputs)\u001b[0m\n\u001b[0;32m   2634\u001b[0m                                 \u001b[0msymbol_vals\u001b[0m\u001b[1;33m,\u001b[0m\u001b[1;33m\u001b[0m\u001b[0m\n\u001b[0;32m   2635\u001b[0m                                 session)\n\u001b[1;32m-> 2636\u001b[1;33m         \u001b[0mfetched\u001b[0m \u001b[1;33m=\u001b[0m \u001b[0mself\u001b[0m\u001b[1;33m.\u001b[0m\u001b[0m_callable_fn\u001b[0m\u001b[1;33m(\u001b[0m\u001b[1;33m*\u001b[0m\u001b[0marray_vals\u001b[0m\u001b[1;33m)\u001b[0m\u001b[1;33m\u001b[0m\u001b[0m\n\u001b[0m\u001b[0;32m   2637\u001b[0m         \u001b[1;32mreturn\u001b[0m \u001b[0mfetched\u001b[0m\u001b[1;33m[\u001b[0m\u001b[1;33m:\u001b[0m\u001b[0mlen\u001b[0m\u001b[1;33m(\u001b[0m\u001b[0mself\u001b[0m\u001b[1;33m.\u001b[0m\u001b[0moutputs\u001b[0m\u001b[1;33m)\u001b[0m\u001b[1;33m]\u001b[0m\u001b[1;33m\u001b[0m\u001b[0m\n\u001b[0;32m   2638\u001b[0m \u001b[1;33m\u001b[0m\u001b[0m\n",
      "\u001b[1;32m~\\Anaconda3\\envs\\tensorflow-gpu\\lib\\site-packages\\tensorflow\\python\\client\\session.py\u001b[0m in \u001b[0;36m__call__\u001b[1;34m(self, *args, **kwargs)\u001b[0m\n\u001b[0;32m   1380\u001b[0m           ret = tf_session.TF_SessionRunCallable(\n\u001b[0;32m   1381\u001b[0m               \u001b[0mself\u001b[0m\u001b[1;33m.\u001b[0m\u001b[0m_session\u001b[0m\u001b[1;33m.\u001b[0m\u001b[0m_session\u001b[0m\u001b[1;33m,\u001b[0m \u001b[0mself\u001b[0m\u001b[1;33m.\u001b[0m\u001b[0m_handle\u001b[0m\u001b[1;33m,\u001b[0m \u001b[0margs\u001b[0m\u001b[1;33m,\u001b[0m \u001b[0mstatus\u001b[0m\u001b[1;33m,\u001b[0m\u001b[1;33m\u001b[0m\u001b[0m\n\u001b[1;32m-> 1382\u001b[1;33m               run_metadata_ptr)\n\u001b[0m\u001b[0;32m   1383\u001b[0m         \u001b[1;32mif\u001b[0m \u001b[0mrun_metadata\u001b[0m\u001b[1;33m:\u001b[0m\u001b[1;33m\u001b[0m\u001b[0m\n\u001b[0;32m   1384\u001b[0m           \u001b[0mproto_data\u001b[0m \u001b[1;33m=\u001b[0m \u001b[0mtf_session\u001b[0m\u001b[1;33m.\u001b[0m\u001b[0mTF_GetBuffer\u001b[0m\u001b[1;33m(\u001b[0m\u001b[0mrun_metadata_ptr\u001b[0m\u001b[1;33m)\u001b[0m\u001b[1;33m\u001b[0m\u001b[0m\n",
      "\u001b[1;31mKeyboardInterrupt\u001b[0m: "
     ]
    }
   ],
   "source": [
    "history_a = trainingA(model_a)"
   ]
  },
  {
   "cell_type": "code",
   "execution_count": null,
   "metadata": {
    "ExecuteTime": {
     "end_time": "2018-11-28T20:06:39.226893Z",
     "start_time": "2018-11-28T20:06:39.053869Z"
    }
   },
   "outputs": [],
   "source": [
    "plotChart('Figura a.1. Loss y Accuracy de entrenamiento y validación en una CNN pre transfer-learning.', \n",
    "          history_a.history['loss'], 'Entrenamiento',history_a.history['val_loss'], 'Validación',\n",
    "          history_a.history['acc'], 'Entrenamiento',history_a.history['val_acc'], 'Validación'\n",
    "         )"
   ]
  },
  {
   "cell_type": "markdown",
   "metadata": {
    "ExecuteTime": {
     "end_time": "2018-11-28T17:09:30.472531Z",
     "start_time": "2018-11-28T17:09:30.470636Z"
    }
   },
   "source": [
    "##### Pregunta B."
   ]
  },
  {
   "cell_type": "code",
   "execution_count": 6,
   "metadata": {
    "ExecuteTime": {
     "end_time": "2018-11-28T17:10:59.736012Z",
     "start_time": "2018-11-28T17:10:59.731730Z"
    }
   },
   "outputs": [],
   "source": [
    "def modelB1():\n",
    "    model = Sequential()\n",
    "    model.add(Conv2D(32, (3, 3), padding='same',input_shape=x_train_norm.shape[1:],activation='relu'))\n",
    "    model.add(Dropout(0.5))\n",
    "    model.add(Conv2D(32, (3, 3),padding='same',activation='relu'))\n",
    "    model.add(Dropout(0.5))\n",
    "    model.add(MaxPooling2D(pool_size=(2, 2)))\n",
    "    model.add(Conv2D(64, (3, 3),padding='same',activation='relu'))\n",
    "    model.add(Dropout(0.5))\n",
    "    model.add(Conv2D(64, (3, 3),padding='same',activation='relu'))\n",
    "    model.add(Dropout(0.5))\n",
    "    model.add(MaxPooling2D(pool_size=(2, 2)))\n",
    "    model.add(Flatten())\n",
    "    model.add(Dense(1024,activation='relu'))\n",
    "    model.add(Dropout(0.5))\n",
    "    model.add(Dense(100))\n",
    "    model.add(Activation('softmax'))\n",
    "    return model"
   ]
  },
  {
   "cell_type": "code",
   "execution_count": 10,
   "metadata": {
    "ExecuteTime": {
     "end_time": "2018-11-28T17:18:54.208996Z",
     "start_time": "2018-11-28T17:16:11.085768Z"
    },
    "scrolled": true
   },
   "outputs": [
    {
     "name": "stdout",
     "output_type": "stream",
     "text": [
      "Train on 50000 samples, validate on 10000 samples\n",
      "Epoch 1/15\n",
      "50000/50000 [==============================] - 13s 263us/step - loss: 4.5128 - acc: 0.0204 - val_loss: 4.5841 - val_acc: 0.0118\n",
      "Epoch 2/15\n",
      "50000/50000 [==============================] - 12s 250us/step - loss: 4.2402 - acc: 0.0508 - val_loss: 4.4557 - val_acc: 0.0243\n",
      "Epoch 3/15\n",
      "50000/50000 [==============================] - 12s 247us/step - loss: 3.8971 - acc: 0.1008 - val_loss: 4.2846 - val_acc: 0.0521\n",
      "Epoch 4/15\n",
      "50000/50000 [==============================] - 12s 248us/step - loss: 3.6712 - acc: 0.1365 - val_loss: 4.1595 - val_acc: 0.0692\n",
      "Epoch 5/15\n",
      "50000/50000 [==============================] - 12s 250us/step - loss: 3.5100 - acc: 0.1641 - val_loss: 4.0761 - val_acc: 0.0937\n",
      "Epoch 6/15\n",
      "50000/50000 [==============================] - 12s 248us/step - loss: 3.3687 - acc: 0.1910 - val_loss: 4.0604 - val_acc: 0.0923\n",
      "Epoch 7/15\n",
      "50000/50000 [==============================] - 12s 249us/step - loss: 3.2526 - acc: 0.2130 - val_loss: 3.8912 - val_acc: 0.1256\n",
      "Epoch 8/15\n",
      "50000/50000 [==============================] - 12s 247us/step - loss: 3.1274 - acc: 0.2379 - val_loss: 3.9151 - val_acc: 0.1161\n",
      "Epoch 9/15\n",
      "50000/50000 [==============================] - 13s 252us/step - loss: 3.0277 - acc: 0.2542 - val_loss: 3.7928 - val_acc: 0.1402\n",
      "Epoch 10/15\n",
      "50000/50000 [==============================] - 13s 257us/step - loss: 2.9351 - acc: 0.2687 - val_loss: 3.7075 - val_acc: 0.1630\n",
      "Epoch 11/15\n",
      "50000/50000 [==============================] - 13s 250us/step - loss: 2.8388 - acc: 0.2908 - val_loss: 3.6493 - val_acc: 0.1586\n",
      "Epoch 12/15\n",
      "50000/50000 [==============================] - 12s 248us/step - loss: 2.7554 - acc: 0.3093 - val_loss: 3.6967 - val_acc: 0.1640\n",
      "Epoch 13/15\n",
      "50000/50000 [==============================] - 13s 256us/step - loss: 2.6897 - acc: 0.3201 - val_loss: 3.5249 - val_acc: 0.1954\n",
      "Epoch 14/15\n",
      "50000/50000 [==============================] - 13s 255us/step - loss: 2.6205 - acc: 0.3344 - val_loss: 3.4727 - val_acc: 0.1982\n",
      "Epoch 15/15\n",
      "50000/50000 [==============================] - 12s 250us/step - loss: 2.5484 - acc: 0.3471 - val_loss: 3.4161 - val_acc: 0.2220\n"
     ]
    }
   ],
   "source": [
    "getData()\n",
    "model_b1=modelB1()\n",
    "history_b1 = trainingA(model_b1)"
   ]
  },
  {
   "cell_type": "code",
   "execution_count": 11,
   "metadata": {
    "ExecuteTime": {
     "end_time": "2018-11-28T20:07:24.757153Z",
     "start_time": "2018-11-28T20:07:24.580762Z"
    }
   },
   "outputs": [
    {
     "data": {
      "image/png": "[encoded data removed]",
      "text/plain": [
       "<Figure size 1080x360 with 3 Axes>"
      ]
     },
     "metadata": {
      "needs_background": "light"
     },
     "output_type": "display_data"
    }
   ],
   "source": [
    "plotChart('Figura b.1. Loss y Accuracy de entrenamiento y validación con Dropout tras cada capa convolucional.', \n",
    "          history_b1.history['loss'], 'Entrenamiento',history_b1.history['val_loss'], 'Validación',\n",
    "          history_b1.history['acc'], 'Entrenamiento',history_b1.history['val_acc'], 'Validación'\n",
    "         )"
   ]
  },
  {
   "cell_type": "code",
   "execution_count": 7,
   "metadata": {
    "ExecuteTime": {
     "end_time": "2018-11-28T17:20:09.487745Z",
     "start_time": "2018-11-28T17:20:09.483608Z"
    }
   },
   "outputs": [],
   "source": [
    "def modelB2():\n",
    "    model = Sequential()\n",
    "    model.add(Conv2D(32, (3, 3), padding='same',input_shape=x_train_norm.shape[1:],activation='relu'))\n",
    "    model.add(Conv2D(32, (3, 3),padding='same',activation='relu'))\n",
    "    model.add(MaxPooling2D(pool_size=(2, 2)))\n",
    "    model.add(Dropout(0.5))\n",
    "    model.add(Conv2D(64, (3, 3),padding='same',activation='relu'))\n",
    "    model.add(Conv2D(64, (3, 3),padding='same',activation='relu'))\n",
    "    model.add(MaxPooling2D(pool_size=(2, 2)))\n",
    "    model.add(Dropout(0.5))\n",
    "    model.add(Flatten())\n",
    "    model.add(Dense(1024,activation='relu'))\n",
    "    model.add(Dropout(0.5))\n",
    "    model.add(Dense(100))\n",
    "    model.add(Activation('softmax'))\n",
    "    return model"
   ]
  },
  {
   "cell_type": "code",
   "execution_count": 13,
   "metadata": {
    "ExecuteTime": {
     "end_time": "2018-11-28T17:22:42.697242Z",
     "start_time": "2018-11-28T17:20:37.394557Z"
    },
    "scrolled": true
   },
   "outputs": [
    {
     "name": "stdout",
     "output_type": "stream",
     "text": [
      "Train on 50000 samples, validate on 10000 samples\n",
      "Epoch 1/15\n",
      "50000/50000 [==============================] - 10s 200us/step - loss: 4.5543 - acc: 0.0174 - val_loss: 4.4160 - val_acc: 0.0402\n",
      "Epoch 2/15\n",
      "50000/50000 [==============================] - 9s 189us/step - loss: 4.1263 - acc: 0.0660 - val_loss: 3.8841 - val_acc: 0.1138\n",
      "Epoch 3/15\n",
      "50000/50000 [==============================] - 9s 190us/step - loss: 3.8486 - acc: 0.1076 - val_loss: 3.6869 - val_acc: 0.1475\n",
      "Epoch 4/15\n",
      "50000/50000 [==============================] - 10s 193us/step - loss: 3.6421 - acc: 0.1418 - val_loss: 3.4008 - val_acc: 0.2010\n",
      "Epoch 5/15\n",
      "50000/50000 [==============================] - 9s 189us/step - loss: 3.4558 - acc: 0.1742 - val_loss: 3.2706 - val_acc: 0.2272\n",
      "Epoch 6/15\n",
      "50000/50000 [==============================] - 10s 192us/step - loss: 3.2876 - acc: 0.2036 - val_loss: 3.1048 - val_acc: 0.2466\n",
      "Epoch 7/15\n",
      "50000/50000 [==============================] - 10s 195us/step - loss: 3.1391 - acc: 0.2325 - val_loss: 2.9546 - val_acc: 0.2791\n",
      "Epoch 8/15\n",
      "50000/50000 [==============================] - 9s 188us/step - loss: 3.0159 - acc: 0.2544 - val_loss: 2.8113 - val_acc: 0.3137\n",
      "Epoch 9/15\n",
      "50000/50000 [==============================] - 9s 190us/step - loss: 2.9001 - acc: 0.2760 - val_loss: 2.6969 - val_acc: 0.3277\n",
      "Epoch 10/15\n",
      "50000/50000 [==============================] - 9s 188us/step - loss: 2.7965 - acc: 0.2996 - val_loss: 2.6742 - val_acc: 0.3323\n",
      "Epoch 11/15\n",
      "50000/50000 [==============================] - 9s 188us/step - loss: 2.7045 - acc: 0.3172 - val_loss: 2.5439 - val_acc: 0.3590\n",
      "Epoch 12/15\n",
      "50000/50000 [==============================] - 9s 187us/step - loss: 2.6309 - acc: 0.3305 - val_loss: 2.4750 - val_acc: 0.3752\n",
      "Epoch 13/15\n",
      "50000/50000 [==============================] - 9s 188us/step - loss: 2.5529 - acc: 0.3464 - val_loss: 2.4451 - val_acc: 0.3859\n",
      "Epoch 14/15\n",
      "50000/50000 [==============================] - 9s 187us/step - loss: 2.4857 - acc: 0.3590 - val_loss: 2.3894 - val_acc: 0.3898\n",
      "Epoch 15/15\n",
      "50000/50000 [==============================] - 9s 186us/step - loss: 2.4280 - acc: 0.3718 - val_loss: 2.3284 - val_acc: 0.4043\n"
     ]
    }
   ],
   "source": [
    "getData()\n",
    "model_b2=modelB2()\n",
    "history_b2 = trainingA(model_b2)"
   ]
  },
  {
   "cell_type": "code",
   "execution_count": 14,
   "metadata": {
    "ExecuteTime": {
     "end_time": "2018-11-28T20:08:04.337003Z",
     "start_time": "2018-11-28T20:08:04.154658Z"
    },
    "scrolled": true
   },
   "outputs": [
    {
     "data": {
      "image/png": "[encoded data removed]",
      "text/plain": [
       "<Figure size 1080x360 with 3 Axes>"
      ]
     },
     "metadata": {
      "needs_background": "light"
     },
     "output_type": "display_data"
    }
   ],
   "source": [
    "plotChart('Figura b.2. Loss y Accuracy de entrenamiento y validación con Dropout tras cada pooling.', \n",
    "          history_b2.history['loss'], 'Entrenamiento',history_b2.history['val_loss'], 'Validación',\n",
    "          history_b2.history['acc'], 'Entrenamiento',history_b2.history['val_acc'], 'Validación'\n",
    "         )"
   ]
  },
  {
   "cell_type": "code",
   "execution_count": 8,
   "metadata": {
    "ExecuteTime": {
     "end_time": "2018-11-28T17:30:38.723411Z",
     "start_time": "2018-11-28T17:30:38.719202Z"
    }
   },
   "outputs": [],
   "source": [
    "def modelB3():\n",
    "    model = Sequential()\n",
    "    model.add(Conv2D(32, (3, 3), padding='same',input_shape=x_train_norm.shape[1:],activation='relu'))\n",
    "    model.add(Conv2D(32, (3, 3),padding='same',activation='relu'))\n",
    "    model.add(Dropout(0.5))\n",
    "    model.add(MaxPooling2D(pool_size=(2, 2)))\n",
    "    model.add(Conv2D(64, (3, 3),padding='same',activation='relu'))\n",
    "    model.add(Conv2D(64, (3, 3),padding='same',activation='relu'))\n",
    "    model.add(Dropout(0.5))\n",
    "    model.add(MaxPooling2D(pool_size=(2, 2)))\n",
    "    model.add(Flatten())\n",
    "    model.add(Dense(1024,activation='relu'))\n",
    "    model.add(Dropout(0.5))\n",
    "    model.add(Dense(100))\n",
    "    model.add(Activation('softmax'))\n",
    "    return model"
   ]
  },
  {
   "cell_type": "code",
   "execution_count": 16,
   "metadata": {
    "ExecuteTime": {
     "end_time": "2018-11-28T17:33:20.531770Z",
     "start_time": "2018-11-28T17:30:55.029464Z"
    }
   },
   "outputs": [
    {
     "name": "stdout",
     "output_type": "stream",
     "text": [
      "Train on 50000 samples, validate on 10000 samples\n",
      "Epoch 1/15\n",
      "50000/50000 [==============================] - 11s 229us/step - loss: 4.2628 - acc: 0.0532 - val_loss: 4.2003 - val_acc: 0.1118\n",
      "Epoch 2/15\n",
      "50000/50000 [==============================] - 11s 220us/step - loss: 3.7374 - acc: 0.1286 - val_loss: 3.9432 - val_acc: 0.1620\n",
      "Epoch 3/15\n",
      "50000/50000 [==============================] - 11s 221us/step - loss: 3.4266 - acc: 0.1851 - val_loss: 3.7237 - val_acc: 0.1927\n",
      "Epoch 4/15\n",
      "50000/50000 [==============================] - 11s 217us/step - loss: 3.1783 - acc: 0.2281 - val_loss: 3.5368 - val_acc: 0.2388\n",
      "Epoch 5/15\n",
      "50000/50000 [==============================] - 11s 215us/step - loss: 2.9595 - acc: 0.2700 - val_loss: 3.3204 - val_acc: 0.2682\n",
      "Epoch 6/15\n",
      "50000/50000 [==============================] - 11s 216us/step - loss: 2.7690 - acc: 0.3075 - val_loss: 3.3497 - val_acc: 0.2513\n",
      "Epoch 7/15\n",
      "50000/50000 [==============================] - 11s 217us/step - loss: 2.6178 - acc: 0.3378 - val_loss: 3.0979 - val_acc: 0.3154\n",
      "Epoch 8/15\n",
      "50000/50000 [==============================] - 11s 216us/step - loss: 2.4665 - acc: 0.3696 - val_loss: 3.0866 - val_acc: 0.3068\n",
      "Epoch 9/15\n",
      "50000/50000 [==============================] - 11s 224us/step - loss: 2.3266 - acc: 0.3977 - val_loss: 2.9424 - val_acc: 0.3425\n",
      "Epoch 10/15\n",
      "50000/50000 [==============================] - 12s 233us/step - loss: 2.2286 - acc: 0.4161 - val_loss: 2.8885 - val_acc: 0.3609\n",
      "Epoch 11/15\n",
      "50000/50000 [==============================] - 11s 226us/step - loss: 2.1275 - acc: 0.4389 - val_loss: 2.8452 - val_acc: 0.3544\n",
      "Epoch 12/15\n",
      "50000/50000 [==============================] - 12s 241us/step - loss: 2.0200 - acc: 0.4612 - val_loss: 2.7851 - val_acc: 0.3608\n",
      "Epoch 13/15\n",
      "50000/50000 [==============================] - 11s 216us/step - loss: 1.9153 - acc: 0.4870 - val_loss: 2.8239 - val_acc: 0.3593\n",
      "Epoch 14/15\n",
      "50000/50000 [==============================] - 11s 226us/step - loss: 1.8123 - acc: 0.5042 - val_loss: 2.7012 - val_acc: 0.3764\n",
      "Epoch 15/15\n",
      "50000/50000 [==============================] - 11s 217us/step - loss: 1.7326 - acc: 0.5275 - val_loss: 2.7585 - val_acc: 0.3740\n"
     ]
    }
   ],
   "source": [
    "getData()\n",
    "model_b3=modelB3()\n",
    "history_b3 = trainingA(model_b3)"
   ]
  },
  {
   "cell_type": "code",
   "execution_count": 17,
   "metadata": {
    "ExecuteTime": {
     "end_time": "2018-11-28T20:08:31.810865Z",
     "start_time": "2018-11-28T20:08:31.626098Z"
    }
   },
   "outputs": [
    {
     "data": {
      "image/png": "[encoded data removed]",
      "text/plain": [
       "<Figure size 1080x360 with 3 Axes>"
      ]
     },
     "metadata": {
      "needs_background": "light"
     },
     "output_type": "display_data"
    }
   ],
   "source": [
    "plotChart('Figura b.3. Loss y Accuracy de entrenamiento y validación con Dropout antes de cada capa convolucional.', \n",
    "          history_b3.history['loss'], 'Entrenamiento',history_b3.history['val_loss'], 'Validación',\n",
    "          history_b3.history['acc'], 'Entrenamiento',history_b3.history['val_acc'], 'Validación'\n",
    "         )"
   ]
  },
  {
   "cell_type": "markdown",
   "metadata": {},
   "source": [
    "> Tal como se aprecia en las figuras **b.1** a **b.6**, el mejor comportamiento se obtiene aplicando *dropout* despues del pooling."
   ]
  },
  {
   "cell_type": "markdown",
   "metadata": {},
   "source": [
    "##### Pregunta C."
   ]
  },
  {
   "cell_type": "code",
   "execution_count": 33,
   "metadata": {
    "ExecuteTime": {
     "end_time": "2018-11-28T19:24:00.271013Z",
     "start_time": "2018-11-28T19:24:00.266017Z"
    }
   },
   "outputs": [],
   "source": [
    "def modelVGG(x_train, x_test):\n",
    "    global x_train_vgg, x_test_vgg, features_train, features_test\n",
    "    x_train_vgg = preprocess_input(x_train)\n",
    "    x_test_vgg = preprocess_input(x_test)\n",
    "    input_tensor=Input(shape=x_train_vgg.shape[1:])\n",
    "    modelVGG = VGG16(weights='imagenet', include_top=False,input_tensor=input_tensor ) # LOAD PRETRAINED MODEL \n",
    "    features_train = modelVGG.predict(x_train_vgg)\n",
    "    features_test = modelVGG.predict(x_test_vgg)\n",
    "    \n",
    "    return modelVGG"
   ]
  },
  {
   "cell_type": "code",
   "execution_count": 35,
   "metadata": {
    "ExecuteTime": {
     "end_time": "2018-11-28T19:24:19.734500Z",
     "start_time": "2018-11-28T19:24:00.713086Z"
    }
   },
   "outputs": [
    {
     "name": "stdout",
     "output_type": "stream",
     "text": [
      "_________________________________________________________________\n",
      "Layer (type)                 Output Shape              Param #   \n",
      "=================================================================\n",
      "input_1 (InputLayer)         (None, 32, 32, 3)         0         \n",
      "_________________________________________________________________\n",
      "block1_conv1 (Conv2D)        (None, 32, 32, 64)        1792      \n",
      "_________________________________________________________________\n",
      "block1_conv2 (Conv2D)        (None, 32, 32, 64)        36928     \n",
      "_________________________________________________________________\n",
      "block1_pool (MaxPooling2D)   (None, 16, 16, 64)        0         \n",
      "_________________________________________________________________\n",
      "block2_conv1 (Conv2D)        (None, 16, 16, 128)       73856     \n",
      "_________________________________________________________________\n",
      "block2_conv2 (Conv2D)        (None, 16, 16, 128)       147584    \n",
      "_________________________________________________________________\n",
      "block2_pool (MaxPooling2D)   (None, 8, 8, 128)         0         \n",
      "_________________________________________________________________\n",
      "block3_conv1 (Conv2D)        (None, 8, 8, 256)         295168    \n",
      "_________________________________________________________________\n",
      "block3_conv2 (Conv2D)        (None, 8, 8, 256)         590080    \n",
      "_________________________________________________________________\n",
      "block3_conv3 (Conv2D)        (None, 8, 8, 256)         590080    \n",
      "_________________________________________________________________\n",
      "block3_pool (MaxPooling2D)   (None, 4, 4, 256)         0         \n",
      "_________________________________________________________________\n",
      "block4_conv1 (Conv2D)        (None, 4, 4, 512)         1180160   \n",
      "_________________________________________________________________\n",
      "block4_conv2 (Conv2D)        (None, 4, 4, 512)         2359808   \n",
      "_________________________________________________________________\n",
      "block4_conv3 (Conv2D)        (None, 4, 4, 512)         2359808   \n",
      "_________________________________________________________________\n",
      "block4_pool (MaxPooling2D)   (None, 2, 2, 512)         0         \n",
      "_________________________________________________________________\n",
      "block5_conv1 (Conv2D)        (None, 2, 2, 512)         2359808   \n",
      "_________________________________________________________________\n",
      "block5_conv2 (Conv2D)        (None, 2, 2, 512)         2359808   \n",
      "_________________________________________________________________\n",
      "block5_conv3 (Conv2D)        (None, 2, 2, 512)         2359808   \n",
      "_________________________________________________________________\n",
      "block5_pool (MaxPooling2D)   (None, 1, 1, 512)         0         \n",
      "=================================================================\n",
      "Total params: 14,714,688\n",
      "Trainable params: 14,714,688\n",
      "Non-trainable params: 0\n",
      "_________________________________________________________________\n"
     ]
    }
   ],
   "source": [
    "model_vgg=modelVGG(x_train, x_test)\n",
    "model_vgg.summary()"
   ]
  },
  {
   "cell_type": "markdown",
   "metadata": {},
   "source": [
    "##### Pregunta D."
   ]
  },
  {
   "cell_type": "code",
   "execution_count": 36,
   "metadata": {
    "ExecuteTime": {
     "end_time": "2018-11-28T21:16:12.784717Z",
     "start_time": "2018-11-28T21:16:12.781829Z"
    }
   },
   "outputs": [],
   "source": [
    "def modelVGGChangedD(model_vgg):\n",
    "    for i in range(4):\n",
    "        model_vgg.layers.pop() \n",
    "    model = Sequential()\n",
    "    model.add(Flatten(input_shape=features_train.shape[1:]))\n",
    "    model.add(Dense(1024, activation='relu'))\n",
    "    model.add(Dropout(0.5))\n",
    "    model.add(Dense(100))\n",
    "    model.add(Activation('softmax'))\n",
    "    return model"
   ]
  },
  {
   "cell_type": "code",
   "execution_count": 37,
   "metadata": {
    "ExecuteTime": {
     "end_time": "2018-11-28T21:16:13.144327Z",
     "start_time": "2018-11-28T21:16:13.095693Z"
    }
   },
   "outputs": [],
   "source": [
    "model_vgg_d=modelVGGChangedD(model_vgg)"
   ]
  },
  {
   "cell_type": "code",
   "execution_count": 38,
   "metadata": {
    "ExecuteTime": {
     "end_time": "2018-11-28T21:16:13.404675Z",
     "start_time": "2018-11-28T21:16:13.393395Z"
    }
   },
   "outputs": [
    {
     "name": "stdout",
     "output_type": "stream",
     "text": [
      "_________________________________________________________________\n",
      "Layer (type)                 Output Shape              Param #   \n",
      "=================================================================\n",
      "flatten_2 (Flatten)          (None, 512)               0         \n",
      "_________________________________________________________________\n",
      "dense_3 (Dense)              (None, 1024)              525312    \n",
      "_________________________________________________________________\n",
      "dropout_2 (Dropout)          (None, 1024)              0         \n",
      "_________________________________________________________________\n",
      "dense_4 (Dense)              (None, 100)               102500    \n",
      "_________________________________________________________________\n",
      "activation_2 (Activation)    (None, 100)               0         \n",
      "=================================================================\n",
      "Total params: 627,812\n",
      "Trainable params: 627,812\n",
      "Non-trainable params: 0\n",
      "_________________________________________________________________\n"
     ]
    }
   ],
   "source": [
    "model_vgg_d.summary()"
   ]
  },
  {
   "cell_type": "code",
   "execution_count": 39,
   "metadata": {
    "ExecuteTime": {
     "end_time": "2018-11-28T22:40:44.793779Z",
     "start_time": "2018-11-28T22:40:44.788939Z"
    }
   },
   "outputs": [],
   "source": [
    "def trainingD(model):\n",
    "    global xtr, xt\n",
    "    optimizer_ = SGD(lr=0.01,momentum=0.9)\n",
    "    model.compile(optimizer=optimizer_,loss='categorical_crossentropy', metrics=['accuracy'])\n",
    "    history=model.fit(features_train, y_train,epochs=10, batch_size=128,verbose=1,validation_data=(features_test,y_test))\n",
    "    return history"
   ]
  },
  {
   "cell_type": "code",
   "execution_count": null,
   "metadata": {
    "ExecuteTime": {
     "end_time": "2018-11-28T22:41:49.194728Z",
     "start_time": "2018-11-28T22:41:39.619172Z"
    }
   },
   "outputs": [
    {
     "name": "stdout",
     "output_type": "stream",
     "text": [
      "Train on 50000 samples, validate on 10000 samples\n",
      "Epoch 1/10\n",
      "50000/50000 [==============================] - 3s 63us/step - loss: 14.5954 - acc: 0.0869 - val_loss: 14.4942 - val_acc: 0.0983\n",
      "Epoch 2/10\n",
      "50000/50000 [==============================] - 2s 34us/step - loss: 14.5371 - acc: 0.0961 - val_loss: 14.4382 - val_acc: 0.1020\n",
      "Epoch 3/10\n",
      "50000/50000 [==============================] - 1s 29us/step - loss: 14.4733 - acc: 0.1008 - val_loss: 14.4973 - val_acc: 0.0994\n",
      "Epoch 4/10\n",
      "50000/50000 [==============================] - 1s 30us/step - loss: 14.4412 - acc: 0.1029 - val_loss: 14.3627 - val_acc: 0.1077\n",
      "Epoch 5/10\n",
      "50000/50000 [==============================] - 2s 31us/step - loss: 14.4725 - acc: 0.1012 - val_loss: 14.4450 - val_acc: 0.1035\n",
      "Epoch 6/10\n",
      "50000/50000 [==============================] - 2s 33us/step - loss: 14.4567 - acc: 0.1025 - val_loss: 14.3918 - val_acc: 0.1063\n",
      "Epoch 7/10\n",
      "50000/50000 [==============================] - 2s 36us/step - loss: 14.6012 - acc: 0.0937 - val_loss: 14.6265 - val_acc: 0.0921\n",
      "Epoch 8/10\n",
      "50000/50000 [==============================] - 2s 43us/step - loss: 14.5247 - acc: 0.0983 - val_loss: 14.4548 - val_acc: 0.1026\n",
      "Epoch 9/10\n",
      "50000/50000 [==============================] - 2s 50us/step - loss: 14.4815 - acc: 0.1011 - val_loss: 14.4332 - val_acc: 0.1041\n",
      "Epoch 10/10\n",
      "22784/50000 [============>.................] - ETA: 0s - loss: 14.4689 - acc: 0.1019"
     ]
    }
   ],
   "source": [
    "history_d = trainingD(model_vgg_d)"
   ]
  },
  {
   "cell_type": "code",
   "execution_count": null,
   "metadata": {
    "ExecuteTime": {
     "end_time": "2018-11-28T22:41:49.384512Z",
     "start_time": "2018-11-28T22:41:49.197618Z"
    }
   },
   "outputs": [],
   "source": [
    "plotChart('Figura d.1. Loss y Accuracy de entrenamiento y validación de red pre-entrenada.', \n",
    "          history_d.history['loss'], 'Entrenamiento',history_d.history['val_loss'], 'Validación',\n",
    "          history_d.history['acc'], 'Entrenamiento',history_d.history['val_acc'], 'Validación'\n",
    "         )"
   ]
  },
  {
   "cell_type": "markdown",
   "metadata": {},
   "source": [
    "##### Pregunta E."
   ]
  },
  {
   "cell_type": "code",
   "execution_count": null,
   "metadata": {
    "ExecuteTime": {
     "end_time": "2018-11-29T00:10:22.136947Z",
     "start_time": "2018-11-29T00:10:22.133794Z"
    }
   },
   "outputs": [],
   "source": [
    "def modelVGGChangedE(model_vgg):\n",
    "    for i in range(4):\n",
    "        model_vgg.layers.pop() \n",
    "    model = Sequential()\n",
    "    model.add(Flatten(input_shape=features_train.shape[1:]))\n",
    "    model.add(BatchNormalization())\n",
    "    model.add(Dense(1024, activation='relu'))\n",
    "    model.add(BatchNormalization())\n",
    "    model.add(Dropout(0.5))\n",
    "    model.add(Dense(100))\n",
    "    model.add(Activation('softmax'))\n",
    "    return model"
   ]
  },
  {
   "cell_type": "code",
   "execution_count": null,
   "metadata": {
    "ExecuteTime": {
     "end_time": "2018-11-29T00:11:20.308985Z",
     "start_time": "2018-11-29T00:11:02.101049Z"
    }
   },
   "outputs": [],
   "source": [
    "model_vgg_e=modelVGG(x_train, x_test)"
   ]
  },
  {
   "cell_type": "code",
   "execution_count": null,
   "metadata": {
    "ExecuteTime": {
     "end_time": "2018-11-29T00:11:46.349611Z",
     "start_time": "2018-11-29T00:11:46.254101Z"
    }
   },
   "outputs": [],
   "source": [
    "model_vgg_chng_e=modelVGGChangedE(model_vgg_e)"
   ]
  },
  {
   "cell_type": "code",
   "execution_count": null,
   "metadata": {
    "ExecuteTime": {
     "end_time": "2018-11-29T00:12:19.488943Z",
     "start_time": "2018-11-29T00:12:07.172398Z"
    }
   },
   "outputs": [],
   "source": [
    "history_e = trainingD(model_vgg_chng_e)"
   ]
  },
  {
   "cell_type": "code",
   "execution_count": null,
   "metadata": {
    "ExecuteTime": {
     "end_time": "2018-11-29T00:12:45.267725Z",
     "start_time": "2018-11-29T00:12:45.094244Z"
    }
   },
   "outputs": [],
   "source": [
    "plotChart('Figura e.1. Loss y Accuracy de entrenamiento y validación de red pre-entrenada.', \n",
    "          history_e.history['loss'], 'Entrenamiento',history_e.history['val_loss'], 'Validación',\n",
    "          history_e.history['acc'], 'Entrenamiento',history_e.history['val_acc'], 'Validación'\n",
    "         )"
   ]
  },
  {
   "cell_type": "markdown",
   "metadata": {},
   "source": [
    "##### Pregunta F."
   ]
  },
  {
   "cell_type": "code",
   "execution_count": null,
   "metadata": {
    "ExecuteTime": {
     "end_time": "2018-11-29T00:27:25.829855Z",
     "start_time": "2018-11-29T00:27:25.553532Z"
    }
   },
   "outputs": [],
   "source": [
    "x_train_vgg = preprocess_input(x_train)\n",
    "x_test_vgg = preprocess_input(x_test)"
   ]
  },
  {
   "cell_type": "code",
   "execution_count": null,
   "metadata": {
    "ExecuteTime": {
     "end_time": "2018-11-29T00:28:06.667599Z",
     "start_time": "2018-11-29T00:28:05.852108Z"
    }
   },
   "outputs": [],
   "source": [
    "input_tensor=Input(shape=x_train_vgg.shape[1:])\n",
    "model_vgg_f = VGG16(weights='imagenet', include_top=False,input_tensor=input_tensor ) # LOAD PRETRAINED MODEL \n",
    "#modelVGG = VGG16(weights='imagenet', include_top=True,input_tensor=input_tensor ) #LOAD PRETRAINED MODEL "
   ]
  },
  {
   "cell_type": "code",
   "execution_count": null,
   "metadata": {
    "ExecuteTime": {
     "end_time": "2018-11-29T00:28:27.851842Z",
     "start_time": "2018-11-29T00:28:09.791387Z"
    }
   },
   "outputs": [],
   "source": [
    "#model_vgg_f.layers.pop() #delete last softmax layer\n",
    "model_vgg_f.summary()\n",
    "features_train = model_vgg_f.predict(x_train_vgg)\n",
    "features_test = model_vgg_f.predict(x_test_vgg)\n"
   ]
  },
  {
   "cell_type": "code",
   "execution_count": null,
   "metadata": {
    "ExecuteTime": {
     "end_time": "2018-11-29T00:29:20.783362Z",
     "start_time": "2018-11-29T00:29:20.780158Z"
    }
   },
   "outputs": [],
   "source": [
    "def modelVGGChangedF(model_vgg):\n",
    "    model = Sequential()\n",
    "    model.add(Flatten(input_shape=features_train.shape[1:]))\n",
    "    model.add(BatchNormalization())\n",
    "    model.add(Dense(1024, activation='relu'))\n",
    "    model.add(BatchNormalization())\n",
    "    model.add(Dropout(0.5))\n",
    "    model.add(Dense(100))\n",
    "    model.add(Activation('softmax'))\n",
    "    return model"
   ]
  },
  {
   "cell_type": "code",
   "execution_count": null,
   "metadata": {
    "ExecuteTime": {
     "end_time": "2018-11-29T00:29:21.365899Z",
     "start_time": "2018-11-29T00:29:21.237662Z"
    }
   },
   "outputs": [],
   "source": [
    "model_f = modelVGGChangedF(model_vgg_f);"
   ]
  },
  {
   "cell_type": "code",
   "execution_count": null,
   "metadata": {
    "ExecuteTime": {
     "end_time": "2018-11-29T00:29:35.345951Z",
     "start_time": "2018-11-29T00:29:21.744139Z"
    }
   },
   "outputs": [],
   "source": [
    "history_f = trainingD(model_f)"
   ]
  },
  {
   "cell_type": "code",
   "execution_count": null,
   "metadata": {
    "ExecuteTime": {
     "end_time": "2018-11-29T00:29:35.516337Z",
     "start_time": "2018-11-29T00:29:35.347098Z"
    }
   },
   "outputs": [],
   "source": [
    "plotChart('Figura f.1. Loss y Accuracy de entrenamiento y validación de red pre-entrenada.', \n",
    "          history_f.history['loss'], 'Entrenamiento',history_f.history['val_loss'], 'Validación',\n",
    "          history_f.history['acc'], 'Entrenamiento',history_f.history['val_acc'], 'Validación'\n",
    "         )"
   ]
  },
  {
   "cell_type": "markdown",
   "metadata": {
    "ExecuteTime": {
     "end_time": "2018-11-29T00:29:53.831242Z",
     "start_time": "2018-11-29T00:29:53.828318Z"
    }
   },
   "source": [
    "##### Pregunta G."
   ]
  },
  {
   "cell_type": "markdown",
   "metadata": {},
   "source": [
    "Responder"
   ]
  },
  {
   "cell_type": "code",
   "execution_count": null,
   "metadata": {},
   "outputs": [],
   "source": []
  }
 ],
 "metadata": {
  "kernelspec": {
   "display_name": "Python 3",
   "language": "python",
   "name": "python3"
  },
  "language_info": {
   "codemirror_mode": {
    "name": "ipython",
    "version": 3
   },
   "file_extension": ".py",
   "mimetype": "text/x-python",
   "name": "python",
   "nbconvert_exporter": "python",
   "pygments_lexer": "ipython3",
   "version": "3.5.6"
  }
 },
 "nbformat": 4,
 "nbformat_minor": 2
}
